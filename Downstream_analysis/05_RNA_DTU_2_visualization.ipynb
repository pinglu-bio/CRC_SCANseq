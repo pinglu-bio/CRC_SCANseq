{
 "cells": [
  {
   "cell_type": "code",
   "execution_count": 63,
   "id": "76a52aa1-af51-49b2-b99a-c988e175605f",
   "metadata": {},
   "outputs": [],
   "source": [
    "options(stringsAsFactors = FALSE)\n",
    "suppressMessages({\n",
    "  library(dplyr)\n",
    "  library(readr)\n",
    "  library(ggplot2)\n",
    "  library(ggsci)\n",
    "  library(Seurat)\n",
    "  library(scales)\n",
    "  library(reshape2)\n",
    "\n",
    "  library(IsoformSwitchAnalyzeR)\n",
    "  library(BSgenome.Hsapiens.UCSC.hg38)\n",
    "  library(Biostrings)\n",
    "\n",
    "  library(pheatmap)\n",
    "})"
   ]
  },
  {
   "cell_type": "code",
   "execution_count": 64,
   "id": "c6238752-ff45-427c-bf89-5e37d5a6d963",
   "metadata": {
    "lines_to_next_cell": 2
   },
   "outputs": [],
   "source": [
    "mytheme <- ggplot2::theme(\n",
    "  plot.background = element_blank(),\n",
    "  panel.background = element_rect(fill = \"#FFFFFF\"),\n",
    "  legend.background = element_blank(),\n",
    "  legend.box.background = element_blank(),\n",
    "  panel.border = element_rect(linetype = \"solid\", colour = \"black\", fill = NA, size = 0.5),\n",
    "  panel.grid.major = element_blank(), # element_line(colour = \"#f0f0f0\", linetype = \"dashed\"),\n",
    "  panel.grid.minor = element_blank(),\n",
    "  axis.line = element_blank(), axis.text = element_text(colour = \"black\")\n",
    ")\n",
    "\n",
    "color <- c(c(pal_d3(\"category20\")(20), \"#B52D73\", \"#4347B5\", \"#4FED28\", \"#402727\", \"#48959C\", \"#FC6262\", \"#4A9EFF\", \"#9E969E\"))"
   ]
  },
  {
   "cell_type": "code",
   "execution_count": 185,
   "id": "bbd7fccd-9be8-4423-97d1-e4b215aab62d",
   "metadata": {
    "lines_to_next_cell": 2
   },
   "outputs": [],
   "source": [
    "ont <- readRDS(file = \"/gpfs1/tangfuchou_pkuhpc/tangfuchou_cls/luping/project/ont_iso_crc/2_RNA_CRC/01_RNA_analysis/CRC_HTCRC_02_RNA_seurat/CRC_HTCRC_01_RNA_5400_3262_tx/00_tx_5400_3262_hvg1869_PC1_20.rds\")"
   ]
  },
  {
   "cell_type": "code",
   "execution_count": 11,
   "id": "27f4cbf9-2846-4d3b-804f-4e6829a7b6dd",
   "metadata": {},
   "outputs": [],
   "source": [
    "df_dtu <- read.table(file = \"../02_DTU_tx_each_patient_final_DTUgenes.txt\", header = T, sep = \"\\t\", check.names = F)"
   ]
  },
  {
   "cell_type": "markdown",
   "id": "435e7486-5693-405c-8018-75443576394b",
   "metadata": {},
   "source": [
    "#  boxplot (log2(TPM+1) and Proportion)"
   ]
  },
  {
   "cell_type": "markdown",
   "id": "e5f2d8e0-3890-450e-908c-b28d2d8e6554",
   "metadata": {},
   "source": [
    "## THAP4"
   ]
  },
  {
   "cell_type": "code",
   "execution_count": 8,
   "id": "bfccb2a1-3f6f-4cad-a48a-1682923ca81d",
   "metadata": {},
   "outputs": [
    {
     "data": {
      "text/html": [
       "<table class=\"dataframe\">\n",
       "<caption>A data.frame: 10 × 197</caption>\n",
       "<thead>\n",
       "\t<tr><th scope=col>GeneID</th><th scope=col>TranID</th><th scope=col>TranName</th><th scope=col>GeneName</th><th scope=col>patient</th><th scope=col>ave_tx_Prop_stemTAlike_minus_stemTA</th><th scope=col>max_in_allpatients</th><th scope=col>max(Stem/TA-like-Stem/TA)</th><th scope=col>DTU_tx_nPatients</th><th scope=col>DTU_gene_nPatients</th><th scope=col>⋯</th><th scope=col>tx_LoVo</th><th scope=col>tx_SW480</th><th scope=col>gene_HCT116</th><th scope=col>gene_HT29</th><th scope=col>gene_LoVo</th><th scope=col>gene_SW480</th><th scope=col>P_ave_tx_Prop_stemTAlike_minus_stemTA</th><th scope=col>P_tx_npatients</th><th scope=col>P_tx_ntx</th><th scope=col>DTU_tx_nPatients_1</th></tr>\n",
       "\t<tr><th scope=col>&lt;chr&gt;</th><th scope=col>&lt;chr&gt;</th><th scope=col>&lt;chr&gt;</th><th scope=col>&lt;chr&gt;</th><th scope=col>&lt;chr&gt;</th><th scope=col>&lt;dbl&gt;</th><th scope=col>&lt;dbl&gt;</th><th scope=col>&lt;dbl&gt;</th><th scope=col>&lt;int&gt;</th><th scope=col>&lt;int&gt;</th><th scope=col>⋯</th><th scope=col>&lt;dbl&gt;</th><th scope=col>&lt;dbl&gt;</th><th scope=col>&lt;dbl&gt;</th><th scope=col>&lt;dbl&gt;</th><th scope=col>&lt;dbl&gt;</th><th scope=col>&lt;dbl&gt;</th><th scope=col>&lt;dbl&gt;</th><th scope=col>&lt;int&gt;</th><th scope=col>&lt;int&gt;</th><th scope=col>&lt;int&gt;</th></tr>\n",
       "</thead>\n",
       "<tbody>\n",
       "\t<tr><td>ENSG00000176946</td><td>ENST00000407315</td><td>THAP4-204</td><td>THAP4</td><td>CRC01  </td><td>0.838</td><td>0.5990296</td><td>-0.5990296</td><td>10</td><td>10</td><td>⋯</td><td>51.19614</td><td>42.60499</td><td>38.86657</td><td>42.38607</td><td>51.53252</td><td>43.10456</td><td>0.4291</td><td>10</td><td>2</td><td>10</td></tr>\n",
       "\t<tr><td>ENSG00000176946</td><td>ENST00000407315</td><td>THAP4-204</td><td>THAP4</td><td>CRC02  </td><td>0.474</td><td>0.5990296</td><td>-0.5826341</td><td>10</td><td>10</td><td>⋯</td><td>51.19614</td><td>42.60499</td><td>38.86657</td><td>42.38607</td><td>51.53252</td><td>43.10456</td><td>0.4291</td><td>10</td><td>2</td><td>10</td></tr>\n",
       "\t<tr><td>ENSG00000176946</td><td>ENST00000407315</td><td>THAP4-204</td><td>THAP4</td><td>CRC03  </td><td>0.371</td><td>0.5990296</td><td>-0.3683397</td><td>10</td><td>10</td><td>⋯</td><td>51.19614</td><td>42.60499</td><td>38.86657</td><td>42.38607</td><td>51.53252</td><td>43.10456</td><td>0.4291</td><td>10</td><td>2</td><td>10</td></tr>\n",
       "\t<tr><td>ENSG00000176946</td><td>ENST00000407315</td><td>THAP4-204</td><td>THAP4</td><td>CRC04  </td><td>0.414</td><td>0.5990296</td><td>-0.5883947</td><td>10</td><td>10</td><td>⋯</td><td>51.19614</td><td>42.60499</td><td>38.86657</td><td>42.38607</td><td>51.53252</td><td>43.10456</td><td>0.4291</td><td>10</td><td>2</td><td>10</td></tr>\n",
       "\t<tr><td>ENSG00000176946</td><td>ENST00000407315</td><td>THAP4-204</td><td>THAP4</td><td>CRC05  </td><td>0.554</td><td>0.5990296</td><td>-0.5950333</td><td>10</td><td>10</td><td>⋯</td><td>51.19614</td><td>42.60499</td><td>38.86657</td><td>42.38607</td><td>51.53252</td><td>43.10456</td><td>0.4291</td><td>10</td><td>2</td><td>10</td></tr>\n",
       "\t<tr><td>ENSG00000176946</td><td>ENST00000407315</td><td>THAP4-204</td><td>THAP4</td><td>CRC07  </td><td>0.377</td><td>0.5990296</td><td>-0.4539779</td><td>10</td><td>10</td><td>⋯</td><td>51.19614</td><td>42.60499</td><td>38.86657</td><td>42.38607</td><td>51.53252</td><td>43.10456</td><td>0.4291</td><td>10</td><td>2</td><td>10</td></tr>\n",
       "\t<tr><td>ENSG00000176946</td><td>ENST00000407315</td><td>THAP4-204</td><td>THAP4</td><td>CRC08  </td><td>0.554</td><td>0.5990296</td><td>-0.5165198</td><td>10</td><td>10</td><td>⋯</td><td>51.19614</td><td>42.60499</td><td>38.86657</td><td>42.38607</td><td>51.53252</td><td>43.10456</td><td>0.4291</td><td>10</td><td>2</td><td>10</td></tr>\n",
       "\t<tr><td>ENSG00000176946</td><td>ENST00000407315</td><td>THAP4-204</td><td>THAP4</td><td>CRC09  </td><td>0.339</td><td>0.5990296</td><td>-0.4848324</td><td>10</td><td>10</td><td>⋯</td><td>51.19614</td><td>42.60499</td><td>38.86657</td><td>42.38607</td><td>51.53252</td><td>43.10456</td><td>0.4291</td><td>10</td><td>2</td><td>10</td></tr>\n",
       "\t<tr><td>ENSG00000176946</td><td>ENST00000407315</td><td>THAP4-204</td><td>THAP4</td><td>CRC10  </td><td>0.232</td><td>0.5990296</td><td>-0.3929876</td><td>10</td><td>10</td><td>⋯</td><td>51.19614</td><td>42.60499</td><td>38.86657</td><td>42.38607</td><td>51.53252</td><td>43.10456</td><td>0.4291</td><td>10</td><td>2</td><td>10</td></tr>\n",
       "\t<tr><td>ENSG00000176946</td><td>ENST00000407315</td><td>THAP4-204</td><td>THAP4</td><td>HTCRC04</td><td>0.138</td><td>0.5990296</td><td>-0.3716610</td><td>10</td><td>10</td><td>⋯</td><td>51.19614</td><td>42.60499</td><td>38.86657</td><td>42.38607</td><td>51.53252</td><td>43.10456</td><td>0.4291</td><td>10</td><td>2</td><td>10</td></tr>\n",
       "</tbody>\n",
       "</table>\n"
      ],
      "text/latex": [
       "A data.frame: 10 × 197\n",
       "\\begin{tabular}{lllllllllllllllllllll}\n",
       " GeneID & TranID & TranName & GeneName & patient & ave\\_tx\\_Prop\\_stemTAlike\\_minus\\_stemTA & max\\_in\\_allpatients & max(Stem/TA-like-Stem/TA) & DTU\\_tx\\_nPatients & DTU\\_gene\\_nPatients & ⋯ & tx\\_LoVo & tx\\_SW480 & gene\\_HCT116 & gene\\_HT29 & gene\\_LoVo & gene\\_SW480 & P\\_ave\\_tx\\_Prop\\_stemTAlike\\_minus\\_stemTA & P\\_tx\\_npatients & P\\_tx\\_ntx & DTU\\_tx\\_nPatients\\_1\\\\\n",
       " <chr> & <chr> & <chr> & <chr> & <chr> & <dbl> & <dbl> & <dbl> & <int> & <int> & ⋯ & <dbl> & <dbl> & <dbl> & <dbl> & <dbl> & <dbl> & <dbl> & <int> & <int> & <int>\\\\\n",
       "\\hline\n",
       "\t ENSG00000176946 & ENST00000407315 & THAP4-204 & THAP4 & CRC01   & 0.838 & 0.5990296 & -0.5990296 & 10 & 10 & ⋯ & 51.19614 & 42.60499 & 38.86657 & 42.38607 & 51.53252 & 43.10456 & 0.4291 & 10 & 2 & 10\\\\\n",
       "\t ENSG00000176946 & ENST00000407315 & THAP4-204 & THAP4 & CRC02   & 0.474 & 0.5990296 & -0.5826341 & 10 & 10 & ⋯ & 51.19614 & 42.60499 & 38.86657 & 42.38607 & 51.53252 & 43.10456 & 0.4291 & 10 & 2 & 10\\\\\n",
       "\t ENSG00000176946 & ENST00000407315 & THAP4-204 & THAP4 & CRC03   & 0.371 & 0.5990296 & -0.3683397 & 10 & 10 & ⋯ & 51.19614 & 42.60499 & 38.86657 & 42.38607 & 51.53252 & 43.10456 & 0.4291 & 10 & 2 & 10\\\\\n",
       "\t ENSG00000176946 & ENST00000407315 & THAP4-204 & THAP4 & CRC04   & 0.414 & 0.5990296 & -0.5883947 & 10 & 10 & ⋯ & 51.19614 & 42.60499 & 38.86657 & 42.38607 & 51.53252 & 43.10456 & 0.4291 & 10 & 2 & 10\\\\\n",
       "\t ENSG00000176946 & ENST00000407315 & THAP4-204 & THAP4 & CRC05   & 0.554 & 0.5990296 & -0.5950333 & 10 & 10 & ⋯ & 51.19614 & 42.60499 & 38.86657 & 42.38607 & 51.53252 & 43.10456 & 0.4291 & 10 & 2 & 10\\\\\n",
       "\t ENSG00000176946 & ENST00000407315 & THAP4-204 & THAP4 & CRC07   & 0.377 & 0.5990296 & -0.4539779 & 10 & 10 & ⋯ & 51.19614 & 42.60499 & 38.86657 & 42.38607 & 51.53252 & 43.10456 & 0.4291 & 10 & 2 & 10\\\\\n",
       "\t ENSG00000176946 & ENST00000407315 & THAP4-204 & THAP4 & CRC08   & 0.554 & 0.5990296 & -0.5165198 & 10 & 10 & ⋯ & 51.19614 & 42.60499 & 38.86657 & 42.38607 & 51.53252 & 43.10456 & 0.4291 & 10 & 2 & 10\\\\\n",
       "\t ENSG00000176946 & ENST00000407315 & THAP4-204 & THAP4 & CRC09   & 0.339 & 0.5990296 & -0.4848324 & 10 & 10 & ⋯ & 51.19614 & 42.60499 & 38.86657 & 42.38607 & 51.53252 & 43.10456 & 0.4291 & 10 & 2 & 10\\\\\n",
       "\t ENSG00000176946 & ENST00000407315 & THAP4-204 & THAP4 & CRC10   & 0.232 & 0.5990296 & -0.3929876 & 10 & 10 & ⋯ & 51.19614 & 42.60499 & 38.86657 & 42.38607 & 51.53252 & 43.10456 & 0.4291 & 10 & 2 & 10\\\\\n",
       "\t ENSG00000176946 & ENST00000407315 & THAP4-204 & THAP4 & HTCRC04 & 0.138 & 0.5990296 & -0.3716610 & 10 & 10 & ⋯ & 51.19614 & 42.60499 & 38.86657 & 42.38607 & 51.53252 & 43.10456 & 0.4291 & 10 & 2 & 10\\\\\n",
       "\\end{tabular}\n"
      ],
      "text/markdown": [
       "\n",
       "A data.frame: 10 × 197\n",
       "\n",
       "| GeneID &lt;chr&gt; | TranID &lt;chr&gt; | TranName &lt;chr&gt; | GeneName &lt;chr&gt; | patient &lt;chr&gt; | ave_tx_Prop_stemTAlike_minus_stemTA &lt;dbl&gt; | max_in_allpatients &lt;dbl&gt; | max(Stem/TA-like-Stem/TA) &lt;dbl&gt; | DTU_tx_nPatients &lt;int&gt; | DTU_gene_nPatients &lt;int&gt; | ⋯ ⋯ | tx_LoVo &lt;dbl&gt; | tx_SW480 &lt;dbl&gt; | gene_HCT116 &lt;dbl&gt; | gene_HT29 &lt;dbl&gt; | gene_LoVo &lt;dbl&gt; | gene_SW480 &lt;dbl&gt; | P_ave_tx_Prop_stemTAlike_minus_stemTA &lt;dbl&gt; | P_tx_npatients &lt;int&gt; | P_tx_ntx &lt;int&gt; | DTU_tx_nPatients_1 &lt;int&gt; |\n",
       "|---|---|---|---|---|---|---|---|---|---|---|---|---|---|---|---|---|---|---|---|---|\n",
       "| ENSG00000176946 | ENST00000407315 | THAP4-204 | THAP4 | CRC01   | 0.838 | 0.5990296 | -0.5990296 | 10 | 10 | ⋯ | 51.19614 | 42.60499 | 38.86657 | 42.38607 | 51.53252 | 43.10456 | 0.4291 | 10 | 2 | 10 |\n",
       "| ENSG00000176946 | ENST00000407315 | THAP4-204 | THAP4 | CRC02   | 0.474 | 0.5990296 | -0.5826341 | 10 | 10 | ⋯ | 51.19614 | 42.60499 | 38.86657 | 42.38607 | 51.53252 | 43.10456 | 0.4291 | 10 | 2 | 10 |\n",
       "| ENSG00000176946 | ENST00000407315 | THAP4-204 | THAP4 | CRC03   | 0.371 | 0.5990296 | -0.3683397 | 10 | 10 | ⋯ | 51.19614 | 42.60499 | 38.86657 | 42.38607 | 51.53252 | 43.10456 | 0.4291 | 10 | 2 | 10 |\n",
       "| ENSG00000176946 | ENST00000407315 | THAP4-204 | THAP4 | CRC04   | 0.414 | 0.5990296 | -0.5883947 | 10 | 10 | ⋯ | 51.19614 | 42.60499 | 38.86657 | 42.38607 | 51.53252 | 43.10456 | 0.4291 | 10 | 2 | 10 |\n",
       "| ENSG00000176946 | ENST00000407315 | THAP4-204 | THAP4 | CRC05   | 0.554 | 0.5990296 | -0.5950333 | 10 | 10 | ⋯ | 51.19614 | 42.60499 | 38.86657 | 42.38607 | 51.53252 | 43.10456 | 0.4291 | 10 | 2 | 10 |\n",
       "| ENSG00000176946 | ENST00000407315 | THAP4-204 | THAP4 | CRC07   | 0.377 | 0.5990296 | -0.4539779 | 10 | 10 | ⋯ | 51.19614 | 42.60499 | 38.86657 | 42.38607 | 51.53252 | 43.10456 | 0.4291 | 10 | 2 | 10 |\n",
       "| ENSG00000176946 | ENST00000407315 | THAP4-204 | THAP4 | CRC08   | 0.554 | 0.5990296 | -0.5165198 | 10 | 10 | ⋯ | 51.19614 | 42.60499 | 38.86657 | 42.38607 | 51.53252 | 43.10456 | 0.4291 | 10 | 2 | 10 |\n",
       "| ENSG00000176946 | ENST00000407315 | THAP4-204 | THAP4 | CRC09   | 0.339 | 0.5990296 | -0.4848324 | 10 | 10 | ⋯ | 51.19614 | 42.60499 | 38.86657 | 42.38607 | 51.53252 | 43.10456 | 0.4291 | 10 | 2 | 10 |\n",
       "| ENSG00000176946 | ENST00000407315 | THAP4-204 | THAP4 | CRC10   | 0.232 | 0.5990296 | -0.3929876 | 10 | 10 | ⋯ | 51.19614 | 42.60499 | 38.86657 | 42.38607 | 51.53252 | 43.10456 | 0.4291 | 10 | 2 | 10 |\n",
       "| ENSG00000176946 | ENST00000407315 | THAP4-204 | THAP4 | HTCRC04 | 0.138 | 0.5990296 | -0.3716610 | 10 | 10 | ⋯ | 51.19614 | 42.60499 | 38.86657 | 42.38607 | 51.53252 | 43.10456 | 0.4291 | 10 | 2 | 10 |\n",
       "\n"
      ],
      "text/plain": [
       "   GeneID          TranID          TranName  GeneName patient\n",
       "1  ENSG00000176946 ENST00000407315 THAP4-204 THAP4    CRC01  \n",
       "2  ENSG00000176946 ENST00000407315 THAP4-204 THAP4    CRC02  \n",
       "3  ENSG00000176946 ENST00000407315 THAP4-204 THAP4    CRC03  \n",
       "4  ENSG00000176946 ENST00000407315 THAP4-204 THAP4    CRC04  \n",
       "5  ENSG00000176946 ENST00000407315 THAP4-204 THAP4    CRC05  \n",
       "6  ENSG00000176946 ENST00000407315 THAP4-204 THAP4    CRC07  \n",
       "7  ENSG00000176946 ENST00000407315 THAP4-204 THAP4    CRC08  \n",
       "8  ENSG00000176946 ENST00000407315 THAP4-204 THAP4    CRC09  \n",
       "9  ENSG00000176946 ENST00000407315 THAP4-204 THAP4    CRC10  \n",
       "10 ENSG00000176946 ENST00000407315 THAP4-204 THAP4    HTCRC04\n",
       "   ave_tx_Prop_stemTAlike_minus_stemTA max_in_allpatients\n",
       "1  0.838                               0.5990296         \n",
       "2  0.474                               0.5990296         \n",
       "3  0.371                               0.5990296         \n",
       "4  0.414                               0.5990296         \n",
       "5  0.554                               0.5990296         \n",
       "6  0.377                               0.5990296         \n",
       "7  0.554                               0.5990296         \n",
       "8  0.339                               0.5990296         \n",
       "9  0.232                               0.5990296         \n",
       "10 0.138                               0.5990296         \n",
       "   max(Stem/TA-like-Stem/TA) DTU_tx_nPatients DTU_gene_nPatients ⋯ tx_LoVo \n",
       "1  -0.5990296                10               10                 ⋯ 51.19614\n",
       "2  -0.5826341                10               10                 ⋯ 51.19614\n",
       "3  -0.3683397                10               10                 ⋯ 51.19614\n",
       "4  -0.5883947                10               10                 ⋯ 51.19614\n",
       "5  -0.5950333                10               10                 ⋯ 51.19614\n",
       "6  -0.4539779                10               10                 ⋯ 51.19614\n",
       "7  -0.5165198                10               10                 ⋯ 51.19614\n",
       "8  -0.4848324                10               10                 ⋯ 51.19614\n",
       "9  -0.3929876                10               10                 ⋯ 51.19614\n",
       "10 -0.3716610                10               10                 ⋯ 51.19614\n",
       "   tx_SW480 gene_HCT116 gene_HT29 gene_LoVo gene_SW480\n",
       "1  42.60499 38.86657    42.38607  51.53252  43.10456  \n",
       "2  42.60499 38.86657    42.38607  51.53252  43.10456  \n",
       "3  42.60499 38.86657    42.38607  51.53252  43.10456  \n",
       "4  42.60499 38.86657    42.38607  51.53252  43.10456  \n",
       "5  42.60499 38.86657    42.38607  51.53252  43.10456  \n",
       "6  42.60499 38.86657    42.38607  51.53252  43.10456  \n",
       "7  42.60499 38.86657    42.38607  51.53252  43.10456  \n",
       "8  42.60499 38.86657    42.38607  51.53252  43.10456  \n",
       "9  42.60499 38.86657    42.38607  51.53252  43.10456  \n",
       "10 42.60499 38.86657    42.38607  51.53252  43.10456  \n",
       "   P_ave_tx_Prop_stemTAlike_minus_stemTA P_tx_npatients P_tx_ntx\n",
       "1  0.4291                                10             2       \n",
       "2  0.4291                                10             2       \n",
       "3  0.4291                                10             2       \n",
       "4  0.4291                                10             2       \n",
       "5  0.4291                                10             2       \n",
       "6  0.4291                                10             2       \n",
       "7  0.4291                                10             2       \n",
       "8  0.4291                                10             2       \n",
       "9  0.4291                                10             2       \n",
       "10 0.4291                                10             2       \n",
       "   DTU_tx_nPatients_1\n",
       "1  10                \n",
       "2  10                \n",
       "3  10                \n",
       "4  10                \n",
       "5  10                \n",
       "6  10                \n",
       "7  10                \n",
       "8  10                \n",
       "9  10                \n",
       "10 10                "
      ]
     },
     "metadata": {},
     "output_type": "display_data"
    }
   ],
   "source": [
    "(df_dtu %>% filter(GeneName %in% \"THAP4\", TranName %in% \"THAP4-204\") %>% arrange(patient))"
   ]
  },
  {
   "cell_type": "code",
   "execution_count": 19,
   "id": "d032710c-7c2b-44b4-9320-d25f35cbbbf9",
   "metadata": {},
   "outputs": [
    {
     "name": "stderr",
     "output_type": "stream",
     "text": [
      "\n",
      "\u001b[36m──\u001b[39m \u001b[1mColumn specification\u001b[22m \u001b[36m──────────────────────────────────────────────────────────────────────────────────────────────────────────────────────────────────────────────────────────────────────────────────────────────────────────────────────\u001b[39m\n",
      "cols(\n",
      "  TranName = \u001b[31mcol_character()\u001b[39m,\n",
      "  CellName = \u001b[31mcol_character()\u001b[39m,\n",
      "  TPM = \u001b[32mcol_double()\u001b[39m,\n",
      "  patient = \u001b[31mcol_character()\u001b[39m,\n",
      "  celltype3_1 = \u001b[31mcol_character()\u001b[39m,\n",
      "  data = \u001b[31mcol_character()\u001b[39m,\n",
      "  GeneName = \u001b[31mcol_character()\u001b[39m,\n",
      "  Proportion = \u001b[32mcol_double()\u001b[39m\n",
      ")\n",
      "\n"
     ]
    }
   ],
   "source": [
    "df_tpm_prop <- read_table(file = \"../00_tx_tpm_prop_LongFormat_in_celltype3_each_patient.txt\") %>%\n",
    "  filter(TranName %in% c(\"THAP4-204\", \"THAP4-202\"), patient %in% c(\n",
    "    c(\"CRC01\", \"CRC02\", \"CRC03\", \"CRC04\", \"CRC05\", \"CRC07\", \"CRC8\", \"CRC09\", \"CRC10\")\n",
    "  )) %>%\n",
    "  as.data.frame() %>%\n",
    "  filter(!is.na(Proportion))"
   ]
  },
  {
   "cell_type": "code",
   "execution_count": 20,
   "id": "1cb0e3c6-7993-4b94-ac3d-92281068a0db",
   "metadata": {},
   "outputs": [
    {
     "data": {
      "image/png": "[encoded data removed]",
      "text/plain": [
       "plot without title"
      ]
     },
     "metadata": {
      "image/png": {
       "height": 420,
       "width": 420
      }
     },
     "output_type": "display_data"
    }
   ],
   "source": [
    "df_plot <- df_tpm_prop\n",
    "df_plot$TPM <- log2(df_plot$TPM + 1)\n",
    "df_plot <- df_plot[, c(\"TranName\", \"CellName\", \"patient\", \"celltype3_1\", \"data\", \"TPM\", \"Proportion\")]\n",
    "colnames(df_plot) <- c(\"TranName\", \"CellName\", \"patient\", \"celltype3_1\", \"data\", \"log2(TPM+1)\", \"Proportion\")\n",
    "df_plot <- melt(df_plot, id = c(\"TranName\", \"CellName\", \"patient\", \"celltype3_1\", \"data\"))\n",
    "df_plot$celltype <- sapply(strsplit(df_plot$celltype3_1, split = \"_\"), function(x) {\n",
    "  x[1]\n",
    "})\n",
    "df_plot$TranName <- factor(as.character(df_plot$TranName), levels = c(\"THAP4-204\", \"THAP4-202\"))\n",
    "df_plot$variable <- factor(as.character(df_plot$variable), levels = c(\"log2(TPM+1)\", \"Proportion\")) # TPM is log2(TPM+1)\n",
    "ggplot(df_plot, aes(x = celltype, y = value, color = TranName)) +\n",
    "  geom_boxplot(outlier.shape = NA, position = position_dodge(0.6), width = 0.5) + # coord_flip()+\n",
    "  stat_summary(fun.y = mean, position = position_dodge(0.75), geom = \"point\", shape = 18, size = 2, show.legend = FALSE) +\n",
    "  scale_color_manual(values = rev(c(\"#4daf4a\", \"#377eb8\", \"#666666\", \"#f781bf\"))) +\n",
    "  facet_wrap(~variable, scales = \"free\") +\n",
    "  mytheme +\n",
    "  theme(aspect.ratio = 1, legend.position = \"top\", axis.title = element_blank())\n",
    "ggsave(file = \"02_barplot_THAP4.pdf\", width = 4, height = 3)"
   ]
  },
  {
   "cell_type": "markdown",
   "id": "d7dd5e2f-d75f-4108-939b-e62bae22f591",
   "metadata": {},
   "source": [
    "## MYC"
   ]
  },
  {
   "cell_type": "code",
   "execution_count": 51,
   "id": "d1c2c064-8bb8-418e-93dd-2203ee787003",
   "metadata": {},
   "outputs": [
    {
     "data": {
      "text/html": [
       "<table class=\"dataframe\">\n",
       "<caption>A data.frame: 9 × 197</caption>\n",
       "<thead>\n",
       "\t<tr><th scope=col>GeneID</th><th scope=col>TranID</th><th scope=col>TranName</th><th scope=col>GeneName</th><th scope=col>patient</th><th scope=col>ave_tx_Prop_stemTAlike_minus_stemTA</th><th scope=col>max_in_allpatients</th><th scope=col>max(Stem/TA-like-Stem/TA)</th><th scope=col>DTU_tx_nPatients</th><th scope=col>DTU_gene_nPatients</th><th scope=col>⋯</th><th scope=col>tx_LoVo</th><th scope=col>tx_SW480</th><th scope=col>gene_HCT116</th><th scope=col>gene_HT29</th><th scope=col>gene_LoVo</th><th scope=col>gene_SW480</th><th scope=col>P_ave_tx_Prop_stemTAlike_minus_stemTA</th><th scope=col>P_tx_npatients</th><th scope=col>P_tx_ntx</th><th scope=col>DTU_tx_nPatients_1</th></tr>\n",
       "\t<tr><th scope=col>&lt;chr&gt;</th><th scope=col>&lt;chr&gt;</th><th scope=col>&lt;chr&gt;</th><th scope=col>&lt;chr&gt;</th><th scope=col>&lt;chr&gt;</th><th scope=col>&lt;dbl&gt;</th><th scope=col>&lt;dbl&gt;</th><th scope=col>&lt;dbl&gt;</th><th scope=col>&lt;int&gt;</th><th scope=col>&lt;int&gt;</th><th scope=col>⋯</th><th scope=col>&lt;dbl&gt;</th><th scope=col>&lt;dbl&gt;</th><th scope=col>&lt;dbl&gt;</th><th scope=col>&lt;dbl&gt;</th><th scope=col>&lt;dbl&gt;</th><th scope=col>&lt;dbl&gt;</th><th scope=col>&lt;dbl&gt;</th><th scope=col>&lt;int&gt;</th><th scope=col>&lt;int&gt;</th><th scope=col>&lt;int&gt;</th></tr>\n",
       "</thead>\n",
       "<tbody>\n",
       "\t<tr><td>ENSG00000136997</td><td>ENST00000621592</td><td>MYC-206</td><td>MYC</td><td>CRC01  </td><td>-0.286</td><td>0.3453979</td><td> 0.2544570</td><td>10</td><td>10</td><td>⋯</td><td>7.796734</td><td>7.12143</td><td>206.4205</td><td>183.6363</td><td>201.4254</td><td>135.0382</td><td>-0.2705556</td><td>10</td><td>2</td><td>9</td></tr>\n",
       "\t<tr><td>ENSG00000136997</td><td>ENST00000621592</td><td>MYC-206</td><td>MYC</td><td>CRC02  </td><td>-0.655</td><td>0.3453979</td><td>-0.2372174</td><td>10</td><td>10</td><td>⋯</td><td>7.796734</td><td>7.12143</td><td>206.4205</td><td>183.6363</td><td>201.4254</td><td>135.0382</td><td>-0.2705556</td><td>10</td><td>2</td><td>9</td></tr>\n",
       "\t<tr><td>ENSG00000136997</td><td>ENST00000621592</td><td>MYC-206</td><td>MYC</td><td>CRC04  </td><td>-0.290</td><td>0.3453979</td><td>-0.2599011</td><td>10</td><td>10</td><td>⋯</td><td>7.796734</td><td>7.12143</td><td>206.4205</td><td>183.6363</td><td>201.4254</td><td>135.0382</td><td>-0.2705556</td><td>10</td><td>2</td><td>9</td></tr>\n",
       "\t<tr><td>ENSG00000136997</td><td>ENST00000621592</td><td>MYC-206</td><td>MYC</td><td>CRC05  </td><td>-0.222</td><td>0.3453979</td><td>-0.2538613</td><td>10</td><td>10</td><td>⋯</td><td>7.796734</td><td>7.12143</td><td>206.4205</td><td>183.6363</td><td>201.4254</td><td>135.0382</td><td>-0.2705556</td><td>10</td><td>2</td><td>9</td></tr>\n",
       "\t<tr><td>ENSG00000136997</td><td>ENST00000621592</td><td>MYC-206</td><td>MYC</td><td>CRC09  </td><td>-0.274</td><td>0.3453979</td><td> 0.1773402</td><td>10</td><td>10</td><td>⋯</td><td>7.796734</td><td>7.12143</td><td>206.4205</td><td>183.6363</td><td>201.4254</td><td>135.0382</td><td>-0.2705556</td><td>10</td><td>2</td><td>9</td></tr>\n",
       "\t<tr><td>ENSG00000136997</td><td>ENST00000621592</td><td>MYC-206</td><td>MYC</td><td>CRC10  </td><td>-0.217</td><td>0.3453979</td><td>-0.1818549</td><td>10</td><td>10</td><td>⋯</td><td>7.796734</td><td>7.12143</td><td>206.4205</td><td>183.6363</td><td>201.4254</td><td>135.0382</td><td>-0.2705556</td><td>10</td><td>2</td><td>9</td></tr>\n",
       "\t<tr><td>ENSG00000136997</td><td>ENST00000621592</td><td>MYC-206</td><td>MYC</td><td>HTCRC01</td><td>-0.593</td><td>0.3453979</td><td>-0.2032201</td><td>10</td><td>10</td><td>⋯</td><td>7.796734</td><td>7.12143</td><td>206.4205</td><td>183.6363</td><td>201.4254</td><td>135.0382</td><td>-0.2705556</td><td>10</td><td>2</td><td>9</td></tr>\n",
       "\t<tr><td>ENSG00000136997</td><td>ENST00000621592</td><td>MYC-206</td><td>MYC</td><td>HTCRC04</td><td> 0.207</td><td>0.3453979</td><td>-0.3453979</td><td>10</td><td>10</td><td>⋯</td><td>7.796734</td><td>7.12143</td><td>206.4205</td><td>183.6363</td><td>201.4254</td><td>135.0382</td><td>-0.2705556</td><td>10</td><td>2</td><td>9</td></tr>\n",
       "\t<tr><td>ENSG00000136997</td><td>ENST00000621592</td><td>MYC-206</td><td>MYC</td><td>HTCRC05</td><td>-0.105</td><td>0.3453979</td><td>-0.2198064</td><td>10</td><td>10</td><td>⋯</td><td>7.796734</td><td>7.12143</td><td>206.4205</td><td>183.6363</td><td>201.4254</td><td>135.0382</td><td>-0.2705556</td><td>10</td><td>2</td><td>9</td></tr>\n",
       "</tbody>\n",
       "</table>\n"
      ],
      "text/latex": [
       "A data.frame: 9 × 197\n",
       "\\begin{tabular}{lllllllllllllllllllll}\n",
       " GeneID & TranID & TranName & GeneName & patient & ave\\_tx\\_Prop\\_stemTAlike\\_minus\\_stemTA & max\\_in\\_allpatients & max(Stem/TA-like-Stem/TA) & DTU\\_tx\\_nPatients & DTU\\_gene\\_nPatients & ⋯ & tx\\_LoVo & tx\\_SW480 & gene\\_HCT116 & gene\\_HT29 & gene\\_LoVo & gene\\_SW480 & P\\_ave\\_tx\\_Prop\\_stemTAlike\\_minus\\_stemTA & P\\_tx\\_npatients & P\\_tx\\_ntx & DTU\\_tx\\_nPatients\\_1\\\\\n",
       " <chr> & <chr> & <chr> & <chr> & <chr> & <dbl> & <dbl> & <dbl> & <int> & <int> & ⋯ & <dbl> & <dbl> & <dbl> & <dbl> & <dbl> & <dbl> & <dbl> & <int> & <int> & <int>\\\\\n",
       "\\hline\n",
       "\t ENSG00000136997 & ENST00000621592 & MYC-206 & MYC & CRC01   & -0.286 & 0.3453979 &  0.2544570 & 10 & 10 & ⋯ & 7.796734 & 7.12143 & 206.4205 & 183.6363 & 201.4254 & 135.0382 & -0.2705556 & 10 & 2 & 9\\\\\n",
       "\t ENSG00000136997 & ENST00000621592 & MYC-206 & MYC & CRC02   & -0.655 & 0.3453979 & -0.2372174 & 10 & 10 & ⋯ & 7.796734 & 7.12143 & 206.4205 & 183.6363 & 201.4254 & 135.0382 & -0.2705556 & 10 & 2 & 9\\\\\n",
       "\t ENSG00000136997 & ENST00000621592 & MYC-206 & MYC & CRC04   & -0.290 & 0.3453979 & -0.2599011 & 10 & 10 & ⋯ & 7.796734 & 7.12143 & 206.4205 & 183.6363 & 201.4254 & 135.0382 & -0.2705556 & 10 & 2 & 9\\\\\n",
       "\t ENSG00000136997 & ENST00000621592 & MYC-206 & MYC & CRC05   & -0.222 & 0.3453979 & -0.2538613 & 10 & 10 & ⋯ & 7.796734 & 7.12143 & 206.4205 & 183.6363 & 201.4254 & 135.0382 & -0.2705556 & 10 & 2 & 9\\\\\n",
       "\t ENSG00000136997 & ENST00000621592 & MYC-206 & MYC & CRC09   & -0.274 & 0.3453979 &  0.1773402 & 10 & 10 & ⋯ & 7.796734 & 7.12143 & 206.4205 & 183.6363 & 201.4254 & 135.0382 & -0.2705556 & 10 & 2 & 9\\\\\n",
       "\t ENSG00000136997 & ENST00000621592 & MYC-206 & MYC & CRC10   & -0.217 & 0.3453979 & -0.1818549 & 10 & 10 & ⋯ & 7.796734 & 7.12143 & 206.4205 & 183.6363 & 201.4254 & 135.0382 & -0.2705556 & 10 & 2 & 9\\\\\n",
       "\t ENSG00000136997 & ENST00000621592 & MYC-206 & MYC & HTCRC01 & -0.593 & 0.3453979 & -0.2032201 & 10 & 10 & ⋯ & 7.796734 & 7.12143 & 206.4205 & 183.6363 & 201.4254 & 135.0382 & -0.2705556 & 10 & 2 & 9\\\\\n",
       "\t ENSG00000136997 & ENST00000621592 & MYC-206 & MYC & HTCRC04 &  0.207 & 0.3453979 & -0.3453979 & 10 & 10 & ⋯ & 7.796734 & 7.12143 & 206.4205 & 183.6363 & 201.4254 & 135.0382 & -0.2705556 & 10 & 2 & 9\\\\\n",
       "\t ENSG00000136997 & ENST00000621592 & MYC-206 & MYC & HTCRC05 & -0.105 & 0.3453979 & -0.2198064 & 10 & 10 & ⋯ & 7.796734 & 7.12143 & 206.4205 & 183.6363 & 201.4254 & 135.0382 & -0.2705556 & 10 & 2 & 9\\\\\n",
       "\\end{tabular}\n"
      ],
      "text/markdown": [
       "\n",
       "A data.frame: 9 × 197\n",
       "\n",
       "| GeneID &lt;chr&gt; | TranID &lt;chr&gt; | TranName &lt;chr&gt; | GeneName &lt;chr&gt; | patient &lt;chr&gt; | ave_tx_Prop_stemTAlike_minus_stemTA &lt;dbl&gt; | max_in_allpatients &lt;dbl&gt; | max(Stem/TA-like-Stem/TA) &lt;dbl&gt; | DTU_tx_nPatients &lt;int&gt; | DTU_gene_nPatients &lt;int&gt; | ⋯ ⋯ | tx_LoVo &lt;dbl&gt; | tx_SW480 &lt;dbl&gt; | gene_HCT116 &lt;dbl&gt; | gene_HT29 &lt;dbl&gt; | gene_LoVo &lt;dbl&gt; | gene_SW480 &lt;dbl&gt; | P_ave_tx_Prop_stemTAlike_minus_stemTA &lt;dbl&gt; | P_tx_npatients &lt;int&gt; | P_tx_ntx &lt;int&gt; | DTU_tx_nPatients_1 &lt;int&gt; |\n",
       "|---|---|---|---|---|---|---|---|---|---|---|---|---|---|---|---|---|---|---|---|---|\n",
       "| ENSG00000136997 | ENST00000621592 | MYC-206 | MYC | CRC01   | -0.286 | 0.3453979 |  0.2544570 | 10 | 10 | ⋯ | 7.796734 | 7.12143 | 206.4205 | 183.6363 | 201.4254 | 135.0382 | -0.2705556 | 10 | 2 | 9 |\n",
       "| ENSG00000136997 | ENST00000621592 | MYC-206 | MYC | CRC02   | -0.655 | 0.3453979 | -0.2372174 | 10 | 10 | ⋯ | 7.796734 | 7.12143 | 206.4205 | 183.6363 | 201.4254 | 135.0382 | -0.2705556 | 10 | 2 | 9 |\n",
       "| ENSG00000136997 | ENST00000621592 | MYC-206 | MYC | CRC04   | -0.290 | 0.3453979 | -0.2599011 | 10 | 10 | ⋯ | 7.796734 | 7.12143 | 206.4205 | 183.6363 | 201.4254 | 135.0382 | -0.2705556 | 10 | 2 | 9 |\n",
       "| ENSG00000136997 | ENST00000621592 | MYC-206 | MYC | CRC05   | -0.222 | 0.3453979 | -0.2538613 | 10 | 10 | ⋯ | 7.796734 | 7.12143 | 206.4205 | 183.6363 | 201.4254 | 135.0382 | -0.2705556 | 10 | 2 | 9 |\n",
       "| ENSG00000136997 | ENST00000621592 | MYC-206 | MYC | CRC09   | -0.274 | 0.3453979 |  0.1773402 | 10 | 10 | ⋯ | 7.796734 | 7.12143 | 206.4205 | 183.6363 | 201.4254 | 135.0382 | -0.2705556 | 10 | 2 | 9 |\n",
       "| ENSG00000136997 | ENST00000621592 | MYC-206 | MYC | CRC10   | -0.217 | 0.3453979 | -0.1818549 | 10 | 10 | ⋯ | 7.796734 | 7.12143 | 206.4205 | 183.6363 | 201.4254 | 135.0382 | -0.2705556 | 10 | 2 | 9 |\n",
       "| ENSG00000136997 | ENST00000621592 | MYC-206 | MYC | HTCRC01 | -0.593 | 0.3453979 | -0.2032201 | 10 | 10 | ⋯ | 7.796734 | 7.12143 | 206.4205 | 183.6363 | 201.4254 | 135.0382 | -0.2705556 | 10 | 2 | 9 |\n",
       "| ENSG00000136997 | ENST00000621592 | MYC-206 | MYC | HTCRC04 |  0.207 | 0.3453979 | -0.3453979 | 10 | 10 | ⋯ | 7.796734 | 7.12143 | 206.4205 | 183.6363 | 201.4254 | 135.0382 | -0.2705556 | 10 | 2 | 9 |\n",
       "| ENSG00000136997 | ENST00000621592 | MYC-206 | MYC | HTCRC05 | -0.105 | 0.3453979 | -0.2198064 | 10 | 10 | ⋯ | 7.796734 | 7.12143 | 206.4205 | 183.6363 | 201.4254 | 135.0382 | -0.2705556 | 10 | 2 | 9 |\n",
       "\n"
      ],
      "text/plain": [
       "  GeneID          TranID          TranName GeneName patient\n",
       "1 ENSG00000136997 ENST00000621592 MYC-206  MYC      CRC01  \n",
       "2 ENSG00000136997 ENST00000621592 MYC-206  MYC      CRC02  \n",
       "3 ENSG00000136997 ENST00000621592 MYC-206  MYC      CRC04  \n",
       "4 ENSG00000136997 ENST00000621592 MYC-206  MYC      CRC05  \n",
       "5 ENSG00000136997 ENST00000621592 MYC-206  MYC      CRC09  \n",
       "6 ENSG00000136997 ENST00000621592 MYC-206  MYC      CRC10  \n",
       "7 ENSG00000136997 ENST00000621592 MYC-206  MYC      HTCRC01\n",
       "8 ENSG00000136997 ENST00000621592 MYC-206  MYC      HTCRC04\n",
       "9 ENSG00000136997 ENST00000621592 MYC-206  MYC      HTCRC05\n",
       "  ave_tx_Prop_stemTAlike_minus_stemTA max_in_allpatients\n",
       "1 -0.286                              0.3453979         \n",
       "2 -0.655                              0.3453979         \n",
       "3 -0.290                              0.3453979         \n",
       "4 -0.222                              0.3453979         \n",
       "5 -0.274                              0.3453979         \n",
       "6 -0.217                              0.3453979         \n",
       "7 -0.593                              0.3453979         \n",
       "8  0.207                              0.3453979         \n",
       "9 -0.105                              0.3453979         \n",
       "  max(Stem/TA-like-Stem/TA) DTU_tx_nPatients DTU_gene_nPatients ⋯ tx_LoVo \n",
       "1  0.2544570                10               10                 ⋯ 7.796734\n",
       "2 -0.2372174                10               10                 ⋯ 7.796734\n",
       "3 -0.2599011                10               10                 ⋯ 7.796734\n",
       "4 -0.2538613                10               10                 ⋯ 7.796734\n",
       "5  0.1773402                10               10                 ⋯ 7.796734\n",
       "6 -0.1818549                10               10                 ⋯ 7.796734\n",
       "7 -0.2032201                10               10                 ⋯ 7.796734\n",
       "8 -0.3453979                10               10                 ⋯ 7.796734\n",
       "9 -0.2198064                10               10                 ⋯ 7.796734\n",
       "  tx_SW480 gene_HCT116 gene_HT29 gene_LoVo gene_SW480\n",
       "1 7.12143  206.4205    183.6363  201.4254  135.0382  \n",
       "2 7.12143  206.4205    183.6363  201.4254  135.0382  \n",
       "3 7.12143  206.4205    183.6363  201.4254  135.0382  \n",
       "4 7.12143  206.4205    183.6363  201.4254  135.0382  \n",
       "5 7.12143  206.4205    183.6363  201.4254  135.0382  \n",
       "6 7.12143  206.4205    183.6363  201.4254  135.0382  \n",
       "7 7.12143  206.4205    183.6363  201.4254  135.0382  \n",
       "8 7.12143  206.4205    183.6363  201.4254  135.0382  \n",
       "9 7.12143  206.4205    183.6363  201.4254  135.0382  \n",
       "  P_ave_tx_Prop_stemTAlike_minus_stemTA P_tx_npatients P_tx_ntx\n",
       "1 -0.2705556                            10             2       \n",
       "2 -0.2705556                            10             2       \n",
       "3 -0.2705556                            10             2       \n",
       "4 -0.2705556                            10             2       \n",
       "5 -0.2705556                            10             2       \n",
       "6 -0.2705556                            10             2       \n",
       "7 -0.2705556                            10             2       \n",
       "8 -0.2705556                            10             2       \n",
       "9 -0.2705556                            10             2       \n",
       "  DTU_tx_nPatients_1\n",
       "1 9                 \n",
       "2 9                 \n",
       "3 9                 \n",
       "4 9                 \n",
       "5 9                 \n",
       "6 9                 \n",
       "7 9                 \n",
       "8 9                 \n",
       "9 9                 "
      ]
     },
     "metadata": {},
     "output_type": "display_data"
    }
   ],
   "source": [
    "(df_dtu %>% filter(GeneName %in% \"MYC\", TranName %in% \"MYC-206\") %>% arrange(patient))"
   ]
  },
  {
   "cell_type": "code",
   "execution_count": 49,
   "id": "09d3df1a-0a34-4adb-9b3a-e0c743b62fb5",
   "metadata": {},
   "outputs": [
    {
     "data": {
      "text/html": [
       "<table class=\"dataframe\">\n",
       "<caption>A data.frame: 9 × 197</caption>\n",
       "<thead>\n",
       "\t<tr><th scope=col>GeneID</th><th scope=col>TranID</th><th scope=col>TranName</th><th scope=col>GeneName</th><th scope=col>patient</th><th scope=col>ave_tx_Prop_stemTAlike_minus_stemTA</th><th scope=col>max_in_allpatients</th><th scope=col>max(Stem/TA-like-Stem/TA)</th><th scope=col>DTU_tx_nPatients</th><th scope=col>DTU_gene_nPatients</th><th scope=col>⋯</th><th scope=col>tx_LoVo</th><th scope=col>tx_SW480</th><th scope=col>gene_HCT116</th><th scope=col>gene_HT29</th><th scope=col>gene_LoVo</th><th scope=col>gene_SW480</th><th scope=col>P_ave_tx_Prop_stemTAlike_minus_stemTA</th><th scope=col>P_tx_npatients</th><th scope=col>P_tx_ntx</th><th scope=col>DTU_tx_nPatients_1</th></tr>\n",
       "\t<tr><th scope=col>&lt;chr&gt;</th><th scope=col>&lt;chr&gt;</th><th scope=col>&lt;chr&gt;</th><th scope=col>&lt;chr&gt;</th><th scope=col>&lt;chr&gt;</th><th scope=col>&lt;dbl&gt;</th><th scope=col>&lt;dbl&gt;</th><th scope=col>&lt;dbl&gt;</th><th scope=col>&lt;int&gt;</th><th scope=col>&lt;int&gt;</th><th scope=col>⋯</th><th scope=col>&lt;dbl&gt;</th><th scope=col>&lt;dbl&gt;</th><th scope=col>&lt;dbl&gt;</th><th scope=col>&lt;dbl&gt;</th><th scope=col>&lt;dbl&gt;</th><th scope=col>&lt;dbl&gt;</th><th scope=col>&lt;dbl&gt;</th><th scope=col>&lt;int&gt;</th><th scope=col>&lt;int&gt;</th><th scope=col>&lt;int&gt;</th></tr>\n",
       "</thead>\n",
       "<tbody>\n",
       "\t<tr><td>ENSG00000136997</td><td>ENST00000377970</td><td>MYC-202</td><td>MYC</td><td>CRC01  </td><td> 0.210</td><td>0.3453979</td><td> 0.2544570</td><td>10</td><td>10</td><td>⋯</td><td>149.5029</td><td>92.57351</td><td>206.4205</td><td>183.6363</td><td>201.4254</td><td>135.0382</td><td>0.2841111</td><td>10</td><td>2</td><td>9</td></tr>\n",
       "\t<tr><td>ENSG00000136997</td><td>ENST00000377970</td><td>MYC-202</td><td>MYC</td><td>CRC02  </td><td> 0.527</td><td>0.3453979</td><td>-0.2372174</td><td>10</td><td>10</td><td>⋯</td><td>149.5029</td><td>92.57351</td><td>206.4205</td><td>183.6363</td><td>201.4254</td><td>135.0382</td><td>0.2841111</td><td>10</td><td>2</td><td>9</td></tr>\n",
       "\t<tr><td>ENSG00000136997</td><td>ENST00000377970</td><td>MYC-202</td><td>MYC</td><td>CRC04  </td><td> 0.242</td><td>0.3453979</td><td>-0.2599011</td><td>10</td><td>10</td><td>⋯</td><td>149.5029</td><td>92.57351</td><td>206.4205</td><td>183.6363</td><td>201.4254</td><td>135.0382</td><td>0.2841111</td><td>10</td><td>2</td><td>9</td></tr>\n",
       "\t<tr><td>ENSG00000136997</td><td>ENST00000377970</td><td>MYC-202</td><td>MYC</td><td>CRC05  </td><td> 0.211</td><td>0.3453979</td><td>-0.2538613</td><td>10</td><td>10</td><td>⋯</td><td>149.5029</td><td>92.57351</td><td>206.4205</td><td>183.6363</td><td>201.4254</td><td>135.0382</td><td>0.2841111</td><td>10</td><td>2</td><td>9</td></tr>\n",
       "\t<tr><td>ENSG00000136997</td><td>ENST00000377970</td><td>MYC-202</td><td>MYC</td><td>CRC08  </td><td> 0.423</td><td>0.3453979</td><td> 0.1663424</td><td>10</td><td>10</td><td>⋯</td><td>149.5029</td><td>92.57351</td><td>206.4205</td><td>183.6363</td><td>201.4254</td><td>135.0382</td><td>0.2841111</td><td>10</td><td>2</td><td>9</td></tr>\n",
       "\t<tr><td>ENSG00000136997</td><td>ENST00000377970</td><td>MYC-202</td><td>MYC</td><td>CRC09  </td><td> 0.340</td><td>0.3453979</td><td> 0.1773402</td><td>10</td><td>10</td><td>⋯</td><td>149.5029</td><td>92.57351</td><td>206.4205</td><td>183.6363</td><td>201.4254</td><td>135.0382</td><td>0.2841111</td><td>10</td><td>2</td><td>9</td></tr>\n",
       "\t<tr><td>ENSG00000136997</td><td>ENST00000377970</td><td>MYC-202</td><td>MYC</td><td>CRC10  </td><td> 0.310</td><td>0.3453979</td><td>-0.1818549</td><td>10</td><td>10</td><td>⋯</td><td>149.5029</td><td>92.57351</td><td>206.4205</td><td>183.6363</td><td>201.4254</td><td>135.0382</td><td>0.2841111</td><td>10</td><td>2</td><td>9</td></tr>\n",
       "\t<tr><td>ENSG00000136997</td><td>ENST00000377970</td><td>MYC-202</td><td>MYC</td><td>HTCRC01</td><td> 0.545</td><td>0.3453979</td><td>-0.2032201</td><td>10</td><td>10</td><td>⋯</td><td>149.5029</td><td>92.57351</td><td>206.4205</td><td>183.6363</td><td>201.4254</td><td>135.0382</td><td>0.2841111</td><td>10</td><td>2</td><td>9</td></tr>\n",
       "\t<tr><td>ENSG00000136997</td><td>ENST00000377970</td><td>MYC-202</td><td>MYC</td><td>HTCRC04</td><td>-0.251</td><td>0.3453979</td><td>-0.3453979</td><td>10</td><td>10</td><td>⋯</td><td>149.5029</td><td>92.57351</td><td>206.4205</td><td>183.6363</td><td>201.4254</td><td>135.0382</td><td>0.2841111</td><td>10</td><td>2</td><td>9</td></tr>\n",
       "</tbody>\n",
       "</table>\n"
      ],
      "text/latex": [
       "A data.frame: 9 × 197\n",
       "\\begin{tabular}{lllllllllllllllllllll}\n",
       " GeneID & TranID & TranName & GeneName & patient & ave\\_tx\\_Prop\\_stemTAlike\\_minus\\_stemTA & max\\_in\\_allpatients & max(Stem/TA-like-Stem/TA) & DTU\\_tx\\_nPatients & DTU\\_gene\\_nPatients & ⋯ & tx\\_LoVo & tx\\_SW480 & gene\\_HCT116 & gene\\_HT29 & gene\\_LoVo & gene\\_SW480 & P\\_ave\\_tx\\_Prop\\_stemTAlike\\_minus\\_stemTA & P\\_tx\\_npatients & P\\_tx\\_ntx & DTU\\_tx\\_nPatients\\_1\\\\\n",
       " <chr> & <chr> & <chr> & <chr> & <chr> & <dbl> & <dbl> & <dbl> & <int> & <int> & ⋯ & <dbl> & <dbl> & <dbl> & <dbl> & <dbl> & <dbl> & <dbl> & <int> & <int> & <int>\\\\\n",
       "\\hline\n",
       "\t ENSG00000136997 & ENST00000377970 & MYC-202 & MYC & CRC01   &  0.210 & 0.3453979 &  0.2544570 & 10 & 10 & ⋯ & 149.5029 & 92.57351 & 206.4205 & 183.6363 & 201.4254 & 135.0382 & 0.2841111 & 10 & 2 & 9\\\\\n",
       "\t ENSG00000136997 & ENST00000377970 & MYC-202 & MYC & CRC02   &  0.527 & 0.3453979 & -0.2372174 & 10 & 10 & ⋯ & 149.5029 & 92.57351 & 206.4205 & 183.6363 & 201.4254 & 135.0382 & 0.2841111 & 10 & 2 & 9\\\\\n",
       "\t ENSG00000136997 & ENST00000377970 & MYC-202 & MYC & CRC04   &  0.242 & 0.3453979 & -0.2599011 & 10 & 10 & ⋯ & 149.5029 & 92.57351 & 206.4205 & 183.6363 & 201.4254 & 135.0382 & 0.2841111 & 10 & 2 & 9\\\\\n",
       "\t ENSG00000136997 & ENST00000377970 & MYC-202 & MYC & CRC05   &  0.211 & 0.3453979 & -0.2538613 & 10 & 10 & ⋯ & 149.5029 & 92.57351 & 206.4205 & 183.6363 & 201.4254 & 135.0382 & 0.2841111 & 10 & 2 & 9\\\\\n",
       "\t ENSG00000136997 & ENST00000377970 & MYC-202 & MYC & CRC08   &  0.423 & 0.3453979 &  0.1663424 & 10 & 10 & ⋯ & 149.5029 & 92.57351 & 206.4205 & 183.6363 & 201.4254 & 135.0382 & 0.2841111 & 10 & 2 & 9\\\\\n",
       "\t ENSG00000136997 & ENST00000377970 & MYC-202 & MYC & CRC09   &  0.340 & 0.3453979 &  0.1773402 & 10 & 10 & ⋯ & 149.5029 & 92.57351 & 206.4205 & 183.6363 & 201.4254 & 135.0382 & 0.2841111 & 10 & 2 & 9\\\\\n",
       "\t ENSG00000136997 & ENST00000377970 & MYC-202 & MYC & CRC10   &  0.310 & 0.3453979 & -0.1818549 & 10 & 10 & ⋯ & 149.5029 & 92.57351 & 206.4205 & 183.6363 & 201.4254 & 135.0382 & 0.2841111 & 10 & 2 & 9\\\\\n",
       "\t ENSG00000136997 & ENST00000377970 & MYC-202 & MYC & HTCRC01 &  0.545 & 0.3453979 & -0.2032201 & 10 & 10 & ⋯ & 149.5029 & 92.57351 & 206.4205 & 183.6363 & 201.4254 & 135.0382 & 0.2841111 & 10 & 2 & 9\\\\\n",
       "\t ENSG00000136997 & ENST00000377970 & MYC-202 & MYC & HTCRC04 & -0.251 & 0.3453979 & -0.3453979 & 10 & 10 & ⋯ & 149.5029 & 92.57351 & 206.4205 & 183.6363 & 201.4254 & 135.0382 & 0.2841111 & 10 & 2 & 9\\\\\n",
       "\\end{tabular}\n"
      ],
      "text/markdown": [
       "\n",
       "A data.frame: 9 × 197\n",
       "\n",
       "| GeneID &lt;chr&gt; | TranID &lt;chr&gt; | TranName &lt;chr&gt; | GeneName &lt;chr&gt; | patient &lt;chr&gt; | ave_tx_Prop_stemTAlike_minus_stemTA &lt;dbl&gt; | max_in_allpatients &lt;dbl&gt; | max(Stem/TA-like-Stem/TA) &lt;dbl&gt; | DTU_tx_nPatients &lt;int&gt; | DTU_gene_nPatients &lt;int&gt; | ⋯ ⋯ | tx_LoVo &lt;dbl&gt; | tx_SW480 &lt;dbl&gt; | gene_HCT116 &lt;dbl&gt; | gene_HT29 &lt;dbl&gt; | gene_LoVo &lt;dbl&gt; | gene_SW480 &lt;dbl&gt; | P_ave_tx_Prop_stemTAlike_minus_stemTA &lt;dbl&gt; | P_tx_npatients &lt;int&gt; | P_tx_ntx &lt;int&gt; | DTU_tx_nPatients_1 &lt;int&gt; |\n",
       "|---|---|---|---|---|---|---|---|---|---|---|---|---|---|---|---|---|---|---|---|---|\n",
       "| ENSG00000136997 | ENST00000377970 | MYC-202 | MYC | CRC01   |  0.210 | 0.3453979 |  0.2544570 | 10 | 10 | ⋯ | 149.5029 | 92.57351 | 206.4205 | 183.6363 | 201.4254 | 135.0382 | 0.2841111 | 10 | 2 | 9 |\n",
       "| ENSG00000136997 | ENST00000377970 | MYC-202 | MYC | CRC02   |  0.527 | 0.3453979 | -0.2372174 | 10 | 10 | ⋯ | 149.5029 | 92.57351 | 206.4205 | 183.6363 | 201.4254 | 135.0382 | 0.2841111 | 10 | 2 | 9 |\n",
       "| ENSG00000136997 | ENST00000377970 | MYC-202 | MYC | CRC04   |  0.242 | 0.3453979 | -0.2599011 | 10 | 10 | ⋯ | 149.5029 | 92.57351 | 206.4205 | 183.6363 | 201.4254 | 135.0382 | 0.2841111 | 10 | 2 | 9 |\n",
       "| ENSG00000136997 | ENST00000377970 | MYC-202 | MYC | CRC05   |  0.211 | 0.3453979 | -0.2538613 | 10 | 10 | ⋯ | 149.5029 | 92.57351 | 206.4205 | 183.6363 | 201.4254 | 135.0382 | 0.2841111 | 10 | 2 | 9 |\n",
       "| ENSG00000136997 | ENST00000377970 | MYC-202 | MYC | CRC08   |  0.423 | 0.3453979 |  0.1663424 | 10 | 10 | ⋯ | 149.5029 | 92.57351 | 206.4205 | 183.6363 | 201.4254 | 135.0382 | 0.2841111 | 10 | 2 | 9 |\n",
       "| ENSG00000136997 | ENST00000377970 | MYC-202 | MYC | CRC09   |  0.340 | 0.3453979 |  0.1773402 | 10 | 10 | ⋯ | 149.5029 | 92.57351 | 206.4205 | 183.6363 | 201.4254 | 135.0382 | 0.2841111 | 10 | 2 | 9 |\n",
       "| ENSG00000136997 | ENST00000377970 | MYC-202 | MYC | CRC10   |  0.310 | 0.3453979 | -0.1818549 | 10 | 10 | ⋯ | 149.5029 | 92.57351 | 206.4205 | 183.6363 | 201.4254 | 135.0382 | 0.2841111 | 10 | 2 | 9 |\n",
       "| ENSG00000136997 | ENST00000377970 | MYC-202 | MYC | HTCRC01 |  0.545 | 0.3453979 | -0.2032201 | 10 | 10 | ⋯ | 149.5029 | 92.57351 | 206.4205 | 183.6363 | 201.4254 | 135.0382 | 0.2841111 | 10 | 2 | 9 |\n",
       "| ENSG00000136997 | ENST00000377970 | MYC-202 | MYC | HTCRC04 | -0.251 | 0.3453979 | -0.3453979 | 10 | 10 | ⋯ | 149.5029 | 92.57351 | 206.4205 | 183.6363 | 201.4254 | 135.0382 | 0.2841111 | 10 | 2 | 9 |\n",
       "\n"
      ],
      "text/plain": [
       "  GeneID          TranID          TranName GeneName patient\n",
       "1 ENSG00000136997 ENST00000377970 MYC-202  MYC      CRC01  \n",
       "2 ENSG00000136997 ENST00000377970 MYC-202  MYC      CRC02  \n",
       "3 ENSG00000136997 ENST00000377970 MYC-202  MYC      CRC04  \n",
       "4 ENSG00000136997 ENST00000377970 MYC-202  MYC      CRC05  \n",
       "5 ENSG00000136997 ENST00000377970 MYC-202  MYC      CRC08  \n",
       "6 ENSG00000136997 ENST00000377970 MYC-202  MYC      CRC09  \n",
       "7 ENSG00000136997 ENST00000377970 MYC-202  MYC      CRC10  \n",
       "8 ENSG00000136997 ENST00000377970 MYC-202  MYC      HTCRC01\n",
       "9 ENSG00000136997 ENST00000377970 MYC-202  MYC      HTCRC04\n",
       "  ave_tx_Prop_stemTAlike_minus_stemTA max_in_allpatients\n",
       "1  0.210                              0.3453979         \n",
       "2  0.527                              0.3453979         \n",
       "3  0.242                              0.3453979         \n",
       "4  0.211                              0.3453979         \n",
       "5  0.423                              0.3453979         \n",
       "6  0.340                              0.3453979         \n",
       "7  0.310                              0.3453979         \n",
       "8  0.545                              0.3453979         \n",
       "9 -0.251                              0.3453979         \n",
       "  max(Stem/TA-like-Stem/TA) DTU_tx_nPatients DTU_gene_nPatients ⋯ tx_LoVo \n",
       "1  0.2544570                10               10                 ⋯ 149.5029\n",
       "2 -0.2372174                10               10                 ⋯ 149.5029\n",
       "3 -0.2599011                10               10                 ⋯ 149.5029\n",
       "4 -0.2538613                10               10                 ⋯ 149.5029\n",
       "5  0.1663424                10               10                 ⋯ 149.5029\n",
       "6  0.1773402                10               10                 ⋯ 149.5029\n",
       "7 -0.1818549                10               10                 ⋯ 149.5029\n",
       "8 -0.2032201                10               10                 ⋯ 149.5029\n",
       "9 -0.3453979                10               10                 ⋯ 149.5029\n",
       "  tx_SW480 gene_HCT116 gene_HT29 gene_LoVo gene_SW480\n",
       "1 92.57351 206.4205    183.6363  201.4254  135.0382  \n",
       "2 92.57351 206.4205    183.6363  201.4254  135.0382  \n",
       "3 92.57351 206.4205    183.6363  201.4254  135.0382  \n",
       "4 92.57351 206.4205    183.6363  201.4254  135.0382  \n",
       "5 92.57351 206.4205    183.6363  201.4254  135.0382  \n",
       "6 92.57351 206.4205    183.6363  201.4254  135.0382  \n",
       "7 92.57351 206.4205    183.6363  201.4254  135.0382  \n",
       "8 92.57351 206.4205    183.6363  201.4254  135.0382  \n",
       "9 92.57351 206.4205    183.6363  201.4254  135.0382  \n",
       "  P_ave_tx_Prop_stemTAlike_minus_stemTA P_tx_npatients P_tx_ntx\n",
       "1 0.2841111                             10             2       \n",
       "2 0.2841111                             10             2       \n",
       "3 0.2841111                             10             2       \n",
       "4 0.2841111                             10             2       \n",
       "5 0.2841111                             10             2       \n",
       "6 0.2841111                             10             2       \n",
       "7 0.2841111                             10             2       \n",
       "8 0.2841111                             10             2       \n",
       "9 0.2841111                             10             2       \n",
       "  DTU_tx_nPatients_1\n",
       "1 9                 \n",
       "2 9                 \n",
       "3 9                 \n",
       "4 9                 \n",
       "5 9                 \n",
       "6 9                 \n",
       "7 9                 \n",
       "8 9                 \n",
       "9 9                 "
      ]
     },
     "metadata": {},
     "output_type": "display_data"
    }
   ],
   "source": [
    "(df_dtu %>% filter(GeneName %in% \"MYC\", TranName %in% \"MYC-202\") %>% arrange(patient))"
   ]
  },
  {
   "cell_type": "code",
   "execution_count": 52,
   "id": "b1e86c29-417e-4dbe-be65-5eb702060c3d",
   "metadata": {},
   "outputs": [
    {
     "data": {
      "text/html": [
       "<style>\n",
       ".list-inline {list-style: none; margin:0; padding: 0}\n",
       ".list-inline>li {display: inline-block}\n",
       ".list-inline>li:not(:last-child)::after {content: \"\\00b7\"; padding: 0 .5ex}\n",
       "</style>\n",
       "<ol class=list-inline><li>'CRC01'</li><li>'CRC02'</li><li>'CRC04'</li><li>'CRC05'</li><li>'CRC08'</li><li>'CRC09'</li><li>'CRC10'</li><li>'HTCRC01'</li></ol>\n"
      ],
      "text/latex": [
       "\\begin{enumerate*}\n",
       "\\item 'CRC01'\n",
       "\\item 'CRC02'\n",
       "\\item 'CRC04'\n",
       "\\item 'CRC05'\n",
       "\\item 'CRC08'\n",
       "\\item 'CRC09'\n",
       "\\item 'CRC10'\n",
       "\\item 'HTCRC01'\n",
       "\\end{enumerate*}\n"
      ],
      "text/markdown": [
       "1. 'CRC01'\n",
       "2. 'CRC02'\n",
       "3. 'CRC04'\n",
       "4. 'CRC05'\n",
       "5. 'CRC08'\n",
       "6. 'CRC09'\n",
       "7. 'CRC10'\n",
       "8. 'HTCRC01'\n",
       "\n",
       "\n"
      ],
      "text/plain": [
       "[1] \"CRC01\"   \"CRC02\"   \"CRC04\"   \"CRC05\"   \"CRC08\"   \"CRC09\"   \"CRC10\"  \n",
       "[8] \"HTCRC01\""
      ]
     },
     "metadata": {},
     "output_type": "display_data"
    }
   ],
   "source": [
    "c(\"CRC01\", \"CRC02\", \"CRC04\", \"CRC05\", \"CRC08\", \"CRC09\", \"CRC10\", \"HTCRC01\")"
   ]
  },
  {
   "cell_type": "code",
   "execution_count": 53,
   "id": "8cc18f32-f9c0-4c75-9eb1-305d077260fe",
   "metadata": {},
   "outputs": [
    {
     "name": "stderr",
     "output_type": "stream",
     "text": [
      "\n",
      "\u001b[36m──\u001b[39m \u001b[1mColumn specification\u001b[22m \u001b[36m──────────────────────────────────────────────────────────────────────────────────────────────────────────────────────────────────────────────────────────────────────────────────────────────────────────────────────\u001b[39m\n",
      "cols(\n",
      "  TranName = \u001b[31mcol_character()\u001b[39m,\n",
      "  CellName = \u001b[31mcol_character()\u001b[39m,\n",
      "  Prop = \u001b[32mcol_double()\u001b[39m,\n",
      "  patient = \u001b[31mcol_character()\u001b[39m,\n",
      "  celltype3_1 = \u001b[31mcol_character()\u001b[39m,\n",
      "  data = \u001b[31mcol_character()\u001b[39m\n",
      ")\n",
      "\n"
     ]
    }
   ],
   "source": [
    "df_tpm_prop <- read_table(file = \"../00_tx_tpm_prop_LongFormat_in_celltype3_each_patient.txt\") %>%\n",
    "  filter(TranName %in% c(\"THAP4-204\", \"THAP4-202\"), patient %in% c(\n",
    "    c(\"CRC01\", \"CRC02\", \"CRC04\", \"CRC05\", \"CRC08\", \"CRC09\", \"CRC10\", \"HTCRC01\")\n",
    "  )) %>%\n",
    "  as.data.frame() %>%\n",
    "  filter(!is.na(Proportion))"
   ]
  },
  {
   "cell_type": "code",
   "execution_count": null,
   "id": "21bfde3c-9282-4b8e-8242-ae96020c8057",
   "metadata": {},
   "outputs": [],
   "source": [
    "df_plot <- df_tpm_prop\n",
    "df_plot$TPM <- log2(df_plot$TPM + 1)\n",
    "df_plot <- df_plot[, c(\"TranName\", \"CellName\", \"patient\", \"celltype3_1\", \"data\", \"TPM\", \"Proportion\")]\n",
    "colnames(df_plot) <- c(\"TranName\", \"CellName\", \"patient\", \"celltype3_1\", \"data\", \"log2(TPM+1)\", \"Proportion\")\n",
    "df_plot <- melt(df_plot, id = c(\"TranName\", \"CellName\", \"patient\", \"celltype3_1\", \"data\"))\n",
    "df_plot$celltype <- sapply(strsplit(df_plot$celltype3_1, split = \"_\"), function(x) {\n",
    "  x[1]\n",
    "})\n",
    "df_plot$TranName <- factor(as.character(df_plot$TranName), levels = c(\"MYC-202\", \"MYC-206\"))\n",
    "df_plot$variable <- factor(as.character(df_plot$variable), levels = c(\"log2(TPM+1)\", \"Proportion\")) # TPM is log2(TPM+1)\n",
    "ggplot(df_plot, aes(x = celltype, y = value, color = TranName)) +\n",
    "  geom_boxplot(outlier.shape = NA, position = position_dodge(0.6), width = 0.5) + # coord_flip()+\n",
    "  stat_summary(fun.y = mean, position = position_dodge(0.75), geom = \"point\", shape = 18, size = 2, show.legend = FALSE) +\n",
    "  scale_color_manual(values = rev(c(\"#4daf4a\", \"#377eb8\", \"#666666\", \"#f781bf\"))) +\n",
    "  facet_wrap(~variable, scales = \"free\") +\n",
    "  mytheme +\n",
    "  theme(aspect.ratio = 1, legend.position = \"top\", axis.title = element_blank())\n",
    "ggsave(file = \"02_barplot_MYC.pdf\", width = 4, height = 3)"
   ]
  },
  {
   "cell_type": "markdown",
   "id": "271c4ffc-39a4-4590-82bc-e35d1e9708e3",
   "metadata": {},
   "source": [
    "# cell line"
   ]
  },
  {
   "cell_type": "code",
   "execution_count": 157,
   "id": "d53dcda7-d55a-469a-b5be-9c8dd7956f88",
   "metadata": {
    "lines_to_next_cell": 2
   },
   "outputs": [],
   "source": [
    "tpm_cl <- read.table(file = \"../../../00_ont_bulk_ref/01_exp/00_bulk_tx_tpm_label.txt\", header = T, sep = \"\\t\")\n",
    "tpm_cl <- tpm_cl %>% filter(TranName %in%\n",
    "  c(tpm_cl$TranName[grep(\"EWSR1-\", tpm_cl$TranName)], tpm_cl$TranName[grep(\"MYC-\", tpm_cl$TranName)], tpm_cl$TranName[grep(\"THAP4-\", tpm_cl$TranName)]))"
   ]
  },
  {
   "cell_type": "code",
   "execution_count": 169,
   "id": "81509da3-8bd1-47e3-91e2-b900759eacb7",
   "metadata": {},
   "outputs": [],
   "source": [
    "df_cl <- melt(tpm_cl, id = c(\"TranName\", \"TranID\"))\n",
    "colnames(df_cl) <- c(\"TranName\", \"TranID\", \"Cellline\", \"TPM\")\n",
    "df_cl$GeneName <- sapply(strsplit(df_cl$TranName, split = \"-\"), function(x) {\n",
    "  x[1]\n",
    "})\n",
    "df_cl$`log2(TPM+1)` <- log2(df_cl$TPM + 1)"
   ]
  },
  {
   "cell_type": "code",
   "execution_count": 172,
   "id": "355dc99c-5bf4-4e91-9378-694c1a301f6a",
   "metadata": {},
   "outputs": [],
   "source": [
    "df_cl <- df_cl %>%\n",
    "  group_by(Cellline, GeneName) %>%\n",
    "  mutate(Proportion = TPM / sum(TPM)) %>%\n",
    "  as.data.frame()\n",
    "df_cl <- melt(df_cl, id = c(\"TranName\", \"TranID\", \"Cellline\", \"TPM\", \"GeneName\"))"
   ]
  },
  {
   "cell_type": "code",
   "execution_count": 208,
   "id": "73cd2061-c157-456a-b14e-a03954fe7654",
   "metadata": {},
   "outputs": [
    {
     "data": {
      "image/png": "[encoded data removed]",
      "text/plain": [
       "plot without title"
      ]
     },
     "metadata": {
      "image/png": {
       "height": 420,
       "width": 420
      }
     },
     "output_type": "display_data"
    }
   ],
   "source": [
    "ggplot(\n",
    "  df_cl %>% filter(TranName %in% c(\"THAP4-204\", \"THAP4-202\")),\n",
    "  aes(x = Cellline, y = value, color = factor(TranName, levels = c(\"THAP4-204\", \"THAP4-202\")))\n",
    ") +\n",
    "  geom_bar(stat = \"identity\", position = position_dodge(0.85), fill = \"white\", width = 0.7) +\n",
    "  scale_color_manual(values = rev(c(\"#4daf4a\", \"#377eb8\", \"#666666\", \"#f781bf\"))) +\n",
    "  facet_wrap(~variable, scales = \"free\") +\n",
    "  mytheme +\n",
    "  theme(aspect.ratio = 1, legend.position = \"top\", axis.title = element_blank(), axis.text.x = element_text(angle = 30, hjust = 0.5, vjust = 0.5))\n",
    "ggsave(file = \"02_barplot_THAP4_cellline.pdf\", width = 4, height = 3)"
   ]
  },
  {
   "cell_type": "code",
   "execution_count": 209,
   "id": "c1e807dd-feee-44b4-833e-0ee22763183b",
   "metadata": {},
   "outputs": [
    {
     "data": {
      "image/png": "[encoded data removed]",
      "text/plain": [
       "plot without title"
      ]
     },
     "metadata": {
      "image/png": {
       "height": 420,
       "width": 420
      }
     },
     "output_type": "display_data"
    }
   ],
   "source": [
    "ggplot(\n",
    "  df_cl %>% filter(TranName %in% c(\"MYC-202\", \"MYC-206\")),\n",
    "  aes(x = Cellline, y = value, color = factor(TranName, levels = c(\"MYC-202\", \"MYC-206\")))\n",
    ") +\n",
    "  geom_bar(stat = \"identity\", position = position_dodge(0.85), fill = \"white\", width = 0.7) +\n",
    "  scale_color_manual(values = rev(c(\"#4daf4a\", \"#377eb8\", \"#666666\", \"#f781bf\"))) +\n",
    "  facet_wrap(~variable, scales = \"free\") +\n",
    "  mytheme +\n",
    "  theme(aspect.ratio = 1, legend.position = \"top\", axis.title = element_blank(), axis.text.x = element_text(angle = 30, hjust = 0.5, vjust = 0.5))\n",
    "ggsave(file = \"02_barplot_MYC_cellline.pdf\", width = 4, height = 3)"
   ]
  },
  {
   "cell_type": "markdown",
   "id": "be45dfae-0193-4aec-968d-3cfb5437008d",
   "metadata": {},
   "source": [
    "# IsoformSwitchAnalyzeR"
   ]
  },
  {
   "cell_type": "code",
   "execution_count": 136,
   "id": "91334285-fc1a-4f26-b639-664b3cdfabff",
   "metadata": {
    "lines_to_next_cell": 2
   },
   "outputs": [],
   "source": [
    "ont <- readRDS(file = \"/gpfs1/tangfuchou_pkuhpc/tangfuchou_cls/luping/project/ont_iso_crc/2_RNA_CRC/01_RNA_analysis/CRC_HTCRC_02_RNA_seurat/CRC_HTCRC_01_RNA_5400_3262_tx/00_tx_5400_3262_hvg1869_PC1_20.rds\")"
   ]
  },
  {
   "cell_type": "code",
   "execution_count": 137,
   "id": "1ff9e29f-f303-4a09-a7bc-c3e68c684735",
   "metadata": {},
   "outputs": [],
   "source": [
    "ne_cells <- (ont@meta.data %>% filter(celltype3 %in% \"Stem/TA\", data %in% \"CRC\"))$CellName\n",
    "cc_cells <- (ont@meta.data %>% filter(celltype3 %in% \"Stem/TA-like\", data %in% \"CRC\"))$CellName"
   ]
  },
  {
   "cell_type": "code",
   "execution_count": 138,
   "id": "3cea7d42-4b27-4268-9d23-4973c9573b6e",
   "metadata": {},
   "outputs": [],
   "source": [
    "meta <- ont@meta.data[c(ne_cells, cc_cells), ]"
   ]
  },
  {
   "cell_type": "code",
   "execution_count": 139,
   "id": "171fdb53-f30d-4936-a084-0304fc59d43f",
   "metadata": {},
   "outputs": [],
   "source": [
    "# c('EWSR1-207','EWSR1-216','MYC-202','MYC-206','THAP4-204','THAP4-202')"
   ]
  },
  {
   "cell_type": "code",
   "execution_count": 140,
   "id": "1fca7019-6f22-4161-b1f1-b682c8342c5a",
   "metadata": {
    "lines_to_next_cell": 2
   },
   "outputs": [
    {
     "name": "stderr",
     "output_type": "stream",
     "text": [
      "\u001b[1m\u001b[22mNew names:\n",
      "\u001b[36m•\u001b[39m `` -> `...1`\n",
      "\u001b[1mRows: \u001b[22m\u001b[34m29429\u001b[39m \u001b[1mColumns: \u001b[22m\u001b[34m3263\u001b[39m\n",
      "\u001b[36m──\u001b[39m \u001b[1mColumn specification\u001b[22m \u001b[36m──────────────────────────────────────────────────────────────────────────────────────────────────────────────────────────────────────────────────────────────────────────────────────────────────────────────────────\u001b[39m\n",
      "\u001b[1mDelimiter:\u001b[22m \",\"\n",
      "\u001b[31mchr\u001b[39m    (1): ...1\n",
      "\u001b[32mdbl\u001b[39m (3262): CRC01_L1_Barcode01, CRC01_L1_Barcode02, CRC01_L1_Barcode03, CRC0...\n",
      "\n",
      "\u001b[36mℹ\u001b[39m Use `spec()` to retrieve the full column specification for this data.\n",
      "\u001b[36mℹ\u001b[39m Specify the column types or set `show_col_types = FALSE` to quiet this message.\n"
     ]
    }
   ],
   "source": [
    "tpm <- as.data.frame(read_csv(\"../../../CRC_HTCRC_01_RNA_QC/00_tx_tpm_qc_500_genenumbersgt0_5400_3262.csv\"))\n",
    "rownames(tpm) <- tpm[, 1]\n",
    "tpm <- tpm[, c(ne_cells, cc_cells)]"
   ]
  },
  {
   "cell_type": "code",
   "execution_count": 141,
   "id": "34d8b495-35de-403e-b445-014383680fc2",
   "metadata": {},
   "outputs": [],
   "source": [
    "test <- tpm\n",
    "test$isoform_id <- rownames(test)\n",
    "test <- test[, c(\"isoform_id\", ne_cells, cc_cells)]"
   ]
  },
  {
   "cell_type": "code",
   "execution_count": 142,
   "id": "6bd66a7a-cdf6-434b-8ef2-7d5117beb872",
   "metadata": {
    "lines_to_next_cell": 2
   },
   "outputs": [],
   "source": [
    "mmm <- data.frame(row.names = meta$CellName, sampleID = meta$CellName, condition = meta$patient, celltype3 = as.character(meta$celltype3))"
   ]
  },
  {
   "cell_type": "code",
   "execution_count": 12,
   "id": "ee55b8f0-3dd2-4879-8475-410ea4ae4437",
   "metadata": {
    "scrolled": true,
    "tags": []
   },
   "outputs": [
    {
     "name": "stderr",
     "output_type": "stream",
     "text": [
      "Step 1 of 10: Checking data...\n",
      "\n",
      "Warning message in importRdata(isoformCountMatrix = test, designMatrix = mmm, isoformExonAnnoation = \"Plot.gtf\"):\n",
      "\"The number of comparisons (n=36) is unusually high.\n",
      " - If this intended please note that with a large number of comparisons IsoformSwitchAnalyzeR might use quite a lot of memmory (aka running on a small computer might be problematic).\n",
      " - If this was not intended please check the supplied design matrixt to make sure no mistakes were made.\"\n",
      "Please note that some condition names were changed due to names not suited for modeling in R.\n",
      "\n",
      "Step 2 of 10: Obtaining annotation...\n",
      "\n",
      "    importing GTF (this may take a while)...\n",
      "\n"
     ]
    }
   ],
   "source": [
    "step1 <- importRdata(\n",
    "  isoformCountMatrix = test,\n",
    "  # isoformRepExpression = isoformRepExpression,\n",
    "  designMatrix = mmm,\n",
    "  isoformExonAnnoation = \"Plot.gtf\"\n",
    ")"
   ]
  },
  {
   "cell_type": "code",
   "execution_count": 141,
   "id": "986327c1-a26b-4c64-aa20-f28f9454510a",
   "metadata": {},
   "outputs": [],
   "source": [
    "# saveRDS(step1, file='step1.rds')"
   ]
  },
  {
   "cell_type": "code",
   "execution_count": 13,
   "id": "d70e55d7-3e76-4a45-b6bc-3f147626917e",
   "metadata": {},
   "outputs": [],
   "source": [
    "step1 <- readRDS(file = \"step1.rds\")"
   ]
  },
  {
   "cell_type": "code",
   "execution_count": null,
   "id": "2cd4a9cb-46ac-44fc-ad8f-29103388d342",
   "metadata": {
    "scrolled": true,
    "tags": []
   },
   "outputs": [],
   "source": [
    "step2 <- isoformSwitchTestSatuRn(step1, reduceToSwitchingGenes = FALSE)"
   ]
  },
  {
   "cell_type": "code",
   "execution_count": 143,
   "id": "a141d4df-978c-4843-9fd8-c6193fda8153",
   "metadata": {},
   "outputs": [],
   "source": [
    "saveRDS(step2, file = \"step2.rds\")"
   ]
  },
  {
   "cell_type": "code",
   "execution_count": 176,
   "id": "6b076ac5-7baa-4724-87c5-80b85de4ce73",
   "metadata": {},
   "outputs": [],
   "source": [
    "step2 <- readRDS(file = \"step2.rds\")"
   ]
  },
  {
   "cell_type": "code",
   "execution_count": null,
   "id": "54b7ee8c-ec71-4ea9-b1df-f0f13c47f7b7",
   "metadata": {},
   "outputs": [],
   "source": [
    "step3 <- extractSequence(step2, genomeObject = Hsapiens, onlySwitchingGenes = FALSE, writeToFile = TRUE)"
   ]
  },
  {
   "cell_type": "code",
   "execution_count": 178,
   "id": "7153b37d-ad8b-4e85-92ad-98182e2088bb",
   "metadata": {},
   "outputs": [],
   "source": [
    "saveRDS(step3, file = \"step3.rds\")"
   ]
  },
  {
   "cell_type": "code",
   "execution_count": 145,
   "id": "5fe9dc4f-5e3d-4382-9e7a-d2a2408879a2",
   "metadata": {},
   "outputs": [],
   "source": [
    "step3 <- readRDS(file = \"step3.rds\")\n",
    "# step3 <- readRDS(file='../../../00_PfamScan/step3.rds')"
   ]
  },
  {
   "cell_type": "code",
   "execution_count": 146,
   "id": "d3cf70ac-a293-464c-a984-129d218b2db2",
   "metadata": {
    "lines_to_next_cell": 2
   },
   "outputs": [
    {
     "data": {
      "text/html": [
       "6"
      ],
      "text/latex": [
       "6"
      ],
      "text/markdown": [
       "6"
      ],
      "text/plain": [
       "[1] 6"
      ]
     },
     "metadata": {},
     "output_type": "display_data"
    }
   ],
   "source": [
    "seqs <- readAAStringSet(\"isoformSwitchAnalyzeR_isoform_AA.fasta\")\n",
    "sequence_name <- c(\"EWSR1-207\", \"EWSR1-216\", \"MYC-202\", \"MYC-206\", \"THAP4-204\", \"THAP4-202\")\n",
    "length(sequence_name)\n",
    "# sequence_name\n",
    "sequence_name <- intersect(sequence_name, names(seqs))\n",
    "# sequence_name\n",
    "specific_sequence <- seqs[sequence_name]\n",
    "writeXStringSet(specific_sequence, filepath = \"isoformSwitchAnalyzeR_isoform_AA_filtered.fasta\")"
   ]
  },
  {
   "cell_type": "code",
   "execution_count": null,
   "id": "46721f5e-3b53-4234-ac5c-f08d241acddf",
   "metadata": {
    "lines_to_next_cell": 2
   },
   "outputs": [],
   "source": [
    "# https://www.ebi.ac.uk/Tools/hmmer/search/hmmscan\n",
    "step4 <- analyzePFAM(step3, pathToPFAMresultFile = \"../../../00_PfamScan/pfam_scan_result.txt\")"
   ]
  },
  {
   "cell_type": "code",
   "execution_count": null,
   "id": "e2fab289-b051-4259-8dab-43c52f2bbd93",
   "metadata": {},
   "outputs": [],
   "source": [
    "saveRDS(step4, file = \"step4.rds\")"
   ]
  },
  {
   "cell_type": "code",
   "execution_count": null,
   "id": "bdc48b60-a4f4-4677-94ac-919568acdc70",
   "metadata": {
    "lines_to_next_cell": 2
   },
   "outputs": [],
   "source": [
    "switchPlotTranscript(step4, isoform_id = mytx) #+ theme(aspect.ratio=0.2)\n",
    "ggsave(filename = sprintf(\"../02_RNA_seurat/04_RNA_2184_1395_DTU_StemTA/05_candidate_1/%s_%s_switchPlotTranscript.pdf\", myrank, g), width = 10, height = length(mytx) * 1)"
   ]
  },
  {
   "cell_type": "code",
   "execution_count": null,
   "id": "f6858818-7b14-4ce5-94be-e8f68d0469e9",
   "metadata": {},
   "outputs": [],
   "source": []
  },
  {
   "cell_type": "code",
   "execution_count": 58,
   "id": "55400767-9ea5-40e5-8355-1b849480c28e",
   "metadata": {
    "lines_to_next_cell": 2
   },
   "outputs": [],
   "source": [
    "clas <- read.table(file = \"../../../CRC_HTCRC_00_gene_isoform_info/00_corrected_ref_TranID_TranName_GeneName_structural_category.txt\", header = T, sep = \"\\t\")"
   ]
  },
  {
   "cell_type": "code",
   "execution_count": 61,
   "id": "ad4bfde6-9407-4522-bb8c-6a3782671002",
   "metadata": {
    "lines_to_next_cell": 2
   },
   "outputs": [
    {
     "data": {
      "text/html": [
       "48"
      ],
      "text/latex": [
       "48"
      ],
      "text/markdown": [
       "48"
      ],
      "text/plain": [
       "[1] 48"
      ]
     },
     "metadata": {},
     "output_type": "display_data"
    }
   ],
   "source": [
    "seqs <- readAAStringSet(\"isoformSwitchAnalyzeR_isoform_AA.fasta\")\n",
    "sequence_name <- (clas %>% filter(GeneName %in% c(\"EIF4G1\", \"CTNNA1\", \"CD46\", \"CSDE1\", \"SURF4\", \"APH1A\", \"ARIH2\", \"COMT\", \"EWSR1\", \"RABAC1\", \"SLC25A22\")))$TranName\n",
    "length(sequence_name)\n",
    "# sequence_name\n",
    "sequence_name <- intersect(sequence_name, names(seqs))\n",
    "# sequence_name\n",
    "specific_sequence <- seqs[sequence_name]\n",
    "writeXStringSet(specific_sequence, filepath = \"isoformSwitchAnalyzeR_isoform_AA_filtered_1.fasta\")"
   ]
  },
  {
   "cell_type": "code",
   "execution_count": 157,
   "id": "44737536-e0c9-4582-aef7-76e348164e52",
   "metadata": {},
   "outputs": [
    {
     "data": {
      "text/html": [
       "<table class=\"dataframe\">\n",
       "<caption>A data.table: 2 × 16</caption>\n",
       "<thead>\n",
       "\t<tr><th scope=col>seq id</th><th scope=col>alignment start</th><th scope=col>alignment end</th><th scope=col>envelope start</th><th scope=col>envelope end</th><th scope=col>hmm acc</th><th scope=col>hmm name</th><th scope=col>hmm start</th><th scope=col>hmm end</th><th scope=col>hmm length</th><th scope=col>bit score</th><th scope=col>Individual E-value</th><th scope=col>Conditional E-value</th><th scope=col>database significant</th><th scope=col>outcompeted</th><th scope=col>clan</th></tr>\n",
       "\t<tr><th scope=col>&lt;chr&gt;</th><th scope=col>&lt;int&gt;</th><th scope=col>&lt;int&gt;</th><th scope=col>&lt;int&gt;</th><th scope=col>&lt;int&gt;</th><th scope=col>&lt;chr&gt;</th><th scope=col>&lt;chr&gt;</th><th scope=col>&lt;int&gt;</th><th scope=col>&lt;int&gt;</th><th scope=col>&lt;int&gt;</th><th scope=col>&lt;dbl&gt;</th><th scope=col>&lt;dbl&gt;</th><th scope=col>&lt;dbl&gt;</th><th scope=col>&lt;dbl&gt;</th><th scope=col>&lt;dbl&gt;</th><th scope=col>&lt;chr&gt;</th></tr>\n",
       "</thead>\n",
       "<tbody>\n",
       "\t<tr><td>CSDE1-202</td><td> 57</td><td> 84</td><td>38</td><td> 90</td><td>PF23456.1</td><td>CSDE1</td><td>52</td><td>78</td><td>84</td><td>429.3</td><td>7.7e-01</td><td>3.2e-04</td><td>1</td><td>0</td><td>CLxxxx</td></tr>\n",
       "\t<tr><td>CSDE1-202</td><td>100</td><td>148</td><td>86</td><td>148</td><td>PF23456.1</td><td>CSDE1</td><td>37</td><td>84</td><td>84</td><td>429.3</td><td>4.5e-17</td><td>1.9e-20</td><td>1</td><td>0</td><td>CLxxxx</td></tr>\n",
       "</tbody>\n",
       "</table>\n"
      ],
      "text/latex": [
       "A data.table: 2 × 16\n",
       "\\begin{tabular}{llllllllllllllll}\n",
       " seq id & alignment start & alignment end & envelope start & envelope end & hmm acc & hmm name & hmm start & hmm end & hmm length & bit score & Individual E-value & Conditional E-value & database significant & outcompeted & clan\\\\\n",
       " <chr> & <int> & <int> & <int> & <int> & <chr> & <chr> & <int> & <int> & <int> & <dbl> & <dbl> & <dbl> & <dbl> & <dbl> & <chr>\\\\\n",
       "\\hline\n",
       "\t CSDE1-202 &  57 &  84 & 38 &  90 & PF23456.1 & CSDE1 & 52 & 78 & 84 & 429.3 & 7.7e-01 & 3.2e-04 & 1 & 0 & CLxxxx\\\\\n",
       "\t CSDE1-202 & 100 & 148 & 86 & 148 & PF23456.1 & CSDE1 & 37 & 84 & 84 & 429.3 & 4.5e-17 & 1.9e-20 & 1 & 0 & CLxxxx\\\\\n",
       "\\end{tabular}\n"
      ],
      "text/markdown": [
       "\n",
       "A data.table: 2 × 16\n",
       "\n",
       "| seq id &lt;chr&gt; | alignment start &lt;int&gt; | alignment end &lt;int&gt; | envelope start &lt;int&gt; | envelope end &lt;int&gt; | hmm acc &lt;chr&gt; | hmm name &lt;chr&gt; | hmm start &lt;int&gt; | hmm end &lt;int&gt; | hmm length &lt;int&gt; | bit score &lt;dbl&gt; | Individual E-value &lt;dbl&gt; | Conditional E-value &lt;dbl&gt; | database significant &lt;dbl&gt; | outcompeted &lt;dbl&gt; | clan &lt;chr&gt; |\n",
       "|---|---|---|---|---|---|---|---|---|---|---|---|---|---|---|---|\n",
       "| CSDE1-202 |  57 |  84 | 38 |  90 | PF23456.1 | CSDE1 | 52 | 78 | 84 | 429.3 | 7.7e-01 | 3.2e-04 | 1 | 0 | CLxxxx |\n",
       "| CSDE1-202 | 100 | 148 | 86 | 148 | PF23456.1 | CSDE1 | 37 | 84 | 84 | 429.3 | 4.5e-17 | 1.9e-20 | 1 | 0 | CLxxxx |\n",
       "\n"
      ],
      "text/plain": [
       "  seq id    alignment start alignment end envelope start envelope end hmm acc  \n",
       "1 CSDE1-202  57              84           38              90          PF23456.1\n",
       "2 CSDE1-202 100             148           86             148          PF23456.1\n",
       "  hmm name hmm start hmm end hmm length bit score Individual E-value\n",
       "1 CSDE1    52        78      84         429.3     7.7e-01           \n",
       "2 CSDE1    37        84      84         429.3     4.5e-17           \n",
       "  Conditional E-value database significant outcompeted clan  \n",
       "1 3.2e-04             1                    0           CLxxxx\n",
       "2 1.9e-20             1                    0           CLxxxx"
      ]
     },
     "metadata": {},
     "output_type": "display_data"
    }
   ],
   "source": [
    "library(data.table)\n",
    "pfam_results <- fread(\"isoformSwitchAnalyzeR_isoform_AA_filtered_1_hmmscan_tab.txt\", header = FALSE, fill = TRUE, sep = \"\\t\")\n",
    "colnames(pfam_results) <- c(\n",
    "  \"Family id\", \"Family Accession\", \"tlen\", \"seq id\", \"#\", \"qlen\", \"E-value\", \"Bit Score\", \"bias\", \"#\", \"of\", \"Cond. E-value\", \"Ind. E-value\", \"score\", \"bias\",\n",
    "  \"Model Start\", \"Model End\", \"Ali. Start\", \"Ali. End\", \"Env. Start\", \"Env. End\", \"acc\", \"Description\"\n",
    ")\n",
    "# head(pfam_results,2)\n",
    "pfam_results <- pfam_results[, c(\n",
    "  \"seq id\", \"Family id\", \"Family Accession\", \"tlen\", \"Env. Start\", \"Env. End\", \"Ali. Start\", \"Ali. End\",\n",
    "  \"Model Start\", \"Model End\", \"Bit Score\", \"Ind. E-value\", \"Cond. E-value\", \"Description\"\n",
    ")]\n",
    "pfam_results$`database significant` <- 1\n",
    "pfam_results$`outcompeted` <- 0\n",
    "pfam_results$`clan` <- \"CLxxxx\"\n",
    "\n",
    "colnames(pfam_results) <- c(\n",
    "  \"seq id\", \"hmm name\", \"hmm acc\", \"hmm length\", \"envelope start\", \"envelope end\", \"alignment start\", \"alignment end\",\n",
    "  \"hmm start\", \"hmm end\", \"bit score\", \"Individual E-value\", \"Conditional E-value\", \"Description\", \"database significant\", \"outcompeted\", \"clan\"\n",
    ")\n",
    "\n",
    "pfam_results <- pfam_results[, c(\n",
    "  \"seq id\", \"alignment start\", \"alignment end\", \"envelope start\", \"envelope end\", \"hmm acc\", \"hmm name\", \"hmm start\", \"hmm end\", \"hmm length\", \"bit score\",\n",
    "  \"Individual E-value\", \"Conditional E-value\", \"database significant\", \"outcompeted\", \"clan\"\n",
    ")]\n",
    "write.table(pfam_results, file = \"pfam_results.txt\", sep = \" \", quote = FALSE, row.names = FALSE, col.names = TRUE)\n",
    "head(pfam_results, 2)"
   ]
  },
  {
   "cell_type": "code",
   "execution_count": 179,
   "id": "0488b611-6c21-4787-82ea-ee09a019515d",
   "metadata": {
    "lines_to_next_cell": 2
   },
   "outputs": [
    {
     "name": "stderr",
     "output_type": "stream",
     "text": [
      "Converting AA coordinats to transcript and genomic coordinats...\n",
      "\n"
     ]
    },
    {
     "name": "stdout",
     "output_type": "stream",
     "text": [
      "  |======================================================================| 100%\n"
     ]
    },
    {
     "name": "stderr",
     "output_type": "stream",
     "text": [
      "Added domain information to 35 (0.12%) transcripts\n",
      "\n"
     ]
    }
   ],
   "source": [
    "step4 <- analyzePFAM(step3, pathToPFAMresultFile = \"pfam_results.txt\")"
   ]
  },
  {
   "cell_type": "code",
   "execution_count": 184,
   "id": "1fba1eeb-5289-485a-b5a1-4f8764da0336",
   "metadata": {},
   "outputs": [
    {
     "name": "stderr",
     "output_type": "stream",
     "text": [
      "Omitting toplogy visualization as it has not been added. You can add this analysis through analyzeDeepTMHMM(). To avoid this message set \"plotTopology=FALSE\"\n",
      "\n"
     ]
    },
    {
     "data": {
      "image/png": "[encoded data removed]",
      "text/plain": [
       "plot without title"
      ]
     },
     "metadata": {
      "image/png": {
       "height": 420,
       "width": 420
      }
     },
     "output_type": "display_data"
    }
   ],
   "source": [
    "switchPlotTranscript(step4, isoform_id = c(\"RABAC1-201\", \"RABAC1-202\")) #+ theme(aspect.ratio=0.2)"
   ]
  },
  {
   "cell_type": "code",
   "execution_count": 183,
   "id": "652dd363-56ba-4323-8bf5-1fdad469a136",
   "metadata": {
    "lines_to_next_cell": 2
   },
   "outputs": [
    {
     "name": "stderr",
     "output_type": "stream",
     "text": [
      "Omitting toplogy visualization as it has not been added. You can add this analysis through analyzeDeepTMHMM(). To avoid this message set \"plotTopology=FALSE\"\n",
      "\n"
     ]
    },
    {
     "data": {
      "image/png": "[encoded data removed]",
      "text/plain": [
       "plot without title"
      ]
     },
     "metadata": {
      "image/png": {
       "height": 420,
       "width": 420
      }
     },
     "output_type": "display_data"
    }
   ],
   "source": [
    "switchPlotTranscript(step4, gene = c(\"APH1A\")) #+ theme(aspect.ratio=0.2)"
   ]
  },
  {
   "cell_type": "markdown",
   "id": "b79321b4-1bce-4087-ae1f-08d986989907",
   "metadata": {},
   "source": [
    "# cell cycle"
   ]
  },
  {
   "cell_type": "code",
   "execution_count": 240,
   "id": "f70e9a16-d410-48f1-8b90-859b543fa668",
   "metadata": {},
   "outputs": [
    {
     "data": {
      "text/html": [
       "996"
      ],
      "text/latex": [
       "996"
      ],
      "text/markdown": [
       "996"
      ],
      "text/plain": [
       "[1] 996"
      ]
     },
     "metadata": {},
     "output_type": "display_data"
    }
   ],
   "source": [
    "mycells <- (ont@meta.data %>% filter(patient %in% c(\n",
    "  \"CRC01\", \"CRC02\", \"CRC03\", \"CRC04\", \"CRC05\", \"CRC07\", \"CRC8\", \"CRC09\", \"CRC10\"\n",
    "), celltype3 %in% c(\"Stem/TA\", \"Stem/TA-like\")))$CellName\n",
    "length(mycells)"
   ]
  },
  {
   "cell_type": "code",
   "execution_count": null,
   "id": "e3152f26-203a-47c2-bc51-26589f210fff",
   "metadata": {},
   "outputs": [],
   "source": [
    "tpm_gene <- read_csv(file = \"../../../CRC_HTCRC_01_RNA_QC/00_gene_tpm_qc_500_genenumbersgt0_5400_3262.csv\") %>% as.data.frame()\n",
    "rownames(tpm_gene) <- tpm_gene[, 1]\n",
    "tpm_gene$`...1` <- NULL\n",
    "tpm_gene <- tpm_gene[, mycells]"
   ]
  },
  {
   "cell_type": "code",
   "execution_count": 243,
   "id": "c9f930b8-f531-4621-a994-71e574ae658a",
   "metadata": {},
   "outputs": [
    {
     "data": {
      "text/html": [
       "39"
      ],
      "text/latex": [
       "39"
      ],
      "text/markdown": [
       "39"
      ],
      "text/plain": [
       "[1] 39"
      ]
     },
     "metadata": {},
     "output_type": "display_data"
    },
    {
     "data": {
      "text/html": [
       "49"
      ],
      "text/latex": [
       "49"
      ],
      "text/markdown": [
       "49"
      ],
      "text/plain": [
       "[1] 49"
      ]
     },
     "metadata": {},
     "output_type": "display_data"
    }
   ],
   "source": [
    "# cell cycle\n",
    "s_genes <- intersect(rownames(tpm_gene), cc.genes$s.genes)\n",
    "length(s_genes)\n",
    "g2m_genes <- intersect(rownames(tpm_gene), cc.genes$g2m.genes)\n",
    "length(g2m_genes)\n",
    "tpm_cy <- tpm_gene[c(s_genes, g2m_genes), ]"
   ]
  },
  {
   "cell_type": "code",
   "execution_count": null,
   "id": "40af2404-c0ba-4e5b-bea3-d257fc943805",
   "metadata": {},
   "outputs": [],
   "source": [
    "tpm_tx <- read_csv(file = \"../../../CRC_HTCRC_01_RNA_QC/00_tx_tpm_qc_500_genenumbersgt0_5400_3262.csv\") %>% as.data.frame()\n",
    "rownames(tpm_tx) <- tpm_tx[, 1]\n",
    "tpm_tx$`...1` <- NULL\n",
    "tpm_tx <- tpm_tx[, mycells]"
   ]
  },
  {
   "cell_type": "code",
   "execution_count": 257,
   "id": "b9c53603-3658-4954-acd4-d555a22edac9",
   "metadata": {
    "lines_to_next_cell": 2
   },
   "outputs": [],
   "source": [
    "df_cy <- rbind(\n",
    "  cor(t(log1p(tpm_gene[\"THAP4\", ])), t(log1p(tpm_cy)), use = \"pairwise.complete.obs\", method = \"pearson\"),\n",
    "  cor(t(log1p(tpm_tx[c(\"THAP4-202\", \"THAP4-204\"), ])), t(log1p(tpm_cy)), use = \"pairwise.complete.obs\", method = \"pearson\")\n",
    ")\n",
    "anno_col <- data.frame(row.names = c(s_genes, g2m_genes), class = c(rep(\"S\", length(s_genes)), rep(\"G2M\", length(g2m_genes))))"
   ]
  },
  {
   "cell_type": "code",
   "execution_count": 264,
   "id": "8494116f-0eb4-4e68-8ac7-4ba54d9cc735",
   "metadata": {},
   "outputs": [],
   "source": [
    "pheatmap(\n",
    "  df_cy,\n",
    "  cluster_cols = F, cluster_rows = F, annotation_col = anno_col, cellwidth = 9, cellheight = 9,\n",
    "  color = colorRampPalette(rev(c(\"#ca0020\", \"#f4a582\", \"#f7f7f7\", \"#92c5de\", \"#0571b0\")))(40), border_color = NA,\n",
    "  breaks = seq(-quantile(df_cy, 0.99), quantile(df_cy, 0.99), length.out = 40),\n",
    "  file = \"pheatmap_cor_THAP4_cellcycle.pdf\"\n",
    ")"
   ]
  },
  {
   "cell_type": "code",
   "execution_count": null,
   "id": "52c5d13f-63f4-4bad-90e9-cb5f1024c0ed",
   "metadata": {},
   "outputs": [],
   "source": []
  },
  {
   "cell_type": "code",
   "execution_count": null,
   "id": "37ddf85f-a2ab-4f47-b084-b53b0711b933",
   "metadata": {},
   "outputs": [],
   "source": []
  }
 ],
 "metadata": {
  "kernelspec": {
   "display_name": "R",
   "language": "R",
   "name": "ir"
  },
  "language_info": {
   "codemirror_mode": "r",
   "file_extension": ".r",
   "mimetype": "text/x-r-source",
   "name": "R",
   "pygments_lexer": "r",
   "version": "4.2.2"
  }
 },
 "nbformat": 4,
 "nbformat_minor": 5
}
