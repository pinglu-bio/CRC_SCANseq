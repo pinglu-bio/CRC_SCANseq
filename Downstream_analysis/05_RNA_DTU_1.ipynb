{
 "cells": [
  {
   "cell_type": "code",
   "execution_count": 1,
   "metadata": {},
   "outputs": [],
   "source": [
    "### R 4.0.3 & seurat 4.0.1\n",
    "suppressMessages({\n",
    "  options(stringsAsFactors = FALSE)\n",
    "  library(Seurat)\n",
    "  library(ggsci)\n",
    "  library(ggplot2)\n",
    "  library(dplyr)\n",
    "  library(Matrix)\n",
    "  library(pheatmap)\n",
    "  library(ggpubr)\n",
    "  library(plotly)\n",
    "  library(RColorBrewer)\n",
    "  library(scales)\n",
    "  library(readr)\n",
    "  library(reshape2)\n",
    "  library(ggbeeswarm)\n",
    "  # DTUrtle v1.0.2\n",
    "  library(edgeR)\n",
    "  library(SummarizedExperiment)\n",
    "  library(stageR)\n",
    "  library(DTUrtle)\n",
    "  library(VennDiagram)\n",
    "  library(eulerr)\n",
    "  # use up to 10 cores for computation\n",
    "  biocpar <- BiocParallel::MulticoreParam(10)\n",
    "})"
   ]
  },
  {
   "cell_type": "code",
   "execution_count": null,
   "metadata": {},
   "outputs": [],
   "source": [
    "mytheme <- ggplot2::theme(\n",
    "  plot.background = element_blank(),\n",
    "  panel.background = element_rect(fill = \"#FFFFFF\"),\n",
    "  legend.background = element_blank(),\n",
    "  legend.box.background = element_blank(),\n",
    "  panel.border = element_rect(linetype = \"solid\", colour = \"black\", fill = NA, size = 0.5),\n",
    "  panel.grid.major = element_blank(),\n",
    "  panel.grid.minor = element_blank(),\n",
    "  axis.line = element_blank(), axis.text = element_text(colour = \"black\")\n",
    ")\n",
    "\n",
    "dimplot_theme <- mytheme + theme(\n",
    "  legend.text = element_text(size = 20), plot.title = element_blank(),\n",
    "  axis.text = element_blank(), axis.ticks = element_blank(), aspect.ratio = 1\n",
    ")\n",
    "\n",
    "featureplot_theme <- mytheme + theme(\n",
    "  panel.grid.major = element_blank(),\n",
    "  axis.text = element_blank(), axis.ticks = element_blank(), axis.title = element_blank(), aspect.ratio = 1\n",
    ") + NoLegend()\n",
    "\n",
    "color <- c(c(pal_d3(\"category20\")(20), \"#B52D73\", \"#4347B5\", \"#4FED28\", \"#402727\", \"#48959C\", \"#FC6262\", \"#4A9EFF\", \"#9E969E\"))\n",
    "# specify colors\n",
    "data_color <- c(\"#197EC0FF\", \"#ff8000\")\n",
    "tissue_color <- c(\"#2CA02CFF\", \"#E377C2FF\")\n",
    "celltype1_color <- c(\"#0072B5FF\", \"#D62728FF\") # c(pal_nejm(\"default\")(8)[c(2,1)])\n",
    "celltype2_color <- c(\"#9467BDFF\", \"#FF95A8FF\", \"#8AA600\", \"#46732EFF\", \"#197EC0FF\", \"#D62728FF\")\n",
    "celltype3_color <- c(\"#9467BDFF\", \"#FF95A8FF\", \"#8AA600\", \"#46732EFF\", \"#197EC0FF\", \"#D62728FF\", \"#ff7f00\", \"#ffff33\", \"#8A9197FF\")\n",
    "celltype4_color <- c(\"#20854EFF\", \"#008EA0FF\", \"#FF6F00FF\", \"#C71000FF\")\n",
    "\n",
    "patient_color <- c(\n",
    "  \"#FED439FF\", \"#8A9197FF\", \"#8A4198FF\", \"#D5E4A2FF\", \"#197EC0FF\", \"#FD7446FF\", \"#46732EFF\", \"#71D0F5FF\", \"#E377C2FF\",\n",
    "  \"#075149FF\", \"#e60000\", \"#91331FFF\", \"#1A9993FF\", \"#ff80aa\", \"#D2AF81FF\", \"#370335FF\", \"#cc99ff\", \"#ff8000\", \"#59b300\"\n",
    ")"
   ]
  },
  {
   "cell_type": "code",
   "execution_count": 29,
   "metadata": {},
   "outputs": [
    {
     "data": {
      "text/plain": [
       "An object of class Seurat \n",
       "51718 features across 2679 samples within 4 assays \n",
       "Active assay: UTR3 (4609 features, 0 variable features)\n",
       " 3 other assays present: RNA, GENE, UTR5\n",
       " 3 dimensional reductions calculated: pca, tsne, umap"
      ]
     },
     "metadata": {},
     "output_type": "display_data"
    }
   ],
   "source": [
    "ont <- readRDS(file = \"../CRC_HTCRC_01_RNA_5400_3262_tx/00_tx_5400_3262_hvg1869_PC1_20.rds\")\n",
    "ont <- subset(ont, cells = ont@meta.data[which(ont@meta.data$celltype3 %in% c(\"Stem/TA\", \"Stem/TA-like\")), ]$CellName)\n",
    "ont"
   ]
  },
  {
   "cell_type": "markdown",
   "metadata": {},
   "source": [
    "# Perform DTU using Dturtle"
   ]
  },
  {
   "cell_type": "code",
   "execution_count": null,
   "metadata": {},
   "outputs": [],
   "source": [
    "tx_info <- read.table(file = \"../../CRC_HTCRC_00_gene_isoform_info/00_corrected_ref_TranID_TranName_GeneName_structural_category_expression_proportion.txt\", header = T, sep = \"\\t\")\n",
    "head(tx_info, 1)"
   ]
  },
  {
   "cell_type": "code",
   "execution_count": null,
   "metadata": {},
   "outputs": [],
   "source": [
    "# transcript_name is unique，first two columns: transcript and gene\n",
    "tx2gene <- tx_info[, c(\"TranName\", \"GeneName\")]\n",
    "rownames(tx2gene) <- tx2gene$TranName\n",
    "# tx2gene <- move_columns_to_front(tx2gene, columns = c(\"TranName\",\"GeneName\"))\n",
    "dim(tx2gene)\n",
    "head(tx2gene, 2)"
   ]
  },
  {
   "cell_type": "code",
   "execution_count": 9,
   "metadata": {},
   "outputs": [
    {
     "name": "stderr",
     "output_type": "stream",
     "text": [
      "\u001b[1m\u001b[22mNew names:\n",
      "\u001b[36m•\u001b[39m `` -> `...1`\n",
      "\u001b[1mRows: \u001b[22m\u001b[34m29429\u001b[39m \u001b[1mColumns: \u001b[22m\u001b[34m3263\u001b[39m\n",
      "\u001b[36m──\u001b[39m \u001b[1mColumn specification\u001b[22m \u001b[36m──────────────────────────────────────────────────────────────────────────────────────────────────────────────────────────\u001b[39m\n",
      "\u001b[1mDelimiter:\u001b[22m \",\"\n",
      "\u001b[31mchr\u001b[39m    (1): ...1\n",
      "\u001b[32mdbl\u001b[39m (3262): CRC01_L1_Barcode01, CRC01_L1_Barcode02, CRC01_L1_Barcode03, CRC0...\n",
      "\n",
      "\u001b[36mℹ\u001b[39m Use `spec()` to retrieve the full column specification for this data.\n",
      "\u001b[36mℹ\u001b[39m Specify the column types or set `show_col_types = FALSE` to quiet this message.\n"
     ]
    },
    {
     "data": {
      "text/plain": [
       "   user  system elapsed \n",
       " 29.013   3.892   7.094 "
      ]
     },
     "metadata": {},
     "output_type": "display_data"
    },
    {
     "data": {
      "text/html": [
       "<style>\n",
       ".list-inline {list-style: none; margin:0; padding: 0}\n",
       ".list-inline>li {display: inline-block}\n",
       ".list-inline>li:not(:last-child)::after {content: \"\\00b7\"; padding: 0 .5ex}\n",
       "</style>\n",
       "<ol class=list-inline><li>29429</li><li>3262</li></ol>\n"
      ],
      "text/latex": [
       "\\begin{enumerate*}\n",
       "\\item 29429\n",
       "\\item 3262\n",
       "\\end{enumerate*}\n"
      ],
      "text/markdown": [
       "1. 29429\n",
       "2. 3262\n",
       "\n",
       "\n"
      ],
      "text/plain": [
       "[1] 29429  3262"
      ]
     },
     "metadata": {},
     "output_type": "display_data"
    },
    {
     "data": {
      "text/html": [
       "<table class=\"dataframe\">\n",
       "<caption>A data.frame: 2 × 3262</caption>\n",
       "<thead>\n",
       "\t<tr><th></th><th scope=col>CRC01_L1_Barcode01</th><th scope=col>CRC01_L1_Barcode02</th><th scope=col>CRC01_L1_Barcode03</th><th scope=col>CRC01_L1_Barcode04</th><th scope=col>CRC01_L1_Barcode05</th><th scope=col>CRC01_L1_Barcode08</th><th scope=col>CRC01_L1_Barcode09</th><th scope=col>CRC01_L1_Barcode10</th><th scope=col>CRC01_L1_Barcode11</th><th scope=col>CRC01_L1_Barcode12</th><th scope=col>⋯</th><th scope=col>HTCRC05_PT2_Bc96_Bc34</th><th scope=col>HTCRC05_PT2_Bc96_Bc35</th><th scope=col>HTCRC05_PT2_Bc96_Bc37</th><th scope=col>HTCRC05_PT2_Bc96_Bc38</th><th scope=col>HTCRC05_PT2_Bc96_Bc40</th><th scope=col>HTCRC05_PT2_Bc96_Bc43</th><th scope=col>HTCRC05_PT2_Bc96_Bc44</th><th scope=col>HTCRC05_PT2_Bc96_Bc45</th><th scope=col>HTCRC05_PT2_Bc96_Bc46</th><th scope=col>HTCRC05_PT2_Bc96_Bc47</th></tr>\n",
       "\t<tr><th></th><th scope=col>&lt;dbl&gt;</th><th scope=col>&lt;dbl&gt;</th><th scope=col>&lt;dbl&gt;</th><th scope=col>&lt;dbl&gt;</th><th scope=col>&lt;dbl&gt;</th><th scope=col>&lt;dbl&gt;</th><th scope=col>&lt;dbl&gt;</th><th scope=col>&lt;dbl&gt;</th><th scope=col>&lt;dbl&gt;</th><th scope=col>&lt;dbl&gt;</th><th scope=col>⋯</th><th scope=col>&lt;dbl&gt;</th><th scope=col>&lt;dbl&gt;</th><th scope=col>&lt;dbl&gt;</th><th scope=col>&lt;dbl&gt;</th><th scope=col>&lt;dbl&gt;</th><th scope=col>&lt;dbl&gt;</th><th scope=col>&lt;dbl&gt;</th><th scope=col>&lt;dbl&gt;</th><th scope=col>&lt;dbl&gt;</th><th scope=col>&lt;dbl&gt;</th></tr>\n",
       "</thead>\n",
       "<tbody>\n",
       "\t<tr><th scope=row>7SK.1-201</th><td>0</td><td>0</td><td>0</td><td>0.990937</td><td>1.984894</td><td>0</td><td>0</td><td>0</td><td>3.567976</td><td>0</td><td>⋯</td><td>0</td><td>0</td><td>4.712991</td><td>2.975831</td><td>0</td><td>1</td><td>0</td><td>9.963746</td><td>1</td><td>0</td></tr>\n",
       "\t<tr><th scope=row>A1CF-202</th><td>0</td><td>0</td><td>0</td><td>0.000000</td><td>0.000000</td><td>0</td><td>0</td><td>0</td><td>0.000000</td><td>0</td><td>⋯</td><td>0</td><td>0</td><td>0.000000</td><td>0.000000</td><td>0</td><td>0</td><td>0</td><td>0.000000</td><td>0</td><td>0</td></tr>\n",
       "</tbody>\n",
       "</table>\n"
      ],
      "text/latex": [
       "A data.frame: 2 × 3262\n",
       "\\begin{tabular}{r|lllllllllllllllllllll}\n",
       "  & CRC01\\_L1\\_Barcode01 & CRC01\\_L1\\_Barcode02 & CRC01\\_L1\\_Barcode03 & CRC01\\_L1\\_Barcode04 & CRC01\\_L1\\_Barcode05 & CRC01\\_L1\\_Barcode08 & CRC01\\_L1\\_Barcode09 & CRC01\\_L1\\_Barcode10 & CRC01\\_L1\\_Barcode11 & CRC01\\_L1\\_Barcode12 & ⋯ & HTCRC05\\_PT2\\_Bc96\\_Bc34 & HTCRC05\\_PT2\\_Bc96\\_Bc35 & HTCRC05\\_PT2\\_Bc96\\_Bc37 & HTCRC05\\_PT2\\_Bc96\\_Bc38 & HTCRC05\\_PT2\\_Bc96\\_Bc40 & HTCRC05\\_PT2\\_Bc96\\_Bc43 & HTCRC05\\_PT2\\_Bc96\\_Bc44 & HTCRC05\\_PT2\\_Bc96\\_Bc45 & HTCRC05\\_PT2\\_Bc96\\_Bc46 & HTCRC05\\_PT2\\_Bc96\\_Bc47\\\\\n",
       "  & <dbl> & <dbl> & <dbl> & <dbl> & <dbl> & <dbl> & <dbl> & <dbl> & <dbl> & <dbl> & ⋯ & <dbl> & <dbl> & <dbl> & <dbl> & <dbl> & <dbl> & <dbl> & <dbl> & <dbl> & <dbl>\\\\\n",
       "\\hline\n",
       "\t7SK.1-201 & 0 & 0 & 0 & 0.990937 & 1.984894 & 0 & 0 & 0 & 3.567976 & 0 & ⋯ & 0 & 0 & 4.712991 & 2.975831 & 0 & 1 & 0 & 9.963746 & 1 & 0\\\\\n",
       "\tA1CF-202 & 0 & 0 & 0 & 0.000000 & 0.000000 & 0 & 0 & 0 & 0.000000 & 0 & ⋯ & 0 & 0 & 0.000000 & 0.000000 & 0 & 0 & 0 & 0.000000 & 0 & 0\\\\\n",
       "\\end{tabular}\n"
      ],
      "text/markdown": [
       "\n",
       "A data.frame: 2 × 3262\n",
       "\n",
       "| <!--/--> | CRC01_L1_Barcode01 &lt;dbl&gt; | CRC01_L1_Barcode02 &lt;dbl&gt; | CRC01_L1_Barcode03 &lt;dbl&gt; | CRC01_L1_Barcode04 &lt;dbl&gt; | CRC01_L1_Barcode05 &lt;dbl&gt; | CRC01_L1_Barcode08 &lt;dbl&gt; | CRC01_L1_Barcode09 &lt;dbl&gt; | CRC01_L1_Barcode10 &lt;dbl&gt; | CRC01_L1_Barcode11 &lt;dbl&gt; | CRC01_L1_Barcode12 &lt;dbl&gt; | ⋯ ⋯ | HTCRC05_PT2_Bc96_Bc34 &lt;dbl&gt; | HTCRC05_PT2_Bc96_Bc35 &lt;dbl&gt; | HTCRC05_PT2_Bc96_Bc37 &lt;dbl&gt; | HTCRC05_PT2_Bc96_Bc38 &lt;dbl&gt; | HTCRC05_PT2_Bc96_Bc40 &lt;dbl&gt; | HTCRC05_PT2_Bc96_Bc43 &lt;dbl&gt; | HTCRC05_PT2_Bc96_Bc44 &lt;dbl&gt; | HTCRC05_PT2_Bc96_Bc45 &lt;dbl&gt; | HTCRC05_PT2_Bc96_Bc46 &lt;dbl&gt; | HTCRC05_PT2_Bc96_Bc47 &lt;dbl&gt; |\n",
       "|---|---|---|---|---|---|---|---|---|---|---|---|---|---|---|---|---|---|---|---|---|---|\n",
       "| 7SK.1-201 | 0 | 0 | 0 | 0.990937 | 1.984894 | 0 | 0 | 0 | 3.567976 | 0 | ⋯ | 0 | 0 | 4.712991 | 2.975831 | 0 | 1 | 0 | 9.963746 | 1 | 0 |\n",
       "| A1CF-202 | 0 | 0 | 0 | 0.000000 | 0.000000 | 0 | 0 | 0 | 0.000000 | 0 | ⋯ | 0 | 0 | 0.000000 | 0.000000 | 0 | 0 | 0 | 0.000000 | 0 | 0 |\n",
       "\n"
      ],
      "text/plain": [
       "          CRC01_L1_Barcode01 CRC01_L1_Barcode02 CRC01_L1_Barcode03\n",
       "7SK.1-201 0                  0                  0                 \n",
       "A1CF-202  0                  0                  0                 \n",
       "          CRC01_L1_Barcode04 CRC01_L1_Barcode05 CRC01_L1_Barcode08\n",
       "7SK.1-201 0.990937           1.984894           0                 \n",
       "A1CF-202  0.000000           0.000000           0                 \n",
       "          CRC01_L1_Barcode09 CRC01_L1_Barcode10 CRC01_L1_Barcode11\n",
       "7SK.1-201 0                  0                  3.567976          \n",
       "A1CF-202  0                  0                  0.000000          \n",
       "          CRC01_L1_Barcode12 ⋯ HTCRC05_PT2_Bc96_Bc34 HTCRC05_PT2_Bc96_Bc35\n",
       "7SK.1-201 0                  ⋯ 0                     0                    \n",
       "A1CF-202  0                  ⋯ 0                     0                    \n",
       "          HTCRC05_PT2_Bc96_Bc37 HTCRC05_PT2_Bc96_Bc38 HTCRC05_PT2_Bc96_Bc40\n",
       "7SK.1-201 4.712991              2.975831              0                    \n",
       "A1CF-202  0.000000              0.000000              0                    \n",
       "          HTCRC05_PT2_Bc96_Bc43 HTCRC05_PT2_Bc96_Bc44 HTCRC05_PT2_Bc96_Bc45\n",
       "7SK.1-201 1                     0                     9.963746             \n",
       "A1CF-202  0                     0                     0.000000             \n",
       "          HTCRC05_PT2_Bc96_Bc46 HTCRC05_PT2_Bc96_Bc47\n",
       "7SK.1-201 1                     0                    \n",
       "A1CF-202  0                     0                    "
      ]
     },
     "metadata": {},
     "output_type": "display_data"
    }
   ],
   "source": [
    "# isoform\n",
    "system.time(tx_counts <- read_csv(\n",
    "  \"../../CRC_HTCRC_01_RNA_QC/00_tx_counts_qc_500_genenumbersgt0_5400_3262.csv\"\n",
    "))\n",
    "tx_counts <- as.data.frame(tx_counts)\n",
    "rownames(tx_counts) <- tx_counts[, 1]\n",
    "tx_counts <- tx_counts[, 2:ncol(tx_counts)]\n",
    "dim(tx_counts)\n",
    "head(tx_counts, 2)"
   ]
  },
  {
   "cell_type": "code",
   "execution_count": 10,
   "metadata": {},
   "outputs": [
    {
     "name": "stderr",
     "output_type": "stream",
     "text": [
      "Merging matrices\n",
      "\n",
      "Excluding 32 overall not expressed features.\n",
      "\n",
      "29397 features left.\n",
      "\n"
     ]
    },
    {
     "data": {
      "text/html": [
       "<style>\n",
       ".list-inline {list-style: none; margin:0; padding: 0}\n",
       ".list-inline>li {display: inline-block}\n",
       ".list-inline>li:not(:last-child)::after {content: \"\\00b7\"; padding: 0 .5ex}\n",
       "</style>\n",
       "<ol class=list-inline><li>29397</li><li>2679</li></ol>\n"
      ],
      "text/latex": [
       "\\begin{enumerate*}\n",
       "\\item 29397\n",
       "\\item 2679\n",
       "\\end{enumerate*}\n"
      ],
      "text/markdown": [
       "1. 29397\n",
       "2. 2679\n",
       "\n",
       "\n"
      ],
      "text/plain": [
       "[1] 29397  2679"
      ]
     },
     "metadata": {},
     "output_type": "display_data"
    }
   ],
   "source": [
    "tx_counts <- tx_counts[, ont@meta.data$CellName]\n",
    "\n",
    "cts <- combine_to_matrix(tx_list = list(\n",
    "  ont_crc = Matrix(as.matrix(tx_counts), sparse = TRUE)\n",
    "))\n",
    "dim(cts)"
   ]
  },
  {
   "cell_type": "code",
   "execution_count": null,
   "metadata": {},
   "outputs": [],
   "source": [
    "## when performing DTU for each patient in CRC, all stem/TA cells of CRC(9 patients) were used\n",
    "## when performing HTCRC for each patient, Stem/TA cells of HTCRC (3 patients) were used"
   ]
  },
  {
   "cell_type": "code",
   "execution_count": 30,
   "metadata": {},
   "outputs": [
    {
     "data": {
      "text/plain": [
       "\n",
       "             Stem/TA   Stem/TA-like_CRC01   Stem/TA-like_CRC02 \n",
       "                 359                  121                   66 \n",
       "  Stem/TA-like_CRC03   Stem/TA-like_CRC04   Stem/TA-like_CRC05 \n",
       "                  60                   57                  130 \n",
       "  Stem/TA-like_CRC07   Stem/TA-like_CRC08   Stem/TA-like_CRC09 \n",
       "                 186                  107                  132 \n",
       "  Stem/TA-like_CRC10 Stem/TA-like_HTCRC01 Stem/TA-like_HTCRC04 \n",
       "                  73                  413                  517 \n",
       "Stem/TA-like_HTCRC05 \n",
       "                 458 "
      ]
     },
     "metadata": {},
     "output_type": "display_data"
    }
   ],
   "source": [
    "ont@meta.data$celltype3_1 <- paste0(as.character(ont@meta.data$celltype3), \"_\", as.character(ont@meta.data$patient))\n",
    "ont@meta.data[which(ont@meta.data$celltype3 %in% \"Stem/TA\"), ]$celltype3_1 <- \"Stem/TA\"\n",
    "table(ont@meta.data$celltype3_1)"
   ]
  },
  {
   "cell_type": "code",
   "execution_count": 33,
   "metadata": {
    "scrolled": true,
    "tags": []
   },
   "outputs": [
    {
     "name": "stdout",
     "output_type": "stream",
     "text": [
      "[1] \"Stem/TA-like_CRC01\"\n"
     ]
    },
    {
     "name": "stderr",
     "output_type": "stream",
     "text": [
      "Using tx2gene columns:\n",
      "\tTranName ---> 'feature_id'\n",
      "\tGeneName ---> 'gene_id'\n",
      "\n",
      "\n",
      "Comparing in 'celltype3_1': 'Stem/TA-like_CRC01' vs 'Stem/TA'\n",
      "\n",
      "Excluding 811 cells/samples for this comparison!\n",
      "\n",
      "\n",
      "Proceed with cells/samples: \n",
      "Stem/TA-like_CRC01            Stem/TA \n",
      "               121                191 \n",
      "\n",
      "\n",
      "Filtering...\n",
      "\n",
      "\n"
     ]
    },
    {
     "name": "stdout",
     "output_type": "stream",
     "text": [
      "  |======================================================================| 100%\n",
      "\n"
     ]
    },
    {
     "name": "stderr",
     "output_type": "stream",
     "text": [
      "Retain 18660 of 29175 features.\n",
      "Removed 10515 features.\n",
      "\n",
      "\n",
      "Performing statistical tests...\n",
      "\n",
      "\n",
      "* Calculating mean gene expression.. \n",
      "\n",
      "\n",
      "* Estimating common precision.. \n",
      "\n",
      "\n",
      "! Using common_precision = 4.7973 as prec_init !\n",
      "\n",
      "\n",
      "* Estimating genewise precision.. \n",
      "\n",
      "\n",
      "! Using 0.669953 as a shrinkage factor !\n",
      "\n",
      "\n",
      "* Fitting the DM model.. \n",
      "\n",
      "\n",
      "   Using the one way approach. \n",
      "\n",
      "\n",
      "* Fitting the BB model.. \n",
      "\n",
      "\n",
      "   Using the one way approach. \n",
      "\n",
      "\n",
      "* Fitting the DM model.. \n",
      "\n",
      "\n",
      "   Using the one way approach. \n",
      "\n",
      "\n",
      "* Calculating likelihood ratio statistics.. \n",
      "\n",
      "\n",
      "* Fitting the BB model.. \n",
      "\n",
      "\n",
      "   Using the one way approach. \n",
      "\n",
      "\n",
      "* Calculating likelihood ratio statistics.. \n",
      "\n",
      "\n",
      "Posthoc filtered 3129 features.\n",
      "\n",
      "The returned adjusted p-values are based on a stage-wise testing approach and are only valid for the provided target OFDR level of 5%. If a different target OFDR level is of interest,the entire adjustment should be re-run. \n",
      "\n",
      "\n",
      "Found 945 significant genes with 1395 significant transcripts (OFDR: 0.05)\n",
      "\n"
     ]
    },
    {
     "name": "stdout",
     "output_type": "stream",
     "text": [
      "[1] \"Stem/TA-like_CRC02\"\n"
     ]
    },
    {
     "name": "stderr",
     "output_type": "stream",
     "text": [
      "Using tx2gene columns:\n",
      "\tTranName ---> 'feature_id'\n",
      "\tGeneName ---> 'gene_id'\n",
      "\n",
      "\n",
      "Comparing in 'celltype3_1': 'Stem/TA-like_CRC02' vs 'Stem/TA'\n",
      "\n",
      "Excluding 866 cells/samples for this comparison!\n",
      "\n",
      "\n",
      "Proceed with cells/samples: \n",
      "Stem/TA-like_CRC02            Stem/TA \n",
      "                66                191 \n",
      "\n",
      "\n",
      "Filtering...\n",
      "\n",
      "\n"
     ]
    },
    {
     "name": "stdout",
     "output_type": "stream",
     "text": [
      "  |======================================================================| 100%\n",
      "\n"
     ]
    },
    {
     "name": "stderr",
     "output_type": "stream",
     "text": [
      "Retain 20007 of 28966 features.\n",
      "Removed 8959 features.\n",
      "\n",
      "\n",
      "Performing statistical tests...\n",
      "\n",
      "\n",
      "* Calculating mean gene expression.. \n",
      "\n",
      "\n",
      "* Estimating common precision.. \n",
      "\n",
      "\n",
      "! Using common_precision = 4.7973 as prec_init !\n",
      "\n",
      "\n",
      "* Estimating genewise precision.. \n",
      "\n",
      "\n",
      "! Using 0.424675 as a shrinkage factor !\n",
      "\n",
      "\n",
      "* Fitting the DM model.. \n",
      "\n",
      "\n",
      "   Using the one way approach. \n",
      "\n",
      "\n",
      "* Fitting the BB model.. \n",
      "\n",
      "\n",
      "   Using the one way approach. \n",
      "\n",
      "\n",
      "* Fitting the DM model.. \n",
      "\n",
      "\n",
      "   Using the one way approach. \n",
      "\n",
      "\n",
      "* Calculating likelihood ratio statistics.. \n",
      "\n",
      "\n",
      "* Fitting the BB model.. \n",
      "\n",
      "\n",
      "   Using the one way approach. \n",
      "\n",
      "\n",
      "* Calculating likelihood ratio statistics.. \n",
      "\n",
      "\n",
      "Posthoc filtered 4065 features.\n",
      "\n",
      "The returned adjusted p-values are based on a stage-wise testing approach and are only valid for the provided target OFDR level of 5%. If a different target OFDR level is of interest,the entire adjustment should be re-run. \n",
      "\n",
      "\n",
      "Found 124 significant genes with 145 significant transcripts (OFDR: 0.05)\n",
      "\n"
     ]
    },
    {
     "name": "stdout",
     "output_type": "stream",
     "text": [
      "[1] \"Stem/TA-like_CRC03\"\n"
     ]
    },
    {
     "name": "stderr",
     "output_type": "stream",
     "text": [
      "Using tx2gene columns:\n",
      "\tTranName ---> 'feature_id'\n",
      "\tGeneName ---> 'gene_id'\n",
      "\n",
      "\n",
      "Comparing in 'celltype3_1': 'Stem/TA-like_CRC03' vs 'Stem/TA'\n",
      "\n",
      "Excluding 872 cells/samples for this comparison!\n",
      "\n",
      "\n",
      "Proceed with cells/samples: \n",
      "Stem/TA-like_CRC03            Stem/TA \n",
      "                60                191 \n",
      "\n",
      "\n",
      "Filtering...\n",
      "\n",
      "\n"
     ]
    },
    {
     "name": "stdout",
     "output_type": "stream",
     "text": [
      "  |======================================================================| 100%\n",
      "\n"
     ]
    },
    {
     "name": "stderr",
     "output_type": "stream",
     "text": [
      "Retain 21011 of 28900 features.\n",
      "Removed 7889 features.\n",
      "\n",
      "\n",
      "Performing statistical tests...\n",
      "\n",
      "\n",
      "* Calculating mean gene expression.. \n",
      "\n",
      "\n",
      "* Estimating common precision.. \n",
      "\n",
      "\n",
      "! Using common_precision = 4.7973 as prec_init !\n",
      "\n",
      "\n",
      "* Estimating genewise precision.. \n",
      "\n",
      "\n",
      "! Using 0.386439 as a shrinkage factor !\n",
      "\n",
      "\n",
      "* Fitting the DM model.. \n",
      "\n",
      "\n",
      "   Using the one way approach. \n",
      "\n",
      "\n",
      "! Using 0.41952 as a shrinkage factor !\n",
      "\n",
      "\n",
      "* Fitting the DM model.. \n",
      "\n",
      "\n",
      "   Using the one way approach. \n",
      "\n",
      "\n",
      "* Fitting the BB model.. \n",
      "\n",
      "\n",
      "   Using the one way approach. \n",
      "\n",
      "\n",
      "* Fitting the DM model.. \n",
      "\n",
      "\n",
      "   Using the one way approach. \n",
      "\n",
      "\n",
      "* Calculating likelihood ratio statistics.. \n",
      "\n",
      "\n",
      "* Fitting the BB model.. \n",
      "\n",
      "\n",
      "   Using the one way approach. \n",
      "\n",
      "\n",
      "* Calculating likelihood ratio statistics.. \n",
      "\n",
      "\n",
      "Posthoc filtered 5405 features.\n",
      "\n",
      "The returned adjusted p-values are based on a stage-wise testing approach and are only valid for the provided target OFDR level of 5%. If a different target OFDR level is of interest,the entire adjustment should be re-run. \n",
      "\n",
      "\n",
      "Found 603 significant genes with 782 significant transcripts (OFDR: 0.05)\n",
      "\n"
     ]
    },
    {
     "name": "stdout",
     "output_type": "stream",
     "text": [
      "[1] \"Stem/TA-like_CRC05\"\n"
     ]
    },
    {
     "name": "stderr",
     "output_type": "stream",
     "text": [
      "Using tx2gene columns:\n",
      "\tTranName ---> 'feature_id'\n",
      "\tGeneName ---> 'gene_id'\n",
      "\n",
      "\n",
      "Comparing in 'celltype3_1': 'Stem/TA-like_CRC05' vs 'Stem/TA'\n",
      "\n",
      "Excluding 802 cells/samples for this comparison!\n",
      "\n",
      "\n",
      "Proceed with cells/samples: \n",
      "Stem/TA-like_CRC05            Stem/TA \n",
      "               130                191 \n",
      "\n",
      "\n",
      "Filtering...\n",
      "\n",
      "\n"
     ]
    },
    {
     "name": "stdout",
     "output_type": "stream",
     "text": [
      "  |======================================================================| 100%\n",
      "\n"
     ]
    },
    {
     "name": "stderr",
     "output_type": "stream",
     "text": [
      "Retain 19625 of 29162 features.\n",
      "Removed 9537 features.\n",
      "\n",
      "\n",
      "Performing statistical tests...\n",
      "\n",
      "\n",
      "* Calculating mean gene expression.. \n",
      "\n",
      "\n",
      "* Estimating common precision.. \n",
      "\n",
      "\n",
      "! Using common_precision = 4.7973 as prec_init !\n",
      "\n",
      "\n",
      "* Estimating genewise precision.. \n",
      "\n",
      "\n",
      "! Using 0.918132 as a shrinkage factor !\n",
      "\n",
      "\n",
      "* Fitting the DM model.. \n",
      "\n",
      "\n",
      "   Using the one way approach. \n",
      "\n",
      "\n",
      "* Fitting the BB model.. \n",
      "\n",
      "\n",
      "   Using the one way approach. \n",
      "\n",
      "\n",
      "* Fitting the DM model.. \n",
      "\n",
      "\n",
      "   Using the one way approach. \n",
      "\n",
      "\n",
      "* Calculating likelihood ratio statistics.. \n",
      "\n",
      "\n",
      "* Fitting the BB model.. \n",
      "\n",
      "\n",
      "   Using the one way approach. \n",
      "\n",
      "\n",
      "* Calculating likelihood ratio statistics.. \n",
      "\n",
      "\n",
      "Posthoc filtered 3473 features.\n",
      "\n",
      "The returned adjusted p-values are based on a stage-wise testing approach and are only valid for the provided target OFDR level of 5%. If a different target OFDR level is of interest,the entire adjustment should be re-run. \n",
      "\n",
      "\n",
      "Found 1054 significant genes with 1568 significant transcripts (OFDR: 0.05)\n",
      "\n"
     ]
    },
    {
     "name": "stdout",
     "output_type": "stream",
     "text": [
      "[1] \"Stem/TA-like_CRC07\"\n"
     ]
    },
    {
     "name": "stderr",
     "output_type": "stream",
     "text": [
      "Using tx2gene columns:\n",
      "\tTranName ---> 'feature_id'\n",
      "\tGeneName ---> 'gene_id'\n",
      "\n",
      "\n",
      "Comparing in 'celltype3_1': 'Stem/TA-like_CRC07' vs 'Stem/TA'\n",
      "\n",
      "Excluding 746 cells/samples for this comparison!\n",
      "\n",
      "\n",
      "Proceed with cells/samples: \n",
      "Stem/TA-like_CRC07            Stem/TA \n",
      "               186                191 \n",
      "\n",
      "\n",
      "Filtering...\n",
      "\n",
      "\n"
     ]
    },
    {
     "name": "stdout",
     "output_type": "stream",
     "text": [
      "  |======================================================================| 100%\n",
      "\n"
     ]
    },
    {
     "name": "stderr",
     "output_type": "stream",
     "text": [
      "Retain 17186 of 29163 features.\n",
      "Removed 11977 features.\n",
      "\n",
      "\n",
      "Performing statistical tests...\n",
      "\n",
      "\n",
      "* Calculating mean gene expression.. \n",
      "\n",
      "\n",
      "* Estimating common precision.. \n",
      "\n",
      "\n",
      "! Using common_precision = 4.7973 as prec_init !\n",
      "\n",
      "\n",
      "* Estimating genewise precision.. \n",
      "\n",
      "\n",
      "! Using 0.70763 as a shrinkage factor !\n",
      "\n",
      "\n",
      "* Fitting the DM model.. \n",
      "\n",
      "\n",
      "   Using the one way approach. \n",
      "\n",
      "\n",
      "* Fitting the BB model.. \n",
      "\n",
      "\n",
      "   Using the one way approach. \n",
      "\n",
      "\n",
      "* Fitting the DM model.. \n",
      "\n",
      "\n",
      "   Using the one way approach. \n",
      "\n",
      "\n",
      "* Calculating likelihood ratio statistics.. \n",
      "\n",
      "\n",
      "* Fitting the BB model.. \n",
      "\n",
      "\n",
      "   Using the one way approach. \n",
      "\n",
      "\n",
      "* Calculating likelihood ratio statistics.. \n",
      "\n",
      "\n",
      "Posthoc filtered 2483 features.\n",
      "\n",
      "The returned adjusted p-values are based on a stage-wise testing approach and are only valid for the provided target OFDR level of 5%. If a different target OFDR level is of interest,the entire adjustment should be re-run. \n",
      "\n",
      "\n",
      "Found 682 significant genes with 1008 significant transcripts (OFDR: 0.05)\n",
      "\n"
     ]
    },
    {
     "name": "stdout",
     "output_type": "stream",
     "text": [
      "[1] \"Stem/TA-like_CRC08\"\n"
     ]
    },
    {
     "name": "stderr",
     "output_type": "stream",
     "text": [
      "Using tx2gene columns:\n",
      "\tTranName ---> 'feature_id'\n",
      "\tGeneName ---> 'gene_id'\n",
      "\n",
      "\n",
      "Comparing in 'celltype3_1': 'Stem/TA-like_CRC08' vs 'Stem/TA'\n",
      "\n",
      "Excluding 825 cells/samples for this comparison!\n",
      "\n",
      "\n",
      "Proceed with cells/samples: \n",
      "Stem/TA-like_CRC08            Stem/TA \n",
      "               107                191 \n",
      "\n",
      "\n",
      "Filtering...\n",
      "\n",
      "\n"
     ]
    },
    {
     "name": "stdout",
     "output_type": "stream",
     "text": [
      "  |======================================================================| 100%\n",
      "\n"
     ]
    },
    {
     "name": "stderr",
     "output_type": "stream",
     "text": [
      "Retain 18611 of 29100 features.\n",
      "Removed 10489 features.\n",
      "\n",
      "\n",
      "Performing statistical tests...\n",
      "\n",
      "\n",
      "* Calculating mean gene expression.. \n",
      "\n",
      "\n",
      "* Estimating common precision.. \n",
      "\n",
      "\n",
      "! Using common_precision = 4.7973 as prec_init !\n",
      "\n",
      "\n",
      "* Estimating genewise precision.. \n",
      "\n",
      "\n",
      "! Using 0.768095 as a shrinkage factor !\n",
      "\n",
      "\n",
      "* Fitting the DM model.. \n",
      "\n",
      "\n",
      "   Using the one way approach. \n",
      "\n",
      "\n",
      "* Fitting the BB model.. \n",
      "\n",
      "\n",
      "   Using the one way approach. \n",
      "\n",
      "\n",
      "* Fitting the DM model.. \n",
      "\n",
      "\n",
      "   Using the one way approach. \n",
      "\n",
      "\n",
      "* Calculating likelihood ratio statistics.. \n",
      "\n",
      "\n",
      "* Fitting the BB model.. \n",
      "\n",
      "\n",
      "   Using the one way approach. \n",
      "\n",
      "\n",
      "* Calculating likelihood ratio statistics.. \n",
      "\n",
      "\n",
      "Posthoc filtered 3262 features.\n",
      "\n",
      "The returned adjusted p-values are based on a stage-wise testing approach and are only valid for the provided target OFDR level of 5%. If a different target OFDR level is of interest,the entire adjustment should be re-run. \n",
      "\n",
      "\n",
      "Found 172 significant genes with 225 significant transcripts (OFDR: 0.05)\n",
      "\n"
     ]
    },
    {
     "name": "stdout",
     "output_type": "stream",
     "text": [
      "[1] \"Stem/TA-like_CRC09\"\n"
     ]
    },
    {
     "name": "stderr",
     "output_type": "stream",
     "text": [
      "Using tx2gene columns:\n",
      "\tTranName ---> 'feature_id'\n",
      "\tGeneName ---> 'gene_id'\n",
      "\n",
      "\n",
      "Comparing in 'celltype3_1': 'Stem/TA-like_CRC09' vs 'Stem/TA'\n",
      "\n",
      "Excluding 800 cells/samples for this comparison!\n",
      "\n",
      "\n",
      "Proceed with cells/samples: \n",
      "Stem/TA-like_CRC09            Stem/TA \n",
      "               132                191 \n",
      "\n",
      "\n",
      "Filtering...\n",
      "\n",
      "\n"
     ]
    },
    {
     "name": "stdout",
     "output_type": "stream",
     "text": [
      "  |======================================================================| 100%\n",
      "\n"
     ]
    },
    {
     "name": "stderr",
     "output_type": "stream",
     "text": [
      "Retain 17701 of 28985 features.\n",
      "Removed 11284 features.\n",
      "\n",
      "\n",
      "Performing statistical tests...\n",
      "\n",
      "\n",
      "* Calculating mean gene expression.. \n",
      "\n",
      "\n",
      "* Estimating common precision.. \n",
      "\n",
      "\n",
      "! Using common_precision = 4.7973 as prec_init !\n",
      "\n",
      "\n",
      "* Estimating genewise precision.. \n",
      "\n",
      "\n",
      "! Using 0.656884 as a shrinkage factor !\n",
      "\n",
      "\n",
      "* Fitting the DM model.. \n",
      "\n",
      "\n",
      "   Using the one way approach. \n",
      "\n",
      "\n",
      "* Fitting the BB model.. \n",
      "\n",
      "\n",
      "   Using the one way approach. \n",
      "\n",
      "\n",
      "* Fitting the DM model.. \n",
      "\n",
      "\n",
      "   Using the one way approach. \n",
      "\n",
      "\n",
      "* Calculating likelihood ratio statistics.. \n",
      "\n",
      "\n",
      "* Fitting the BB model.. \n",
      "\n",
      "\n",
      "   Using the one way approach. \n",
      "\n",
      "\n",
      "* Calculating likelihood ratio statistics.. \n",
      "\n",
      "\n",
      "Posthoc filtered 2801 features.\n",
      "\n",
      "The returned adjusted p-values are based on a stage-wise testing approach and are only valid for the provided target OFDR level of 5%. If a different target OFDR level is of interest,the entire adjustment should be re-run. \n",
      "\n",
      "\n",
      "Found 191 significant genes with 239 significant transcripts (OFDR: 0.05)\n",
      "\n"
     ]
    },
    {
     "name": "stdout",
     "output_type": "stream",
     "text": [
      "[1] \"Stem/TA-like_CRC10\"\n"
     ]
    },
    {
     "name": "stderr",
     "output_type": "stream",
     "text": [
      "Using tx2gene columns:\n",
      "\tTranName ---> 'feature_id'\n",
      "\tGeneName ---> 'gene_id'\n",
      "\n",
      "\n",
      "Comparing in 'celltype3_1': 'Stem/TA-like_CRC10' vs 'Stem/TA'\n",
      "\n",
      "Excluding 859 cells/samples for this comparison!\n",
      "\n",
      "\n",
      "Proceed with cells/samples: \n",
      "Stem/TA-like_CRC10            Stem/TA \n",
      "                73                191 \n",
      "\n",
      "\n",
      "Filtering...\n",
      "\n",
      "\n"
     ]
    },
    {
     "name": "stdout",
     "output_type": "stream",
     "text": [
      "  |======================================================================| 100%\n",
      "\n"
     ]
    },
    {
     "name": "stderr",
     "output_type": "stream",
     "text": [
      "Retain 21087 of 29095 features.\n",
      "Removed 8008 features.\n",
      "\n",
      "\n",
      "Performing statistical tests...\n",
      "\n",
      "\n",
      "* Calculating mean gene expression.. \n",
      "\n",
      "\n",
      "* Estimating common precision.. \n",
      "\n",
      "\n",
      "! Using common_precision = 4.7973 as prec_init !\n",
      "\n",
      "\n",
      "* Estimating genewise precision.. \n",
      "\n",
      "\n",
      "! Using 0.711632 as a shrinkage factor !\n",
      "\n",
      "\n",
      "* Fitting the DM model.. \n",
      "\n",
      "\n",
      "   Using the one way approach. \n",
      "\n",
      "\n",
      "* Fitting the BB model.. \n",
      "\n",
      "\n",
      "   Using the one way approach. \n",
      "\n",
      "\n",
      "* Fitting the DM model.. \n",
      "\n",
      "\n",
      "   Using the one way approach. \n",
      "\n",
      "\n",
      "* Calculating likelihood ratio statistics.. \n",
      "\n",
      "\n",
      "* Fitting the BB model.. \n",
      "\n",
      "\n",
      "   Using the one way approach. \n",
      "\n",
      "\n",
      "* Calculating likelihood ratio statistics.. \n",
      "\n",
      "\n",
      "Posthoc filtered 4755 features.\n",
      "\n",
      "The returned adjusted p-values are based on a stage-wise testing approach and are only valid for the provided target OFDR level of 5%. If a different target OFDR level is of interest,the entire adjustment should be re-run. \n",
      "\n",
      "\n",
      "Found 1078 significant genes with 1491 significant transcripts (OFDR: 0.05)\n",
      "\n"
     ]
    },
    {
     "name": "stdout",
     "output_type": "stream",
     "text": [
      "[1] \"Stem/TA-like_HTCRC01\"\n"
     ]
    },
    {
     "name": "stderr",
     "output_type": "stream",
     "text": [
      "Using tx2gene columns:\n",
      "\tTranName ---> 'feature_id'\n",
      "\tGeneName ---> 'gene_id'\n",
      "\n",
      "\n",
      "Comparing in 'celltype3_1': 'Stem/TA-like_HTCRC01' vs 'Stem/TA'\n",
      "\n",
      "Excluding 975 cells/samples for this comparison!\n",
      "\n",
      "\n",
      "Proceed with cells/samples: \n",
      "Stem/TA-like_HTCRC01              Stem/TA \n",
      "                 413                  168 \n",
      "\n",
      "\n",
      "Filtering...\n",
      "\n",
      "\n"
     ]
    },
    {
     "name": "stdout",
     "output_type": "stream",
     "text": [
      "  |======================================================================| 100%\n",
      "\n"
     ]
    },
    {
     "name": "stderr",
     "output_type": "stream",
     "text": [
      "Retain 13173 of 27351 features.\n",
      "Removed 14178 features.\n",
      "\n",
      "\n",
      "Performing statistical tests...\n",
      "\n",
      "\n",
      "* Calculating mean gene expression.. \n",
      "\n",
      "\n",
      "* Estimating common precision.. \n",
      "\n",
      "\n",
      "! Using common_precision = 8.1306 as prec_init !\n",
      "\n",
      "\n",
      "* Estimating genewise precision.. \n",
      "\n",
      "\n",
      "! Using loess fit as a shrinkage factor !\n",
      "\n",
      "\n",
      "* Fitting the DM model.. \n",
      "\n",
      "\n",
      "   Using the one way approach. \n",
      "\n",
      "\n",
      "* Fitting the BB model.. \n",
      "\n",
      "\n",
      "   Using the one way approach. \n",
      "\n",
      "\n",
      "* Fitting the DM model.. \n",
      "\n",
      "\n",
      "   Using the one way approach. \n",
      "\n",
      "\n",
      "* Calculating likelihood ratio statistics.. \n",
      "\n",
      "\n",
      "* Fitting the BB model.. \n",
      "\n",
      "\n",
      "   Using the one way approach. \n",
      "\n",
      "\n",
      "* Calculating likelihood ratio statistics.. \n",
      "\n",
      "\n",
      "Posthoc filtered 4012 features.\n",
      "\n",
      "The returned adjusted p-values are based on a stage-wise testing approach and are only valid for the provided target OFDR level of 5%. If a different target OFDR level is of interest,the entire adjustment should be re-run. \n",
      "\n",
      "\n",
      "Found 365 significant genes with 539 significant transcripts (OFDR: 0.05)\n",
      "\n"
     ]
    },
    {
     "name": "stdout",
     "output_type": "stream",
     "text": [
      "[1] \"Stem/TA-like_HTCRC04\"\n"
     ]
    },
    {
     "name": "stderr",
     "output_type": "stream",
     "text": [
      "Using tx2gene columns:\n",
      "\tTranName ---> 'feature_id'\n",
      "\tGeneName ---> 'gene_id'\n",
      "\n",
      "\n",
      "Comparing in 'celltype3_1': 'Stem/TA-like_HTCRC04' vs 'Stem/TA'\n",
      "\n",
      "Excluding 871 cells/samples for this comparison!\n",
      "\n",
      "\n",
      "Proceed with cells/samples: \n",
      "Stem/TA-like_HTCRC04              Stem/TA \n",
      "                 517                  168 \n",
      "\n",
      "\n",
      "Filtering...\n",
      "\n",
      "\n"
     ]
    },
    {
     "name": "stdout",
     "output_type": "stream",
     "text": [
      "  |======================================================================| 100%\n",
      "\n"
     ]
    },
    {
     "name": "stderr",
     "output_type": "stream",
     "text": [
      "Retain 15424 of 28090 features.\n",
      "Removed 12666 features.\n",
      "\n",
      "\n",
      "Performing statistical tests...\n",
      "\n",
      "\n",
      "* Calculating mean gene expression.. \n",
      "\n",
      "\n",
      "* Estimating common precision.. \n",
      "\n",
      "\n",
      "! Using common_precision = 13.1556 as prec_init !\n",
      "\n",
      "\n",
      "* Estimating genewise precision.. \n",
      "\n",
      "\n",
      "! Using loess fit as a shrinkage factor !\n",
      "\n",
      "\n",
      "* Fitting the DM model.. \n",
      "\n",
      "\n",
      "   Using the one way approach. \n",
      "\n",
      "\n",
      "* Fitting the BB model.. \n",
      "\n",
      "\n",
      "   Using the one way approach. \n",
      "\n",
      "\n",
      "* Fitting the DM model.. \n",
      "\n",
      "\n",
      "   Using the one way approach. \n",
      "\n",
      "\n",
      "* Calculating likelihood ratio statistics.. \n",
      "\n",
      "\n",
      "* Fitting the BB model.. \n",
      "\n",
      "\n",
      "   Using the one way approach. \n",
      "\n",
      "\n",
      "* Calculating likelihood ratio statistics.. \n",
      "\n",
      "\n",
      "Posthoc filtered 4697 features.\n",
      "\n",
      "The returned adjusted p-values are based on a stage-wise testing approach and are only valid for the provided target OFDR level of 5%. If a different target OFDR level is of interest,the entire adjustment should be re-run. \n",
      "\n",
      "\n",
      "Found 846 significant genes with 1395 significant transcripts (OFDR: 0.05)\n",
      "\n"
     ]
    },
    {
     "name": "stdout",
     "output_type": "stream",
     "text": [
      "[1] \"Stem/TA-like_HTCRC05\"\n"
     ]
    },
    {
     "name": "stderr",
     "output_type": "stream",
     "text": [
      "Using tx2gene columns:\n",
      "\tTranName ---> 'feature_id'\n",
      "\tGeneName ---> 'gene_id'\n",
      "\n",
      "\n",
      "Comparing in 'celltype3_1': 'Stem/TA-like_HTCRC05' vs 'Stem/TA'\n",
      "\n",
      "Excluding 930 cells/samples for this comparison!\n",
      "\n",
      "\n",
      "Proceed with cells/samples: \n",
      "Stem/TA-like_HTCRC05              Stem/TA \n",
      "                 458                  168 \n",
      "\n",
      "\n",
      "Filtering...\n",
      "\n",
      "\n"
     ]
    },
    {
     "name": "stdout",
     "output_type": "stream",
     "text": [
      "  |======================================================================| 100%\n",
      "\n"
     ]
    },
    {
     "name": "stderr",
     "output_type": "stream",
     "text": [
      "Retain 14108 of 27849 features.\n",
      "Removed 13741 features.\n",
      "\n",
      "\n",
      "Performing statistical tests...\n",
      "\n",
      "\n",
      "* Calculating mean gene expression.. \n",
      "\n",
      "\n",
      "* Estimating common precision.. \n",
      "\n",
      "\n",
      "! Using common_precision = 4.7973 as prec_init !\n",
      "\n",
      "\n",
      "* Estimating genewise precision.. \n",
      "\n",
      "\n",
      "! Using loess fit as a shrinkage factor !\n",
      "\n",
      "\n",
      "* Fitting the DM model.. \n",
      "\n",
      "\n",
      "   Using the one way approach. \n",
      "\n",
      "\n",
      "* Fitting the BB model.. \n",
      "\n",
      "\n",
      "   Using the one way approach. \n",
      "\n",
      "\n",
      "* Fitting the DM model.. \n",
      "\n",
      "\n",
      "   Using the one way approach. \n",
      "\n",
      "\n",
      "* Calculating likelihood ratio statistics.. \n",
      "\n",
      "\n",
      "* Fitting the BB model.. \n",
      "\n",
      "\n",
      "   Using the one way approach. \n",
      "\n",
      "\n",
      "* Calculating likelihood ratio statistics.. \n",
      "\n",
      "\n",
      "Posthoc filtered 3546 features.\n",
      "\n",
      "The returned adjusted p-values are based on a stage-wise testing approach and are only valid for the provided target OFDR level of 5%. If a different target OFDR level is of interest,the entire adjustment should be re-run. \n",
      "\n",
      "\n",
      "Found 142 significant genes with 201 significant transcripts (OFDR: 0.05)\n",
      "\n"
     ]
    }
   ],
   "source": [
    "# DTU in each patient\n",
    "dturtle.list <- list()\n",
    "ont_crc <- subset(ont, cells = (ont@meta.data %>% filter(data %in% \"CRC\"))$CellName)\n",
    "ont_htcrc <- subset(ont, cells = (ont@meta.data %>% filter(data %in% \"HTCRC\"))$CellName)\n",
    "\n",
    "for (i in c(2:13)) {\n",
    "  p <- names(table(ont@meta.data$celltype3_1))[i]\n",
    "  print(p)\n",
    "\n",
    "  # Determine which dataset and conditions to use based on `i`\n",
    "  if (i %in% 2:10) { # 9 patients of CRC data\n",
    "    mysub <- ont_crc\n",
    "    mycts <- cts[, ont_crc@meta.data$CellName]\n",
    "  } else {\n",
    "    mysub <- ont_htcrc\n",
    "    mycts <- cts[, ont_htcrc@meta.data$CellName]\n",
    "  }\n",
    "\n",
    "  dturtle <- run_drimseq( # DTU analysis takes more than 2h\n",
    "    counts = mycts, tx2gene = tx2gene, pd = mysub@meta.data, id_col = \"CellName\",\n",
    "    cond_col = \"celltype3_1\", cond_levels = c(p, \"Stem/TA\"), filtering_strategy = \"sc\", BPPARAM = biocpar\n",
    "  )\n",
    "  dturtle <- posthoc_and_stager(dturtle = dturtle, ofdr = 0.05, posthoc = 0.1)\n",
    "  # DTU table creation\n",
    "  dturtle <- create_dtu_table(\n",
    "    dturtle = dturtle, # add_gene_metadata = list(\"exp_in_NE\"=\"exp_in_NE\",\"exp_in_CC\"=\"exp_in_CC\"),\n",
    "    add_tx_metadata = list(\"tx_expr_in_max\" = c(\"exp_in\", max))\n",
    "  )\n",
    "  saveRDS(dturtle, file = sprintf(\"dturtle_%s.rds\", sapply(strsplit(p, split = \"_\"), function(x) {\n",
    "    x[2]\n",
    "  })))\n",
    "  dturtle.list[[p]] <- dturtle\n",
    "}"
   ]
  },
  {
   "cell_type": "code",
   "execution_count": 83,
   "metadata": {},
   "outputs": [],
   "source": [
    "saveRDS(dturtle.list, file = \"00_dturtle.list_StemTA.rds\")"
   ]
  },
  {
   "cell_type": "markdown",
   "metadata": {},
   "source": [
    "# DTU result"
   ]
  },
  {
   "cell_type": "code",
   "execution_count": 10,
   "metadata": {},
   "outputs": [],
   "source": [
    "dturtle.list <- readRDS(file = \"00_dturtle.list_StemTA.rds\")"
   ]
  },
  {
   "cell_type": "code",
   "execution_count": 12,
   "metadata": {},
   "outputs": [
    {
     "data": {
      "text/html": [
       "<style>\n",
       ".list-inline {list-style: none; margin:0; padding: 0}\n",
       ".list-inline>li {display: inline-block}\n",
       ".list-inline>li:not(:last-child)::after {content: \"\\00b7\"; padding: 0 .5ex}\n",
       "</style>\n",
       "<ol class=list-inline><li>'Stem/TA-like_CRC01'</li><li>'Stem/TA-like_CRC02'</li><li>'Stem/TA-like_CRC03'</li><li>'Stem/TA-like_CRC04'</li><li>'Stem/TA-like_CRC05'</li><li>'Stem/TA-like_CRC07'</li><li>'Stem/TA-like_CRC08'</li><li>'Stem/TA-like_CRC09'</li><li>'Stem/TA-like_CRC10'</li><li>'Stem/TA-like_HTCRC01'</li><li>'Stem/TA-like_HTCRC04'</li><li>'Stem/TA-like_HTCRC05'</li></ol>\n"
      ],
      "text/latex": [
       "\\begin{enumerate*}\n",
       "\\item 'Stem/TA-like\\_CRC01'\n",
       "\\item 'Stem/TA-like\\_CRC02'\n",
       "\\item 'Stem/TA-like\\_CRC03'\n",
       "\\item 'Stem/TA-like\\_CRC04'\n",
       "\\item 'Stem/TA-like\\_CRC05'\n",
       "\\item 'Stem/TA-like\\_CRC07'\n",
       "\\item 'Stem/TA-like\\_CRC08'\n",
       "\\item 'Stem/TA-like\\_CRC09'\n",
       "\\item 'Stem/TA-like\\_CRC10'\n",
       "\\item 'Stem/TA-like\\_HTCRC01'\n",
       "\\item 'Stem/TA-like\\_HTCRC04'\n",
       "\\item 'Stem/TA-like\\_HTCRC05'\n",
       "\\end{enumerate*}\n"
      ],
      "text/markdown": [
       "1. 'Stem/TA-like_CRC01'\n",
       "2. 'Stem/TA-like_CRC02'\n",
       "3. 'Stem/TA-like_CRC03'\n",
       "4. 'Stem/TA-like_CRC04'\n",
       "5. 'Stem/TA-like_CRC05'\n",
       "6. 'Stem/TA-like_CRC07'\n",
       "7. 'Stem/TA-like_CRC08'\n",
       "8. 'Stem/TA-like_CRC09'\n",
       "9. 'Stem/TA-like_CRC10'\n",
       "10. 'Stem/TA-like_HTCRC01'\n",
       "11. 'Stem/TA-like_HTCRC04'\n",
       "12. 'Stem/TA-like_HTCRC05'\n",
       "\n",
       "\n"
      ],
      "text/plain": [
       " [1] \"Stem/TA-like_CRC01\"   \"Stem/TA-like_CRC02\"   \"Stem/TA-like_CRC03\"  \n",
       " [4] \"Stem/TA-like_CRC04\"   \"Stem/TA-like_CRC05\"   \"Stem/TA-like_CRC07\"  \n",
       " [7] \"Stem/TA-like_CRC08\"   \"Stem/TA-like_CRC09\"   \"Stem/TA-like_CRC10\"  \n",
       "[10] \"Stem/TA-like_HTCRC01\" \"Stem/TA-like_HTCRC04\" \"Stem/TA-like_HTCRC05\""
      ]
     },
     "metadata": {},
     "output_type": "display_data"
    }
   ],
   "source": [
    "names(dturtle.list)"
   ]
  },
  {
   "cell_type": "code",
   "execution_count": 13,
   "metadata": {},
   "outputs": [
    {
     "data": {
      "text/html": [
       "<table class=\"dataframe\">\n",
       "<caption>A data.frame: 2 × 4</caption>\n",
       "<thead>\n",
       "\t<tr><th></th><th scope=col>gene</th><th scope=col>exp_in</th><th scope=col>exp_in_Stem/TA-like_CRC01</th><th scope=col>exp_in_Stem/TA</th></tr>\n",
       "\t<tr><th></th><th scope=col>&lt;chr&gt;</th><th scope=col>&lt;dbl&gt;</th><th scope=col>&lt;dbl&gt;</th><th scope=col>&lt;dbl&gt;</th></tr>\n",
       "</thead>\n",
       "<tbody>\n",
       "\t<tr><th scope=row>A1CF</th><td>A1CF</td><td>0.4935897</td><td>0.4710744</td><td>0.5078534</td></tr>\n",
       "\t<tr><th scope=row>AAAS</th><td>AAAS</td><td>0.4262821</td><td>0.5206612</td><td>0.3664921</td></tr>\n",
       "</tbody>\n",
       "</table>\n"
      ],
      "text/latex": [
       "A data.frame: 2 × 4\n",
       "\\begin{tabular}{r|llll}\n",
       "  & gene & exp\\_in & exp\\_in\\_Stem/TA-like\\_CRC01 & exp\\_in\\_Stem/TA\\\\\n",
       "  & <chr> & <dbl> & <dbl> & <dbl>\\\\\n",
       "\\hline\n",
       "\tA1CF & A1CF & 0.4935897 & 0.4710744 & 0.5078534\\\\\n",
       "\tAAAS & AAAS & 0.4262821 & 0.5206612 & 0.3664921\\\\\n",
       "\\end{tabular}\n"
      ],
      "text/markdown": [
       "\n",
       "A data.frame: 2 × 4\n",
       "\n",
       "| <!--/--> | gene &lt;chr&gt; | exp_in &lt;dbl&gt; | exp_in_Stem/TA-like_CRC01 &lt;dbl&gt; | exp_in_Stem/TA &lt;dbl&gt; |\n",
       "|---|---|---|---|---|\n",
       "| A1CF | A1CF | 0.4935897 | 0.4710744 | 0.5078534 |\n",
       "| AAAS | AAAS | 0.4262821 | 0.5206612 | 0.3664921 |\n",
       "\n"
      ],
      "text/plain": [
       "     gene exp_in    exp_in_Stem/TA-like_CRC01 exp_in_Stem/TA\n",
       "A1CF A1CF 0.4935897 0.4710744                 0.5078534     \n",
       "AAAS AAAS 0.4262821 0.5206612                 0.3664921     "
      ]
     },
     "metadata": {},
     "output_type": "display_data"
    },
    {
     "data": {
      "text/html": [
       "<table class=\"dataframe\">\n",
       "<caption>A data.frame: 2 × 5</caption>\n",
       "<thead>\n",
       "\t<tr><th></th><th scope=col>gene</th><th scope=col>tx</th><th scope=col>exp_in</th><th scope=col>exp_in_Stem/TA-like_CRC01</th><th scope=col>exp_in_Stem/TA</th></tr>\n",
       "\t<tr><th></th><th scope=col>&lt;chr&gt;</th><th scope=col>&lt;chr&gt;</th><th scope=col>&lt;dbl&gt;</th><th scope=col>&lt;dbl&gt;</th><th scope=col>&lt;dbl&gt;</th></tr>\n",
       "</thead>\n",
       "<tbody>\n",
       "\t<tr><th scope=row>A1CF-202</th><td>A1CF</td><td>A1CF-202</td><td>0.08974359</td><td>0.16528926</td><td>0.04188482</td></tr>\n",
       "\t<tr><th scope=row>A1CF-204</th><td>A1CF</td><td>A1CF-204</td><td>0.03205128</td><td>0.03305785</td><td>0.03141361</td></tr>\n",
       "</tbody>\n",
       "</table>\n"
      ],
      "text/latex": [
       "A data.frame: 2 × 5\n",
       "\\begin{tabular}{r|lllll}\n",
       "  & gene & tx & exp\\_in & exp\\_in\\_Stem/TA-like\\_CRC01 & exp\\_in\\_Stem/TA\\\\\n",
       "  & <chr> & <chr> & <dbl> & <dbl> & <dbl>\\\\\n",
       "\\hline\n",
       "\tA1CF-202 & A1CF & A1CF-202 & 0.08974359 & 0.16528926 & 0.04188482\\\\\n",
       "\tA1CF-204 & A1CF & A1CF-204 & 0.03205128 & 0.03305785 & 0.03141361\\\\\n",
       "\\end{tabular}\n"
      ],
      "text/markdown": [
       "\n",
       "A data.frame: 2 × 5\n",
       "\n",
       "| <!--/--> | gene &lt;chr&gt; | tx &lt;chr&gt; | exp_in &lt;dbl&gt; | exp_in_Stem/TA-like_CRC01 &lt;dbl&gt; | exp_in_Stem/TA &lt;dbl&gt; |\n",
       "|---|---|---|---|---|---|\n",
       "| A1CF-202 | A1CF | A1CF-202 | 0.08974359 | 0.16528926 | 0.04188482 |\n",
       "| A1CF-204 | A1CF | A1CF-204 | 0.03205128 | 0.03305785 | 0.03141361 |\n",
       "\n"
      ],
      "text/plain": [
       "         gene tx       exp_in     exp_in_Stem/TA-like_CRC01 exp_in_Stem/TA\n",
       "A1CF-202 A1CF A1CF-202 0.08974359 0.16528926                0.04188482    \n",
       "A1CF-204 A1CF A1CF-204 0.03205128 0.03305785                0.03141361    "
      ]
     },
     "metadata": {},
     "output_type": "display_data"
    }
   ],
   "source": [
    "# meta_table_gene: Contains gene level meta data.\n",
    "# meta_table_tx: Contains transcript level meta data\n",
    "# meta_table_sample: Contains sample level meta data\n",
    "head(dturtle.list[[\"Stem/TA-like_CRC01\"]]$meta_table_gene, 2)\n",
    "head(dturtle.list[[\"Stem/TA-like_CRC01\"]]$meta_table_tx, 2)"
   ]
  },
  {
   "cell_type": "markdown",
   "metadata": {},
   "source": [
    "## merge sig_gene results"
   ]
  },
  {
   "cell_type": "code",
   "execution_count": 14,
   "metadata": {},
   "outputs": [
    {
     "name": "stdout",
     "output_type": "stream",
     "text": [
      "[1] \"Stem/TA-like_CRC01\"\n",
      "[1] \"Stem/TA-like_CRC02\"\n",
      "[1] \"Stem/TA-like_CRC03\"\n",
      "[1] \"Stem/TA-like_CRC04\"\n",
      "[1] \"Stem/TA-like_CRC05\"\n",
      "[1] \"Stem/TA-like_CRC07\"\n",
      "[1] \"Stem/TA-like_CRC08\"\n",
      "[1] \"Stem/TA-like_CRC09\"\n",
      "[1] \"Stem/TA-like_CRC10\"\n",
      "[1] \"Stem/TA-like_HTCRC01\"\n",
      "[1] \"Stem/TA-like_HTCRC04\"\n",
      "[1] \"Stem/TA-like_HTCRC05\"\n"
     ]
    }
   ],
   "source": [
    "for (p in names(dturtle.list)) {\n",
    "  print(p)\n",
    "  dtu_table <- dturtle.list[[p]]$dtu_table\n",
    "  colnames(dtu_table) <- c(\"GeneName\", \"gene_qvalue\", \"minimal_tx_qvalue\", \"number_tx\", \"number_significant_tx\", \"max(Stem/TA-like-Stem/TA)\", \"pct_gene_expr\", \"tx_expr_in_max\")\n",
    "  dtu_table$patient <- p\n",
    "  if (p %in% names(dturtle.list)[1]) {\n",
    "    dtu_gene_rbind <- dtu_table\n",
    "  } else {\n",
    "    dtu_gene_rbind <- rbind(dtu_gene_rbind, dtu_table)\n",
    "  }\n",
    "}"
   ]
  },
  {
   "cell_type": "code",
   "execution_count": 15,
   "metadata": {},
   "outputs": [
    {
     "data": {
      "text/html": [
       "<table class=\"dataframe\">\n",
       "<caption>A grouped_df: 1 × 11</caption>\n",
       "<thead>\n",
       "\t<tr><th scope=col>GeneName</th><th scope=col>gene_qvalue</th><th scope=col>minimal_tx_qvalue</th><th scope=col>number_tx</th><th scope=col>number_significant_tx</th><th scope=col>max(Stem/TA-like-Stem/TA)</th><th scope=col>pct_gene_expr</th><th scope=col>tx_expr_in_max</th><th scope=col>patient</th><th scope=col>DTU_gene_nPatients</th><th scope=col>max_in_allpatients</th></tr>\n",
       "\t<tr><th scope=col>&lt;chr&gt;</th><th scope=col>&lt;dbl&gt;</th><th scope=col>&lt;dbl&gt;</th><th scope=col>&lt;int&gt;</th><th scope=col>&lt;int&gt;</th><th scope=col>&lt;dbl&gt;</th><th scope=col>&lt;dbl&gt;</th><th scope=col>&lt;dbl&gt;</th><th scope=col>&lt;chr&gt;</th><th scope=col>&lt;int&gt;</th><th scope=col>&lt;dbl&gt;</th></tr>\n",
       "</thead>\n",
       "<tbody>\n",
       "\t<tr><td>RPS14</td><td>1.280661e-20</td><td>5.35024e-20</td><td>3</td><td>3</td><td>-0.1962087</td><td>0.983871</td><td>0.9717742</td><td>CRC04</td><td>12</td><td>0.1962087</td></tr>\n",
       "</tbody>\n",
       "</table>\n"
      ],
      "text/latex": [
       "A grouped\\_df: 1 × 11\n",
       "\\begin{tabular}{lllllllllll}\n",
       " GeneName & gene\\_qvalue & minimal\\_tx\\_qvalue & number\\_tx & number\\_significant\\_tx & max(Stem/TA-like-Stem/TA) & pct\\_gene\\_expr & tx\\_expr\\_in\\_max & patient & DTU\\_gene\\_nPatients & max\\_in\\_allpatients\\\\\n",
       " <chr> & <dbl> & <dbl> & <int> & <int> & <dbl> & <dbl> & <dbl> & <chr> & <int> & <dbl>\\\\\n",
       "\\hline\n",
       "\t RPS14 & 1.280661e-20 & 5.35024e-20 & 3 & 3 & -0.1962087 & 0.983871 & 0.9717742 & CRC04 & 12 & 0.1962087\\\\\n",
       "\\end{tabular}\n"
      ],
      "text/markdown": [
       "\n",
       "A grouped_df: 1 × 11\n",
       "\n",
       "| GeneName &lt;chr&gt; | gene_qvalue &lt;dbl&gt; | minimal_tx_qvalue &lt;dbl&gt; | number_tx &lt;int&gt; | number_significant_tx &lt;int&gt; | max(Stem/TA-like-Stem/TA) &lt;dbl&gt; | pct_gene_expr &lt;dbl&gt; | tx_expr_in_max &lt;dbl&gt; | patient &lt;chr&gt; | DTU_gene_nPatients &lt;int&gt; | max_in_allpatients &lt;dbl&gt; |\n",
       "|---|---|---|---|---|---|---|---|---|---|---|\n",
       "| RPS14 | 1.280661e-20 | 5.35024e-20 | 3 | 3 | -0.1962087 | 0.983871 | 0.9717742 | CRC04 | 12 | 0.1962087 |\n",
       "\n"
      ],
      "text/plain": [
       "  GeneName gene_qvalue  minimal_tx_qvalue number_tx number_significant_tx\n",
       "1 RPS14    1.280661e-20 5.35024e-20       3         3                    \n",
       "  max(Stem/TA-like-Stem/TA) pct_gene_expr tx_expr_in_max patient\n",
       "1 -0.1962087                0.983871      0.9717742      CRC04  \n",
       "  DTU_gene_nPatients max_in_allpatients\n",
       "1 12                 0.1962087         "
      ]
     },
     "metadata": {},
     "output_type": "display_data"
    }
   ],
   "source": [
    "dtu_gene_rbind <- dtu_gene_rbind %>%\n",
    "  group_by(GeneName) %>%\n",
    "  mutate(DTU_gene_nPatients = length(patient), max_in_allpatients = max(abs(`max(Stem/TA-like-Stem/TA)`))) %>%\n",
    "  arrange(desc(DTU_gene_nPatients), desc(max_in_allpatients), gene_qvalue)\n",
    "dtu_gene_rbind$patient <- sapply(strsplit(dtu_gene_rbind$patient, split = \"_\"), function(x) {\n",
    "  x[2]\n",
    "})\n",
    "\n",
    "head(dtu_gene_rbind, 1)"
   ]
  },
  {
   "cell_type": "code",
   "execution_count": 16,
   "metadata": {},
   "outputs": [],
   "source": [
    "write.table(dtu_gene_rbind, file = \"00_StemTA_DTU_gene_rbind_each_patient.txt\", quote = F, row.names = F, sep = \"\\t\")"
   ]
  },
  {
   "cell_type": "markdown",
   "metadata": {
    "tags": []
   },
   "source": [
    "## merge sig_tx result"
   ]
  },
  {
   "cell_type": "code",
   "execution_count": 18,
   "metadata": {},
   "outputs": [],
   "source": [
    "for (p in names(dturtle.list)) {\n",
    "  fdr_table <- dturtle.list[[p]]$FDR_table\n",
    "  fdr_table <- fdr_table[!is.na(fdr_table$transcript), c(\"txID\", \"transcript\")]\n",
    "  colnames(fdr_table) <- c(\"TranName\", \"tx_fdr\")\n",
    "  fdr_table$patient <- p\n",
    "\n",
    "  if (p %in% names(dturtle.list)[1]) {\n",
    "    dtu_tx_rbind <- fdr_table\n",
    "  } else {\n",
    "    dtu_tx_rbind <- rbind(dtu_tx_rbind, fdr_table)\n",
    "  }\n",
    "}"
   ]
  },
  {
   "cell_type": "code",
   "execution_count": 19,
   "metadata": {},
   "outputs": [
    {
     "data": {
      "text/html": [
       "<style>\n",
       ".list-inline {list-style: none; margin:0; padding: 0}\n",
       ".list-inline>li {display: inline-block}\n",
       ".list-inline>li:not(:last-child)::after {content: \"\\00b7\"; padding: 0 .5ex}\n",
       "</style>\n",
       "<ol class=list-inline><li>25383</li><li>4</li></ol>\n"
      ],
      "text/latex": [
       "\\begin{enumerate*}\n",
       "\\item 25383\n",
       "\\item 4\n",
       "\\end{enumerate*}\n"
      ],
      "text/markdown": [
       "1. 25383\n",
       "2. 4\n",
       "\n",
       "\n"
      ],
      "text/plain": [
       "[1] 25383     4"
      ]
     },
     "metadata": {},
     "output_type": "display_data"
    },
    {
     "data": {
      "text/html": [
       "<table class=\"dataframe\">\n",
       "<caption>A grouped_df: 3 × 4</caption>\n",
       "<thead>\n",
       "\t<tr><th scope=col>TranName</th><th scope=col>tx_fdr</th><th scope=col>patient</th><th scope=col>DTU_tx_nPatients</th></tr>\n",
       "\t<tr><th scope=col>&lt;chr&gt;</th><th scope=col>&lt;dbl&gt;</th><th scope=col>&lt;chr&gt;</th><th scope=col>&lt;int&gt;</th></tr>\n",
       "</thead>\n",
       "<tbody>\n",
       "\t<tr><td>HLA-C-201</td><td>2.393202e-31</td><td>HTCRC04</td><td>12</td></tr>\n",
       "\t<tr><td>HLA-C-208</td><td>3.908262e-20</td><td>HTCRC04</td><td>12</td></tr>\n",
       "\t<tr><td>RPS14-201</td><td>5.350240e-20</td><td>CRC04  </td><td>12</td></tr>\n",
       "</tbody>\n",
       "</table>\n"
      ],
      "text/latex": [
       "A grouped\\_df: 3 × 4\n",
       "\\begin{tabular}{llll}\n",
       " TranName & tx\\_fdr & patient & DTU\\_tx\\_nPatients\\\\\n",
       " <chr> & <dbl> & <chr> & <int>\\\\\n",
       "\\hline\n",
       "\t HLA-C-201 & 2.393202e-31 & HTCRC04 & 12\\\\\n",
       "\t HLA-C-208 & 3.908262e-20 & HTCRC04 & 12\\\\\n",
       "\t RPS14-201 & 5.350240e-20 & CRC04   & 12\\\\\n",
       "\\end{tabular}\n"
      ],
      "text/markdown": [
       "\n",
       "A grouped_df: 3 × 4\n",
       "\n",
       "| TranName &lt;chr&gt; | tx_fdr &lt;dbl&gt; | patient &lt;chr&gt; | DTU_tx_nPatients &lt;int&gt; |\n",
       "|---|---|---|---|\n",
       "| HLA-C-201 | 2.393202e-31 | HTCRC04 | 12 |\n",
       "| HLA-C-208 | 3.908262e-20 | HTCRC04 | 12 |\n",
       "| RPS14-201 | 5.350240e-20 | CRC04   | 12 |\n",
       "\n"
      ],
      "text/plain": [
       "  TranName  tx_fdr       patient DTU_tx_nPatients\n",
       "1 HLA-C-201 2.393202e-31 HTCRC04 12              \n",
       "2 HLA-C-208 3.908262e-20 HTCRC04 12              \n",
       "3 RPS14-201 5.350240e-20 CRC04   12              "
      ]
     },
     "metadata": {},
     "output_type": "display_data"
    }
   ],
   "source": [
    "dtu_tx_rbind <- dtu_tx_rbind %>%\n",
    "  group_by(TranName) %>%\n",
    "  mutate(DTU_tx_nPatients = length(patient)) %>%\n",
    "  arrange(desc(DTU_tx_nPatients), tx_fdr)\n",
    "dtu_tx_rbind$patient <- sapply(strsplit(dtu_tx_rbind$patient, split = \"_\"), function(x) {\n",
    "  x[2]\n",
    "})\n",
    "\n",
    "dim(dtu_tx_rbind)\n",
    "head(dtu_tx_rbind, 3)"
   ]
  },
  {
   "cell_type": "code",
   "execution_count": 24,
   "metadata": {},
   "outputs": [],
   "source": [
    "dtu_tx_rbind <- merge(dtu_tx_rbind, tx_info[, c(\"TranName\", \"GeneName\")], by = \"TranName\", all.x = T)"
   ]
  },
  {
   "cell_type": "code",
   "execution_count": 26,
   "metadata": {},
   "outputs": [],
   "source": [
    "dtu_tx_rbind <- merge(dtu_tx_rbind, dtu_gene_rbind, by = c(\"GeneName\", \"patient\"), all.x = T)"
   ]
  },
  {
   "cell_type": "code",
   "execution_count": 27,
   "metadata": {},
   "outputs": [],
   "source": [
    "write.table(dtu_tx_rbind, file = \"00_StemTA_DTU_tx_rbind_each_patient.txt\", quote = F, sep = \"\\t\", row.names = F)"
   ]
  },
  {
   "cell_type": "code",
   "execution_count": null,
   "metadata": {},
   "outputs": [],
   "source": []
  },
  {
   "cell_type": "markdown",
   "metadata": {},
   "source": [
    "## gene TPM"
   ]
  },
  {
   "cell_type": "code",
   "execution_count": 34,
   "metadata": {},
   "outputs": [],
   "source": [
    "cell_info <- ont@meta.data[, c(\"CellName\", \"patient\", \"celltype3_1\", \"data\")]\n",
    "cell_info$celltype3_1 <- as.character(cell_info$celltype3_1)\n",
    "cell_info[which(cell_info$celltype3_1 %in% \"Stem/TA\"), ]$celltype3_1 <- paste0(\n",
    "  \"Stem/TA_\", cell_info[which(cell_info$celltype3_1 %in% \"Stem/TA\"), ]$data\n",
    ")"
   ]
  },
  {
   "cell_type": "code",
   "execution_count": 36,
   "metadata": {},
   "outputs": [
    {
     "data": {
      "text/html": [
       "<style>\n",
       ".list-inline {list-style: none; margin:0; padding: 0}\n",
       ".list-inline>li {display: inline-block}\n",
       ".list-inline>li:not(:last-child)::after {content: \"\\00b7\"; padding: 0 .5ex}\n",
       "</style>\n",
       "<ol class=list-inline><li>2726</li><li>2679</li></ol>\n"
      ],
      "text/latex": [
       "\\begin{enumerate*}\n",
       "\\item 2726\n",
       "\\item 2679\n",
       "\\end{enumerate*}\n"
      ],
      "text/markdown": [
       "1. 2726\n",
       "2. 2679\n",
       "\n",
       "\n"
      ],
      "text/plain": [
       "[1] 2726 2679"
      ]
     },
     "metadata": {},
     "output_type": "display_data"
    }
   ],
   "source": [
    "gene_tpm_qc <- read.csv(file = \"../../CRC_HTCRC_01_RNA_QC/00_gene_tpm_qc_500_genenumbersgt0_5400_3262.csv\", header = T, row.names = 1)\n",
    "gene_tpm_qc <- gene_tpm_qc[unique(dtu_tx_rbind$GeneName), cell_info$CellName]\n",
    "dim(gene_tpm_qc)"
   ]
  },
  {
   "cell_type": "code",
   "execution_count": 37,
   "metadata": {},
   "outputs": [],
   "source": [
    "gene_tpm_long <- gene_tpm_qc %>%\n",
    "  tibble::rownames_to_column(var = \"GeneName\") %>%\n",
    "  tidyr::pivot_longer(cols = -GeneName, names_to = \"CellName\", values_to = \"TPM\") %>%\n",
    "  left_join(cell_info, by = \"CellName\")"
   ]
  },
  {
   "cell_type": "code",
   "execution_count": 38,
   "metadata": {},
   "outputs": [],
   "source": [
    "write.table(gene_tpm_long, file = \"00_gene_tpm_LongFormat_in_celltype3_each_patient.txt\", sep = \"\\t\", quote = F, row.names = F)"
   ]
  },
  {
   "cell_type": "code",
   "execution_count": 39,
   "metadata": {},
   "outputs": [],
   "source": [
    "gene_tpm_avg <- gene_tpm_long %>%\n",
    "  group_by(patient, celltype3_1, GeneName) %>%\n",
    "  summarise(mean_TPM_gene = mean(TPM, na.rm = T), .groups = \"drop\") %>%\n",
    "  as.data.frame()"
   ]
  },
  {
   "cell_type": "code",
   "execution_count": 40,
   "metadata": {},
   "outputs": [],
   "source": [
    "gene_tpm_avg$celltype3 <- sapply(strsplit(gene_tpm_avg$celltype3_1, split = \"_\"), function(x) {\n",
    "  x[1]\n",
    "})\n",
    "gene_tpm_avg <- dcast(gene_tpm_avg, GeneName + patient ~ celltype3, value.var = \"mean_TPM_gene\")\n",
    "colnames(gene_tpm_avg) <- c(\"GeneName\", \"patient\", \"ave_gene_TPM_Stem/TA\", \"ave_gene_TPM_Stem/TA-like\")"
   ]
  },
  {
   "cell_type": "code",
   "execution_count": 41,
   "metadata": {},
   "outputs": [],
   "source": [
    "write.table(gene_tpm_avg, file = \"00_gene_tpm_average_in_celltype3_each_patient.txt\", sep = \"\\t\", quote = F, row.names = F)"
   ]
  },
  {
   "cell_type": "markdown",
   "metadata": {},
   "source": [
    "## tx TPM proportion"
   ]
  },
  {
   "cell_type": "code",
   "execution_count": 46,
   "metadata": {},
   "outputs": [
    {
     "data": {
      "text/html": [
       "<style>\n",
       ".list-inline {list-style: none; margin:0; padding: 0}\n",
       ".list-inline>li {display: inline-block}\n",
       ".list-inline>li:not(:last-child)::after {content: \"\\00b7\"; padding: 0 .5ex}\n",
       "</style>\n",
       "<ol class=list-inline><li>10993</li><li>2679</li></ol>\n"
      ],
      "text/latex": [
       "\\begin{enumerate*}\n",
       "\\item 10993\n",
       "\\item 2679\n",
       "\\end{enumerate*}\n"
      ],
      "text/markdown": [
       "1. 10993\n",
       "2. 2679\n",
       "\n",
       "\n"
      ],
      "text/plain": [
       "[1] 10993  2679"
      ]
     },
     "metadata": {},
     "output_type": "display_data"
    }
   ],
   "source": [
    "tx_tpm_qc <- read.csv(file = \"../../CRC_HTCRC_01_RNA_QC/00_tx_tpm_qc_500_genenumbersgt0_5400_3262.csv\", header = T, row.names = 1)\n",
    "tx_tpm_qc <- tx_tpm_qc[\n",
    "  (tx_info %>% filter(GeneName %in% unique(dtu_tx_rbind$GeneName)))$TranName,\n",
    "  cell_info$CellName\n",
    "]\n",
    "dim(tx_tpm_qc)"
   ]
  },
  {
   "cell_type": "code",
   "execution_count": null,
   "metadata": {},
   "outputs": [],
   "source": [
    "# Convert tx_tpm_qc to the long format and merge the cell annotation information\n",
    "tx_tpm_long <- tx_tpm_qc %>%\n",
    "  tibble::rownames_to_column(var = \"TranName\") %>%\n",
    "  tidyr::pivot_longer(cols = -TranName, names_to = \"CellName\", values_to = \"TPM\") %>%\n",
    "  left_join(cell_info, by = \"CellName\")\n",
    "dim(tx_tpm_long)"
   ]
  },
  {
   "cell_type": "code",
   "execution_count": null,
   "metadata": {},
   "outputs": [
    {
     "data": {
      "text/html": [
       "<table class=\"dataframe\">\n",
       "<caption>A data.frame: 6 × 7</caption>\n",
       "<thead>\n",
       "\t<tr><th></th><th scope=col>TranName</th><th scope=col>CellName</th><th scope=col>TPM</th><th scope=col>patient</th><th scope=col>celltype3_1</th><th scope=col>data</th><th scope=col>GeneName</th></tr>\n",
       "\t<tr><th></th><th scope=col>&lt;chr&gt;</th><th scope=col>&lt;chr&gt;</th><th scope=col>&lt;dbl&gt;</th><th scope=col>&lt;chr&gt;</th><th scope=col>&lt;chr&gt;</th><th scope=col>&lt;chr&gt;</th><th scope=col>&lt;chr&gt;</th></tr>\n",
       "</thead>\n",
       "<tbody>\n",
       "\t<tr><th scope=row>1</th><td>AAAS-201</td><td>CRC01_L1_Barcode01</td><td>  0.00000</td><td>CRC01</td><td>Stem/TA_CRC</td><td>CRC</td><td>AAAS</td></tr>\n",
       "\t<tr><th scope=row>2</th><td>AAAS-201</td><td>CRC01_L1_Barcode08</td><td>267.32166</td><td>CRC01</td><td>Stem/TA_CRC</td><td>CRC</td><td>AAAS</td></tr>\n",
       "\t<tr><th scope=row>3</th><td>AAAS-201</td><td>CRC01_L1_Barcode09</td><td>  0.00000</td><td>CRC01</td><td>Stem/TA_CRC</td><td>CRC</td><td>AAAS</td></tr>\n",
       "\t<tr><th scope=row>4</th><td>AAAS-201</td><td>CRC01_L1_Barcode10</td><td> 43.12358</td><td>CRC01</td><td>Stem/TA_CRC</td><td>CRC</td><td>AAAS</td></tr>\n",
       "\t<tr><th scope=row>5</th><td>AAAS-201</td><td>CRC01_L1_Barcode17</td><td>  0.00000</td><td>CRC01</td><td>Stem/TA_CRC</td><td>CRC</td><td>AAAS</td></tr>\n",
       "\t<tr><th scope=row>6</th><td>AAAS-201</td><td>CRC01_L1_Barcode21</td><td>  0.00000</td><td>CRC01</td><td>Stem/TA_CRC</td><td>CRC</td><td>AAAS</td></tr>\n",
       "</tbody>\n",
       "</table>\n"
      ],
      "text/latex": [
       "A data.frame: 6 × 7\n",
       "\\begin{tabular}{r|lllllll}\n",
       "  & TranName & CellName & TPM & patient & celltype3\\_1 & data & GeneName\\\\\n",
       "  & <chr> & <chr> & <dbl> & <chr> & <chr> & <chr> & <chr>\\\\\n",
       "\\hline\n",
       "\t1 & AAAS-201 & CRC01\\_L1\\_Barcode01 &   0.00000 & CRC01 & Stem/TA\\_CRC & CRC & AAAS\\\\\n",
       "\t2 & AAAS-201 & CRC01\\_L1\\_Barcode08 & 267.32166 & CRC01 & Stem/TA\\_CRC & CRC & AAAS\\\\\n",
       "\t3 & AAAS-201 & CRC01\\_L1\\_Barcode09 &   0.00000 & CRC01 & Stem/TA\\_CRC & CRC & AAAS\\\\\n",
       "\t4 & AAAS-201 & CRC01\\_L1\\_Barcode10 &  43.12358 & CRC01 & Stem/TA\\_CRC & CRC & AAAS\\\\\n",
       "\t5 & AAAS-201 & CRC01\\_L1\\_Barcode17 &   0.00000 & CRC01 & Stem/TA\\_CRC & CRC & AAAS\\\\\n",
       "\t6 & AAAS-201 & CRC01\\_L1\\_Barcode21 &   0.00000 & CRC01 & Stem/TA\\_CRC & CRC & AAAS\\\\\n",
       "\\end{tabular}\n"
      ],
      "text/markdown": [
       "\n",
       "A data.frame: 6 × 7\n",
       "\n",
       "| <!--/--> | TranName &lt;chr&gt; | CellName &lt;chr&gt; | TPM &lt;dbl&gt; | patient &lt;chr&gt; | celltype3_1 &lt;chr&gt; | data &lt;chr&gt; | GeneName &lt;chr&gt; |\n",
       "|---|---|---|---|---|---|---|---|\n",
       "| 1 | AAAS-201 | CRC01_L1_Barcode01 |   0.00000 | CRC01 | Stem/TA_CRC | CRC | AAAS |\n",
       "| 2 | AAAS-201 | CRC01_L1_Barcode08 | 267.32166 | CRC01 | Stem/TA_CRC | CRC | AAAS |\n",
       "| 3 | AAAS-201 | CRC01_L1_Barcode09 |   0.00000 | CRC01 | Stem/TA_CRC | CRC | AAAS |\n",
       "| 4 | AAAS-201 | CRC01_L1_Barcode10 |  43.12358 | CRC01 | Stem/TA_CRC | CRC | AAAS |\n",
       "| 5 | AAAS-201 | CRC01_L1_Barcode17 |   0.00000 | CRC01 | Stem/TA_CRC | CRC | AAAS |\n",
       "| 6 | AAAS-201 | CRC01_L1_Barcode21 |   0.00000 | CRC01 | Stem/TA_CRC | CRC | AAAS |\n",
       "\n"
      ],
      "text/plain": [
       "  TranName CellName           TPM       patient celltype3_1 data GeneName\n",
       "1 AAAS-201 CRC01_L1_Barcode01   0.00000 CRC01   Stem/TA_CRC CRC  AAAS    \n",
       "2 AAAS-201 CRC01_L1_Barcode08 267.32166 CRC01   Stem/TA_CRC CRC  AAAS    \n",
       "3 AAAS-201 CRC01_L1_Barcode09   0.00000 CRC01   Stem/TA_CRC CRC  AAAS    \n",
       "4 AAAS-201 CRC01_L1_Barcode10  43.12358 CRC01   Stem/TA_CRC CRC  AAAS    \n",
       "5 AAAS-201 CRC01_L1_Barcode17   0.00000 CRC01   Stem/TA_CRC CRC  AAAS    \n",
       "6 AAAS-201 CRC01_L1_Barcode21   0.00000 CRC01   Stem/TA_CRC CRC  AAAS    "
      ]
     },
     "metadata": {},
     "output_type": "display_data"
    }
   ],
   "source": [
    "head(tx_tpm_long)"
   ]
  },
  {
   "cell_type": "code",
   "execution_count": 52,
   "metadata": {},
   "outputs": [
    {
     "data": {
      "text/html": [
       "<style>\n",
       ".list-inline {list-style: none; margin:0; padding: 0}\n",
       ".list-inline>li {display: inline-block}\n",
       ".list-inline>li:not(:last-child)::after {content: \"\\00b7\"; padding: 0 .5ex}\n",
       "</style>\n",
       "<ol class=list-inline><li>29450247</li><li>7</li></ol>\n"
      ],
      "text/latex": [
       "\\begin{enumerate*}\n",
       "\\item 29450247\n",
       "\\item 7\n",
       "\\end{enumerate*}\n"
      ],
      "text/markdown": [
       "1. 29450247\n",
       "2. 7\n",
       "\n",
       "\n"
      ],
      "text/plain": [
       "[1] 29450247        7"
      ]
     },
     "metadata": {},
     "output_type": "display_data"
    }
   ],
   "source": [
    "tx_tpm_long <- merge(tx_tpm_long, tx_info[, c(\"TranName\", \"GeneName\")], by = \"TranName\", all.x = T)\n",
    "dim(tx_tpm_long)"
   ]
  },
  {
   "cell_type": "code",
   "execution_count": 54,
   "metadata": {},
   "outputs": [],
   "source": [
    "tx_tpm_long <- tx_tpm_long %>%\n",
    "  group_by(CellName, GeneName) %>%\n",
    "  mutate(Proportion = TPM / sum(TPM))"
   ]
  },
  {
   "cell_type": "code",
   "execution_count": 55,
   "metadata": {},
   "outputs": [],
   "source": [
    "write.table(tx_tpm_long, file = \"00_tx_tpm_prop_LongFormat_in_celltype3_each_patient.txt\", sep = \"\\t\", quote = F, row.names = F)"
   ]
  },
  {
   "cell_type": "code",
   "execution_count": 56,
   "metadata": {},
   "outputs": [],
   "source": [
    "# Calculate the average TPM of each isoform for each patient and each cell type\n",
    "tx_avg <- tx_tpm_long %>%\n",
    "  filter(!is.na(Proportion)) %>%\n",
    "  group_by(patient, celltype3_1, TranName) %>%\n",
    "  summarise(mean_TPM_tx = mean(TPM, na.rm = TRUE), mean_Prop_tx = mean(Proportion, na.rm = TRUE), .groups = \"drop\") %>%\n",
    "  as.data.frame()"
   ]
  },
  {
   "cell_type": "code",
   "execution_count": 57,
   "metadata": {
    "lines_to_next_cell": 2
   },
   "outputs": [],
   "source": [
    "tx_avg$celltype3 <- sapply(strsplit(tx_avg$celltype3_1, split = \"_\"), function(x) {\n",
    "  x[1]\n",
    "})"
   ]
  },
  {
   "cell_type": "code",
   "execution_count": 58,
   "metadata": {
    "lines_to_next_cell": 2
   },
   "outputs": [],
   "source": [
    "tx_tpm_avg <- dcast(tx_avg, TranName + patient ~ celltype3, value.var = \"mean_TPM_tx\")\n",
    "colnames(tx_tpm_avg) <- c(\"TranName\", \"patient\", \"ave_tx_TPM_Stem/TA\", \"ave_tx_TPM_Stem/TA-like\")"
   ]
  },
  {
   "cell_type": "code",
   "execution_count": 59,
   "metadata": {
    "lines_to_next_cell": 2
   },
   "outputs": [],
   "source": [
    "tx_prop_avg <- dcast(tx_avg, TranName + patient ~ celltype3, value.var = \"mean_Prop_tx\")\n",
    "colnames(tx_prop_avg) <- c(\"TranName\", \"patient\", \"ave_tx_Prop_Stem/TA\", \"ave_tx_Prop_Stem/TA-like\")"
   ]
  },
  {
   "cell_type": "code",
   "execution_count": 60,
   "metadata": {},
   "outputs": [],
   "source": [
    "tx_avg <- merge(tx_tpm_avg, tx_prop_avg, by = c(\"TranName\", \"patient\"))"
   ]
  },
  {
   "cell_type": "code",
   "execution_count": 61,
   "metadata": {},
   "outputs": [],
   "source": [
    "write.table(tx_avg, file = \"00_tx_tpm_prop_average_in_celltype3_each_patient.txt\", sep = \"\\t\", quote = F, row.names = F)"
   ]
  },
  {
   "cell_type": "code",
   "execution_count": 63,
   "metadata": {},
   "outputs": [],
   "source": [
    "dtu_tx_rbind <- merge(dtu_tx_rbind, tx_avg, by = c(\"TranName\", \"patient\"), all.x = T)\n",
    "dtu_tx_rbind$ave_tx_Prop_stemTAlike_minus_stemTA <- round(dtu_tx_rbind$`ave_tx_Prop_Stem/TA-like` - dtu_tx_rbind$`ave_tx_Prop_Stem/TA`, 3)"
   ]
  },
  {
   "cell_type": "code",
   "execution_count": 69,
   "metadata": {},
   "outputs": [
    {
     "data": {
      "text/html": [
       "<style>\n",
       ".list-inline {list-style: none; margin:0; padding: 0}\n",
       ".list-inline>li {display: inline-block}\n",
       ".list-inline>li:not(:last-child)::after {content: \"\\00b7\"; padding: 0 .5ex}\n",
       "</style>\n",
       "<ol class=list-inline><li>25383</li><li>21</li></ol>\n"
      ],
      "text/latex": [
       "\\begin{enumerate*}\n",
       "\\item 25383\n",
       "\\item 21\n",
       "\\end{enumerate*}\n"
      ],
      "text/markdown": [
       "1. 25383\n",
       "2. 21\n",
       "\n",
       "\n"
      ],
      "text/plain": [
       "[1] 25383    21"
      ]
     },
     "metadata": {},
     "output_type": "display_data"
    }
   ],
   "source": [
    "dtu_tx_rbind <- merge(dtu_tx_rbind, gene_tpm_avg, by = c(\"GeneName\", \"patient\"), all.x = T)\n",
    "dim(dtu_tx_rbind)"
   ]
  },
  {
   "cell_type": "code",
   "execution_count": 71,
   "metadata": {},
   "outputs": [
    {
     "data": {
      "text/html": [
       "TRUE"
      ],
      "text/latex": [
       "TRUE"
      ],
      "text/markdown": [
       "TRUE"
      ],
      "text/plain": [
       "[1] TRUE"
      ]
     },
     "metadata": {},
     "output_type": "display_data"
    }
   ],
   "source": [
    "all(sort(colnames(dtu_tx_rbind)) == sort(c(\n",
    "  \"GeneName\", \"TranName\", \"patient\", \"ave_tx_Prop_stemTAlike_minus_stemTA\", \"max_in_allpatients\", \"max(Stem/TA-like-Stem/TA)\",\n",
    "  \"DTU_tx_nPatients\", \"DTU_gene_nPatients\", \"tx_fdr\", \"gene_qvalue\", \"minimal_tx_qvalue\",\n",
    "  \"ave_tx_TPM_Stem/TA\", \"ave_tx_TPM_Stem/TA-like\", \"ave_tx_Prop_Stem/TA\", \"ave_tx_Prop_Stem/TA-like\",\n",
    "  \"ave_gene_TPM_Stem/TA\", \"ave_gene_TPM_Stem/TA-like\",\n",
    "  \"number_tx\", \"number_significant_tx\", \"pct_gene_expr\", \"tx_expr_in_max\"\n",
    ")))"
   ]
  },
  {
   "cell_type": "code",
   "execution_count": 72,
   "metadata": {},
   "outputs": [],
   "source": [
    "dtu_tx_rbind <- dtu_tx_rbind[, c(\n",
    "  \"GeneName\", \"TranName\", \"patient\", \"ave_tx_Prop_stemTAlike_minus_stemTA\", \"max_in_allpatients\", \"max(Stem/TA-like-Stem/TA)\",\n",
    "  \"DTU_tx_nPatients\", \"DTU_gene_nPatients\", \"tx_fdr\", \"gene_qvalue\", \"minimal_tx_qvalue\",\n",
    "  \"ave_tx_TPM_Stem/TA\", \"ave_tx_TPM_Stem/TA-like\", \"ave_tx_Prop_Stem/TA\", \"ave_tx_Prop_Stem/TA-like\",\n",
    "  \"ave_gene_TPM_Stem/TA\", \"ave_gene_TPM_Stem/TA-like\",\n",
    "  \"number_tx\", \"number_significant_tx\", \"pct_gene_expr\", \"tx_expr_in_max\"\n",
    ")] %>%\n",
    "  arrange(desc(DTU_tx_nPatients), desc(DTU_gene_nPatients), desc(max_in_allpatients), desc(abs(`max(Stem/TA-like-Stem/TA)`)), tx_fdr)"
   ]
  },
  {
   "cell_type": "code",
   "execution_count": 73,
   "metadata": {},
   "outputs": [
    {
     "data": {
      "text/html": [
       "<style>\n",
       ".list-inline {list-style: none; margin:0; padding: 0}\n",
       ".list-inline>li {display: inline-block}\n",
       ".list-inline>li:not(:last-child)::after {content: \"\\00b7\"; padding: 0 .5ex}\n",
       "</style>\n",
       "<ol class=list-inline><li>25383</li><li>21</li></ol>\n"
      ],
      "text/latex": [
       "\\begin{enumerate*}\n",
       "\\item 25383\n",
       "\\item 21\n",
       "\\end{enumerate*}\n"
      ],
      "text/markdown": [
       "1. 25383\n",
       "2. 21\n",
       "\n",
       "\n"
      ],
      "text/plain": [
       "[1] 25383    21"
      ]
     },
     "metadata": {},
     "output_type": "display_data"
    },
    {
     "data": {
      "text/html": [
       "2726"
      ],
      "text/latex": [
       "2726"
      ],
      "text/markdown": [
       "2726"
      ],
      "text/plain": [
       "[1] 2726"
      ]
     },
     "metadata": {},
     "output_type": "display_data"
    },
    {
     "data": {
      "text/html": [
       "10099"
      ],
      "text/latex": [
       "10099"
      ],
      "text/markdown": [
       "10099"
      ],
      "text/plain": [
       "[1] 10099"
      ]
     },
     "metadata": {},
     "output_type": "display_data"
    }
   ],
   "source": [
    "dim(dtu_tx_rbind)\n",
    "length(unique(dtu_tx_rbind$GeneName))\n",
    "length(unique(dtu_tx_rbind$TranName))"
   ]
  },
  {
   "cell_type": "code",
   "execution_count": 74,
   "metadata": {},
   "outputs": [],
   "source": [
    "write.table(dtu_tx_rbind, file = \"01_DTU_tx_each_patient.txt\", quote = F, sep = \"\\t\", row.names = F)"
   ]
  },
  {
   "cell_type": "markdown",
   "metadata": {},
   "source": [
    "# Filtering DTU result and plot Upset"
   ]
  },
  {
   "cell_type": "code",
   "execution_count": 6,
   "metadata": {},
   "outputs": [],
   "source": [
    "library(ComplexUpset)"
   ]
  },
  {
   "cell_type": "code",
   "execution_count": 78,
   "metadata": {
    "lines_to_next_cell": 2
   },
   "outputs": [
    {
     "data": {
      "text/html": [
       "3548"
      ],
      "text/latex": [
       "3548"
      ],
      "text/markdown": [
       "3548"
      ],
      "text/plain": [
       "[1] 3548"
      ]
     },
     "metadata": {},
     "output_type": "display_data"
    },
    {
     "data": {
      "text/html": [
       "1946"
      ],
      "text/latex": [
       "1946"
      ],
      "text/markdown": [
       "1946"
      ],
      "text/plain": [
       "[1] 1946"
      ]
     },
     "metadata": {},
     "output_type": "display_data"
    }
   ],
   "source": [
    "df_merge <- read.table(file = \"01_DTU_tx_each_patient.txt\", header = T, sep = \"\\t\", check.names = F)\n",
    "df_merge_filter <- df_merge %>%\n",
    "  filter(abs(`max(Stem/TA-like-Stem/TA)`) >= 0.095, tx_fdr < 0.05, gene_qvalue < 0.05, abs(ave_tx_Prop_stemTAlike_minus_stemTA) >= 0.095) %>%\n",
    "  group_by(TranName) %>%\n",
    "  mutate(P_ave_tx_Prop_stemTAlike_minus_stemTA = mean(ave_tx_Prop_stemTAlike_minus_stemTA)) %>%\n",
    "  as.data.frame()\n",
    "length(unique(df_merge_filter$TranName))\n",
    "length(unique(df_merge_filter$GeneName))"
   ]
  },
  {
   "cell_type": "code",
   "execution_count": 79,
   "metadata": {},
   "outputs": [],
   "source": [
    "df_merge_filter <- df_merge_filter %>%\n",
    "  group_by(GeneName, TranName) %>%\n",
    "  mutate(DTU_tx_nPatients_1 = length(patient))"
   ]
  },
  {
   "cell_type": "code",
   "execution_count": 80,
   "metadata": {},
   "outputs": [],
   "source": [
    "write.table(df_merge_filter, file = \"02_DTU_tx_each_patient_final_DTUgenes.txt\", quote = F, sep = \"\\t\", row.names = F)"
   ]
  },
  {
   "cell_type": "code",
   "execution_count": null,
   "metadata": {},
   "outputs": [],
   "source": [
    "df_merge_filter <- read.table(file = \"02_DTU_tx_each_patient_final_DTUgenes.txt\", sep = \"\\t\", header = T)"
   ]
  },
  {
   "cell_type": "markdown",
   "metadata": {},
   "source": [
    "## upset plot"
   ]
  },
  {
   "cell_type": "code",
   "execution_count": 81,
   "metadata": {},
   "outputs": [
    {
     "data": {
      "text/html": [
       "1946"
      ],
      "text/latex": [
       "1946"
      ],
      "text/markdown": [
       "1946"
      ],
      "text/plain": [
       "[1] 1946"
      ]
     },
     "metadata": {},
     "output_type": "display_data"
    },
    {
     "data": {
      "text/plain": [
       "\n",
       "  CRC01   CRC02   CRC03   CRC04   CRC05   CRC07   CRC08   CRC09   CRC10 HTCRC01 \n",
       "    483      64     142     316     514     371      96     106     621     207 \n",
       "HTCRC04 HTCRC05 \n",
       "    642      74 "
      ]
     },
     "metadata": {},
     "output_type": "display_data"
    }
   ],
   "source": [
    "df_gdtu <- df_merge_filter[, c(\"GeneName\", \"patient\")] %>% distinct()\n",
    "length(unique(df_gdtu$GeneName))\n",
    "table(df_gdtu$patient)"
   ]
  },
  {
   "cell_type": "code",
   "execution_count": 82,
   "metadata": {},
   "outputs": [
    {
     "name": "stderr",
     "output_type": "stream",
     "text": [
      "\u001b[1m\u001b[22m`summarise()` has grouped output by 'GeneName'. You can override using the `.groups` argument.\n"
     ]
    }
   ],
   "source": [
    "# Create a binary presence/absence matrix\n",
    "df_gdtu_summary <- df_gdtu %>%\n",
    "  group_by(GeneName, patient) %>%\n",
    "  summarise(count = n()) %>%\n",
    "  ungroup() %>%\n",
    "  mutate(present = ifelse(count > 0, 1, 0)) %>%\n",
    "  dplyr::select(GeneName, patient, present) %>%\n",
    "  tidyr::spread(key = patient, value = present, fill = 0)\n",
    "\n",
    "# Convert to a format suitable for ComplexUpset\n",
    "df_gdtu_summary <- as.data.frame(df_gdtu_summary)"
   ]
  },
  {
   "cell_type": "code",
   "execution_count": 85,
   "metadata": {},
   "outputs": [
    {
     "data": {
      "image/png": "[encoded data removed]",
      "text/plain": [
       "plot without title"
      ]
     },
     "metadata": {
      "image/png": {
       "height": 420,
       "width": 420
      }
     },
     "output_type": "display_data"
    }
   ],
   "source": [
    "# pdf(file=\"02_DTU_tx_each_patient_final_DTUgenes_upset.pdf\", width = 5.5, height = 4.5)\n",
    "upset(\n",
    "  df_gdtu_summary,\n",
    "  names(table(df_gdtu$patient)),\n",
    "  name = \"Patients\",\n",
    "  width_ratio = 0.3,\n",
    "  n_intersections = 25,\n",
    "  set_sizes = (\n",
    "    upset_set_size(mapping = aes(fill = \"bars_color\"), position = \"right\") +\n",
    "      labs(y = \"No. of DTU genes\") + mytheme + scale_fill_manual(values = \"#6a51a3\")\n",
    "  ),\n",
    "  base_annotations = list(\n",
    "    \"No. of DTU genes\" = intersection_size(counts = FALSE, mapping = aes(fill = \"bars_color\")) +\n",
    "      scale_fill_manual(values = \"#6a51a3\") + mytheme + theme(axis.ticks.y = element_line(color = \"black\")) #+Nolend()\n",
    "  ),\n",
    "  matrix = intersection_matrix(\n",
    "    geom = geom_point(size = 2)\n",
    "  ),\n",
    "  guides = \"over\"\n",
    ") + mytheme\n",
    "# dev.off()"
   ]
  },
  {
   "cell_type": "markdown",
   "metadata": {},
   "source": [
    "## volcano plot"
   ]
  },
  {
   "cell_type": "code",
   "execution_count": 69,
   "metadata": {},
   "outputs": [],
   "source": [
    "library(ggrepel)"
   ]
  },
  {
   "cell_type": "code",
   "execution_count": 70,
   "metadata": {},
   "outputs": [],
   "source": [
    "df_merge_filter <- read.table(file = \"02_DTU_tx_each_patient_final_DTUgenes.txt\", header = T, sep = \"\\t\", check.names = F)"
   ]
  },
  {
   "cell_type": "code",
   "execution_count": 71,
   "metadata": {
    "lines_to_next_cell": 2
   },
   "outputs": [],
   "source": [
    "test <- df_merge_filter[, c(\"GeneName\", \"TranName\", \"patient\", \"ave_tx_Prop_stemTAlike_minus_stemTA\", \"DTU_gene_nPatients\", \"tx_fdr\", \"DTU_tx_nPatients\", \"DTU_tx_nPatients_1\")] %>%\n",
    "  group_by(GeneName, TranName) %>%\n",
    "  summarise(\n",
    "    ratio = mean(ave_tx_Prop_stemTAlike_minus_stemTA),\n",
    "    fdr = min(tx_fdr),\n",
    "    DTU_tx_nPatients_1 = unique(DTU_tx_nPatients_1),\n",
    "    .groups = \"drop\"\n",
    "  )\n",
    "test[which(test$fdr == 0), ]$fdr <- unique(sort(test$fdr))[2]\n",
    "test <- test %>% arrange(DTU_tx_nPatients_1)"
   ]
  },
  {
   "cell_type": "code",
   "execution_count": 74,
   "metadata": {},
   "outputs": [],
   "source": [
    "test <- test %>% filter(ratio <= -0.1 | ratio >= 0.1)"
   ]
  },
  {
   "cell_type": "code",
   "execution_count": 76,
   "metadata": {},
   "outputs": [
    {
     "data": {
      "image/png": "[encoded data removed]",
      "text/plain": [
       "plot without title"
      ]
     },
     "metadata": {
      "image/png": {
       "height": 420,
       "width": 420
      }
     },
     "output_type": "display_data"
    }
   ],
   "source": [
    "ggplot(test, aes(x = ratio, y = -log10(fdr), color = DTU_tx_nPatients_1)) +\n",
    "  geom_point(size = 3) +\n",
    "  mytheme +\n",
    "  geom_hline(yintercept = -log10(0.05), linetype = \"dashed\", color = \"gray\", size = 0.5) +\n",
    "  geom_vline(xintercept = 0.1, linetype = \"dashed\", color = \"gray\", size = 0.5) +\n",
    "  geom_vline(xintercept = -0.1, linetype = \"dashed\", color = \"gray\", size = 0.5) +\n",
    "  geom_label_repel(\n",
    "    data = test %>% filter(GeneName %in% c(\n",
    "      \"THAP4\", \"MYC\", \"EWSR1\", \"AZIN1\", \"COMT\", \"RTN4\", \"RBCK1\", \"APH1A\", \"SLC25A22\", \"RABAC1\", #' LUC7L2','CLDN7',\n",
    "      \"TPD52\", \"LMNA\", \"ACOX1\", \"MAP2K2\", \"KRAS\"\n",
    "    )) %>% filter(TranName != \"LMNA-NIC.1\") %>% filter(DTU_tx_nPatients_1 > 1),\n",
    "    aes(label = TranName), max.overlaps = Inf\n",
    "  ) +\n",
    "  theme(legend.position = \"top\") +\n",
    "  scale_color_gradient(low = \"#07c8f9\", high = \"#243748\", breaks = c(2, 4, 6, 8, 10), labels = c(\"2\", \"4\", \"6\", \"8\", \"10\")) +\n",
    "  theme(aspect.ratio = 1) +\n",
    "  ylim(0, 100)\n",
    "ggsave(file = \"02_DTU_tx_each_patient_final_DTUgenes_volcano.pdf\", width = 5, height = 6)"
   ]
  },
  {
   "cell_type": "markdown",
   "metadata": {},
   "source": [
    "## example boxplot"
   ]
  },
  {
   "cell_type": "code",
   "execution_count": 155,
   "metadata": {},
   "outputs": [],
   "source": [
    "df_merge_filter <- read.table(file = \"01_DTU_tx_each_patient.txt\", header = T, sep = \"\\t\", check.names = F)"
   ]
  },
  {
   "cell_type": "code",
   "execution_count": 2,
   "metadata": {},
   "outputs": [],
   "source": [
    "# see 00_DTU_plot.ipynb"
   ]
  },
  {
   "cell_type": "markdown",
   "metadata": {},
   "source": [
    "# Venn plot, the intersection of DEG，DTE and AS genes"
   ]
  },
  {
   "cell_type": "markdown",
   "metadata": {},
   "source": [
    "## DEGs of each patient"
   ]
  },
  {
   "cell_type": "code",
   "execution_count": 18,
   "metadata": {},
   "outputs": [],
   "source": [
    "ont <- readRDS(file = \"../CRC_HTCRC_01_RNA_5400_3262_tx/00_tx_5400_3262_hvg1869_PC1_20.rds\")\n",
    "DefaultAssay(ont) <- \"GENE\"\n",
    "ont <- subset(ont, cells = (ont@meta.data %>% filter(celltype3 %in% c(\"Stem/TA\", \"Stem/TA-like\")))$CellName)\n",
    "ont_crc <- subset(ont, cells = (ont@meta.data %>% filter(data %in% \"CRC\"))$CellName)\n",
    "ont_htcrc <- subset(ont, cells = (ont@meta.data %>% filter(data %in% \"HTCRC\"))$CellName)"
   ]
  },
  {
   "cell_type": "code",
   "execution_count": 106,
   "metadata": {
    "scrolled": true,
    "tags": []
   },
   "outputs": [
    {
     "name": "stdout",
     "output_type": "stream",
     "text": [
      "[1] \"CRC01\"\n"
     ]
    },
    {
     "name": "stderr",
     "output_type": "stream",
     "text": [
      "Centering and scaling data matrix\n",
      "\n",
      "Calculating cluster Stem/TA\n",
      "\n",
      "Calculating cluster Stem/TA-like\n",
      "\n"
     ]
    },
    {
     "name": "stdout",
     "output_type": "stream",
     "text": [
      "[1] \"CRC02\"\n"
     ]
    },
    {
     "name": "stderr",
     "output_type": "stream",
     "text": [
      "Centering and scaling data matrix\n",
      "\n",
      "Calculating cluster Stem/TA\n",
      "\n",
      "Calculating cluster Stem/TA-like\n",
      "\n"
     ]
    },
    {
     "name": "stdout",
     "output_type": "stream",
     "text": [
      "[1] \"CRC03\"\n"
     ]
    },
    {
     "name": "stderr",
     "output_type": "stream",
     "text": [
      "Centering and scaling data matrix\n",
      "\n",
      "Calculating cluster Stem/TA\n",
      "\n",
      "Calculating cluster Stem/TA-like\n",
      "\n"
     ]
    },
    {
     "name": "stdout",
     "output_type": "stream",
     "text": [
      "[1] \"CRC04\"\n"
     ]
    },
    {
     "name": "stderr",
     "output_type": "stream",
     "text": [
      "Centering and scaling data matrix\n",
      "\n",
      "Calculating cluster Stem/TA\n",
      "\n",
      "Calculating cluster Stem/TA-like\n",
      "\n"
     ]
    },
    {
     "name": "stdout",
     "output_type": "stream",
     "text": [
      "[1] \"CRC05\"\n"
     ]
    },
    {
     "name": "stderr",
     "output_type": "stream",
     "text": [
      "Centering and scaling data matrix\n",
      "\n",
      "Calculating cluster Stem/TA\n",
      "\n",
      "Calculating cluster Stem/TA-like\n",
      "\n"
     ]
    },
    {
     "name": "stdout",
     "output_type": "stream",
     "text": [
      "[1] \"CRC07\"\n"
     ]
    },
    {
     "name": "stderr",
     "output_type": "stream",
     "text": [
      "Centering and scaling data matrix\n",
      "\n",
      "Calculating cluster Stem/TA\n",
      "\n",
      "Calculating cluster Stem/TA-like\n",
      "\n"
     ]
    },
    {
     "name": "stdout",
     "output_type": "stream",
     "text": [
      "[1] \"CRC08\"\n"
     ]
    },
    {
     "name": "stderr",
     "output_type": "stream",
     "text": [
      "Centering and scaling data matrix\n",
      "\n",
      "Calculating cluster Stem/TA\n",
      "\n",
      "Calculating cluster Stem/TA-like\n",
      "\n"
     ]
    },
    {
     "name": "stdout",
     "output_type": "stream",
     "text": [
      "[1] \"CRC09\"\n"
     ]
    },
    {
     "name": "stderr",
     "output_type": "stream",
     "text": [
      "Centering and scaling data matrix\n",
      "\n",
      "Calculating cluster Stem/TA\n",
      "\n",
      "Calculating cluster Stem/TA-like\n",
      "\n"
     ]
    },
    {
     "name": "stdout",
     "output_type": "stream",
     "text": [
      "[1] \"CRC10\"\n"
     ]
    },
    {
     "name": "stderr",
     "output_type": "stream",
     "text": [
      "Centering and scaling data matrix\n",
      "\n",
      "Calculating cluster Stem/TA\n",
      "\n",
      "Calculating cluster Stem/TA-like\n",
      "\n"
     ]
    },
    {
     "name": "stdout",
     "output_type": "stream",
     "text": [
      "[1] \"HTCRC01\"\n"
     ]
    },
    {
     "name": "stderr",
     "output_type": "stream",
     "text": [
      "Centering and scaling data matrix\n",
      "\n",
      "Calculating cluster Stem/TA\n",
      "\n",
      "Calculating cluster Stem/TA-like\n",
      "\n"
     ]
    },
    {
     "name": "stdout",
     "output_type": "stream",
     "text": [
      "[1] \"HTCRC04\"\n"
     ]
    },
    {
     "name": "stderr",
     "output_type": "stream",
     "text": [
      "Centering and scaling data matrix\n",
      "\n",
      "Calculating cluster Stem/TA\n",
      "\n",
      "Calculating cluster Stem/TA-like\n",
      "\n"
     ]
    },
    {
     "name": "stdout",
     "output_type": "stream",
     "text": [
      "[1] \"HTCRC05\"\n"
     ]
    },
    {
     "name": "stderr",
     "output_type": "stream",
     "text": [
      "Centering and scaling data matrix\n",
      "\n",
      "Calculating cluster Stem/TA\n",
      "\n",
      "Calculating cluster Stem/TA-like\n",
      "\n"
     ]
    }
   ],
   "source": [
    "for (i in c(1:12)) {\n",
    "  p <- names(table(ont@meta.data$patient))[i]\n",
    "  print(p)\n",
    "  if (i %in% c(1:9)) {\n",
    "    ont_p <- subset(ont_crc, cells = c(\n",
    "      (ont_crc@meta.data %>% filter(celltype3 %in% \"Stem/TA\"))$CellName,\n",
    "      (ont_crc@meta.data %>% filter(celltype3 %in% \"Stem/TA-like\", patient %in% p))$CellName\n",
    "    ))\n",
    "  } else {\n",
    "    ont_p <- subset(ont_htcrc, cells = c(\n",
    "      (ont_htcrc@meta.data %>% filter(celltype3 %in% \"Stem/TA\"))$CellName,\n",
    "      (ont_htcrc@meta.data %>% filter(celltype3 %in% \"Stem/TA-like\", patient %in% p))$CellName\n",
    "    ))\n",
    "  }\n",
    "  ont_p <- NormalizeData(ont_p, normalization.method = \"LogNormalize\", scale.factor = 1000000)\n",
    "  ont_p <- ScaleData(ont_p, features = rownames(ont_p))\n",
    "\n",
    "  Idents(object = ont_p) <- as.factor(ont_p@meta.data$celltype3)\n",
    "  deg_p <- FindAllMarkers(ont_p, only.pos = TRUE, min.pct = 0.25, logfc.threshold = log2(2))\n",
    "  deg_p <- deg_p[which(deg_p$p_val_adj < 0.05), ]\n",
    "  deg_p$patient <- p\n",
    "\n",
    "  if (i == 1) {\n",
    "    deg <- deg_p\n",
    "  } else {\n",
    "    deg <- rbind(deg, deg_p)\n",
    "  }\n",
    "}"
   ]
  },
  {
   "cell_type": "code",
   "execution_count": 107,
   "metadata": {},
   "outputs": [],
   "source": [
    "df_deg_dtu <- data.frame(\n",
    "  patient = character(),\n",
    "  p_deg_count = integer(),\n",
    "  p_dtu_count = integer(),\n",
    "  overlap_count = integer(),\n",
    "  stringsAsFactors = FALSE\n",
    ")\n",
    "for (i in c(1:12)) {\n",
    "  p <- names(table(ont@meta.data$patient))[i]\n",
    "  p_deg <- unique((deg %>% filter(patient %in% p))$gene)\n",
    "  p_dtu <- unique((df_merge_filter %>% filter(patient %in% p))$GeneName)\n",
    "  p_overlap <- length(intersect(p_deg, p_dtu))\n",
    "\n",
    "  df_deg_dtu <- rbind(df_deg_dtu, data.frame(\n",
    "    patient = p,\n",
    "    p_deg_count = length(p_deg),\n",
    "    p_dtu_count = length(p_dtu),\n",
    "    overlap_count = p_overlap\n",
    "  ))\n",
    "}"
   ]
  },
  {
   "cell_type": "code",
   "execution_count": 108,
   "metadata": {
    "lines_to_next_cell": 2
   },
   "outputs": [],
   "source": [
    "df_deg_dtu$patient <- factor(df_deg_dtu$patient, levels = names(table(ont@meta.data$patient)))\n",
    "\n",
    "df_deg_dtu$p_dtu_notoverlap_prop <- (df_deg_dtu$p_dtu_count - df_deg_dtu$overlap_count) / df_deg_dtu$p_dtu_count\n",
    "df_deg_dtu$p_dtu_overlap_prop <- df_deg_dtu$overlap_count / df_deg_dtu$p_dtu_count\n",
    "df_deg_dtu_bar <- melt(df_deg_dtu, id.vars = \"patient\", measure.vars = c(\"p_dtu_notoverlap_prop\", \"p_dtu_overlap_prop\"))\n",
    "\n",
    "df_deg_dtu$p_deg_notoverlap_prop <- (df_deg_dtu$p_deg_count - df_deg_dtu$overlap_count) / df_deg_dtu$p_deg_count\n",
    "df_deg_dtu$p_deg_overlap_prop <- df_deg_dtu$overlap_count / df_deg_dtu$p_deg_count\n",
    "df_deg_deg_bar <- melt(df_deg_dtu, id.vars = \"patient\", measure.vars = c(\"p_deg_notoverlap_prop\", \"p_deg_overlap_prop\"))"
   ]
  },
  {
   "cell_type": "code",
   "execution_count": 111,
   "metadata": {},
   "outputs": [
    {
     "data": {
      "image/png": "[encoded data removed]",
      "text/plain": [
       "plot without title"
      ]
     },
     "metadata": {
      "image/png": {
       "height": 420,
       "width": 420
      }
     },
     "output_type": "display_data"
    },
    {
     "data": {
      "image/png": "[encoded data removed]",
      "text/plain": [
       "plot without title"
      ]
     },
     "metadata": {
      "image/png": {
       "height": 420,
       "width": 420
      }
     },
     "output_type": "display_data"
    }
   ],
   "source": [
    "ggplot(df_deg_dtu_bar, aes(x = patient, y = value, fill = variable)) +\n",
    "  geom_bar(stat = \"identity\") +\n",
    "  mytheme +\n",
    "  scale_fill_manual(values = alpha(c(\"#868686FF\", \"#EFC000FF\"), 0.7)) +\n",
    "  theme(axis.text.x = element_text(angle = 45, vjust = 0.5), legend.position = \"top\")\n",
    "ggsave(file = \"03_overlap_DEG_DTUgenes_barplot_DTU.pdf\", height = 4.5, width = 3.5)\n",
    "\n",
    "ggplot(df_deg_deg_bar, aes(x = patient, y = value, fill = variable)) +\n",
    "  geom_bar(stat = \"identity\") +\n",
    "  mytheme +\n",
    "  scale_fill_manual(values = alpha(c(\"#0073C2FF\", \"#EFC000FF\"), 0.7)) +\n",
    "  theme(axis.text.x = element_text(angle = 45, vjust = 0.5), legend.position = \"top\")\n",
    "ggsave(file = \"03_overlap_DEG_DTUgenes_barplot_DEG.pdf\", height = 4.5, width = 3.5)"
   ]
  },
  {
   "cell_type": "markdown",
   "metadata": {},
   "source": [
    "## DTE of each patient"
   ]
  },
  {
   "cell_type": "code",
   "execution_count": 112,
   "metadata": {},
   "outputs": [],
   "source": [
    "ont <- readRDS(file = \"../CRC_HTCRC_01_RNA_5400_3262_tx/00_tx_5400_3262_hvg1869_PC1_20.rds\")\n",
    "DefaultAssay(ont) <- \"RNA\"\n",
    "ont <- subset(ont, cells = (ont@meta.data %>% filter(celltype3 %in% c(\"Stem/TA\", \"Stem/TA-like\")))$CellName)\n",
    "ont_crc <- subset(ont, cells = (ont@meta.data %>% filter(data %in% \"CRC\"))$CellName)\n",
    "ont_htcrc <- subset(ont, cells = (ont@meta.data %>% filter(data %in% \"HTCRC\"))$CellName)"
   ]
  },
  {
   "cell_type": "code",
   "execution_count": 114,
   "metadata": {
    "scrolled": true,
    "tags": []
   },
   "outputs": [
    {
     "name": "stdout",
     "output_type": "stream",
     "text": [
      "[1] \"CRC01\"\n"
     ]
    },
    {
     "name": "stderr",
     "output_type": "stream",
     "text": [
      "Centering and scaling data matrix\n",
      "\n",
      "Calculating cluster Stem/TA\n",
      "\n",
      "Calculating cluster Stem/TA-like\n",
      "\n"
     ]
    },
    {
     "name": "stdout",
     "output_type": "stream",
     "text": [
      "[1] \"CRC02\"\n"
     ]
    },
    {
     "name": "stderr",
     "output_type": "stream",
     "text": [
      "Centering and scaling data matrix\n",
      "\n",
      "Calculating cluster Stem/TA\n",
      "\n",
      "Calculating cluster Stem/TA-like\n",
      "\n"
     ]
    },
    {
     "name": "stdout",
     "output_type": "stream",
     "text": [
      "[1] \"CRC03\"\n"
     ]
    },
    {
     "name": "stderr",
     "output_type": "stream",
     "text": [
      "Centering and scaling data matrix\n",
      "\n",
      "Calculating cluster Stem/TA\n",
      "\n",
      "Calculating cluster Stem/TA-like\n",
      "\n"
     ]
    },
    {
     "name": "stdout",
     "output_type": "stream",
     "text": [
      "[1] \"CRC04\"\n"
     ]
    },
    {
     "name": "stderr",
     "output_type": "stream",
     "text": [
      "Centering and scaling data matrix\n",
      "\n",
      "Calculating cluster Stem/TA\n",
      "\n",
      "Calculating cluster Stem/TA-like\n",
      "\n"
     ]
    },
    {
     "name": "stdout",
     "output_type": "stream",
     "text": [
      "[1] \"CRC05\"\n"
     ]
    },
    {
     "name": "stderr",
     "output_type": "stream",
     "text": [
      "Centering and scaling data matrix\n",
      "\n",
      "Calculating cluster Stem/TA\n",
      "\n",
      "Calculating cluster Stem/TA-like\n",
      "\n"
     ]
    },
    {
     "name": "stdout",
     "output_type": "stream",
     "text": [
      "[1] \"CRC07\"\n"
     ]
    },
    {
     "name": "stderr",
     "output_type": "stream",
     "text": [
      "Centering and scaling data matrix\n",
      "\n",
      "Calculating cluster Stem/TA\n",
      "\n",
      "Calculating cluster Stem/TA-like\n",
      "\n"
     ]
    },
    {
     "name": "stdout",
     "output_type": "stream",
     "text": [
      "[1] \"CRC08\"\n"
     ]
    },
    {
     "name": "stderr",
     "output_type": "stream",
     "text": [
      "Centering and scaling data matrix\n",
      "\n",
      "Calculating cluster Stem/TA\n",
      "\n",
      "Calculating cluster Stem/TA-like\n",
      "\n"
     ]
    },
    {
     "name": "stdout",
     "output_type": "stream",
     "text": [
      "[1] \"CRC09\"\n"
     ]
    },
    {
     "name": "stderr",
     "output_type": "stream",
     "text": [
      "Centering and scaling data matrix\n",
      "\n",
      "Calculating cluster Stem/TA\n",
      "\n",
      "Calculating cluster Stem/TA-like\n",
      "\n"
     ]
    },
    {
     "name": "stdout",
     "output_type": "stream",
     "text": [
      "[1] \"CRC10\"\n"
     ]
    },
    {
     "name": "stderr",
     "output_type": "stream",
     "text": [
      "Centering and scaling data matrix\n",
      "\n",
      "Calculating cluster Stem/TA\n",
      "\n",
      "Calculating cluster Stem/TA-like\n",
      "\n"
     ]
    },
    {
     "name": "stdout",
     "output_type": "stream",
     "text": [
      "[1] \"HTCRC01\"\n"
     ]
    },
    {
     "name": "stderr",
     "output_type": "stream",
     "text": [
      "Centering and scaling data matrix\n",
      "\n",
      "Calculating cluster Stem/TA\n",
      "\n",
      "Calculating cluster Stem/TA-like\n",
      "\n"
     ]
    },
    {
     "name": "stdout",
     "output_type": "stream",
     "text": [
      "[1] \"HTCRC04\"\n"
     ]
    },
    {
     "name": "stderr",
     "output_type": "stream",
     "text": [
      "Centering and scaling data matrix\n",
      "\n",
      "Calculating cluster Stem/TA\n",
      "\n",
      "Calculating cluster Stem/TA-like\n",
      "\n"
     ]
    },
    {
     "name": "stdout",
     "output_type": "stream",
     "text": [
      "[1] \"HTCRC05\"\n"
     ]
    },
    {
     "name": "stderr",
     "output_type": "stream",
     "text": [
      "Centering and scaling data matrix\n",
      "\n",
      "Calculating cluster Stem/TA\n",
      "\n",
      "Calculating cluster Stem/TA-like\n",
      "\n"
     ]
    }
   ],
   "source": [
    "for (i in c(1:12)) {\n",
    "  p <- names(table(ont@meta.data$patient))[i]\n",
    "  print(p)\n",
    "  if (i %in% c(1:9)) {\n",
    "    ont_p <- subset(ont_crc, cells = c(\n",
    "      (ont_crc@meta.data %>% filter(celltype3 %in% \"Stem/TA\"))$CellName,\n",
    "      (ont_crc@meta.data %>% filter(celltype3 %in% \"Stem/TA-like\", patient %in% p))$CellName\n",
    "    ))\n",
    "  } else {\n",
    "    ont_p <- subset(ont_htcrc, cells = c(\n",
    "      (ont_htcrc@meta.data %>% filter(celltype3 %in% \"Stem/TA\"))$CellName,\n",
    "      (ont_htcrc@meta.data %>% filter(celltype3 %in% \"Stem/TA-like\", patient %in% p))$CellName\n",
    "    ))\n",
    "  }\n",
    "  ont_p <- NormalizeData(ont_p, normalization.method = \"LogNormalize\", scale.factor = 1000000)\n",
    "  ont_p <- ScaleData(ont_p, features = rownames(ont_p))\n",
    "\n",
    "  Idents(object = ont_p) <- as.factor(ont_p@meta.data$celltype3)\n",
    "  dte_p <- FindAllMarkers(ont_p, only.pos = TRUE, min.pct = 0.25, logfc.threshold = log2(2))\n",
    "  dte_p <- dte_p[which(dte_p$p_val_adj < 0.05), ]\n",
    "  dte_p$patient <- p\n",
    "\n",
    "  if (i == 1) {\n",
    "    dte <- dte_p\n",
    "  } else {\n",
    "    dte <- rbind(dte, dte_p)\n",
    "  }\n",
    "}"
   ]
  },
  {
   "cell_type": "code",
   "execution_count": 115,
   "metadata": {},
   "outputs": [],
   "source": [
    "df_dte_dtu <- data.frame(\n",
    "  patient = character(),\n",
    "  p_dte_count = integer(),\n",
    "  p_dtu_count = integer(),\n",
    "  overlap_count = integer(),\n",
    "  stringsAsFactors = FALSE\n",
    ")\n",
    "for (i in c(1:12)) {\n",
    "  p <- names(table(ont@meta.data$patient))[i]\n",
    "  p_dte <- unique((dte %>% filter(patient %in% p))$gene)\n",
    "  p_dtu <- unique((df_merge_filter %>% filter(patient %in% p))$TranName)\n",
    "  p_overlap <- length(intersect(p_dte, p_dtu))\n",
    "\n",
    "  df_dte_dtu <- rbind(df_dte_dtu, data.frame(\n",
    "    patient = p,\n",
    "    p_dte_count = length(p_dte),\n",
    "    p_dtu_count = length(p_dtu),\n",
    "    overlap_count = p_overlap\n",
    "  ))\n",
    "}"
   ]
  },
  {
   "cell_type": "code",
   "execution_count": 116,
   "metadata": {},
   "outputs": [],
   "source": [
    "df_dte_dtu$patient <- factor(df_dte_dtu$patient, levels = names(table(ont@meta.data$patient)))\n",
    "\n",
    "df_dte_dtu$p_dtu_notoverlap_prop <- (df_dte_dtu$p_dtu_count - df_dte_dtu$overlap_count) / df_dte_dtu$p_dtu_count\n",
    "df_dte_dtu$p_dtu_overlap_prop <- df_dte_dtu$overlap_count / df_dte_dtu$p_dtu_count\n",
    "df_dte_dtu_bar <- melt(df_dte_dtu, id.vars = \"patient\", measure.vars = c(\"p_dtu_notoverlap_prop\", \"p_dtu_overlap_prop\"))\n",
    "\n",
    "df_dte_dtu$p_dte_notoverlap_prop <- (df_dte_dtu$p_dte_count - df_dte_dtu$overlap_count) / df_dte_dtu$p_dte_count\n",
    "df_dte_dtu$p_dte_overlap_prop <- df_dte_dtu$overlap_count / df_dte_dtu$p_dte_count\n",
    "df_dte_dte_bar <- melt(df_dte_dtu, id.vars = \"patient\", measure.vars = c(\"p_dte_notoverlap_prop\", \"p_dte_overlap_prop\"))"
   ]
  },
  {
   "cell_type": "code",
   "execution_count": 118,
   "metadata": {},
   "outputs": [
    {
     "data": {
      "image/png": "[encoded data removed]",
      "text/plain": [
       "plot without title"
      ]
     },
     "metadata": {
      "image/png": {
       "height": 420,
       "width": 420
      }
     },
     "output_type": "display_data"
    },
    {
     "data": {
      "image/png": "[encoded data removed]",
      "text/plain": [
       "plot without title"
      ]
     },
     "metadata": {
      "image/png": {
       "height": 420,
       "width": 420
      }
     },
     "output_type": "display_data"
    }
   ],
   "source": [
    "ggplot(df_dte_dtu_bar, aes(x = patient, y = value, fill = variable)) +\n",
    "  geom_bar(stat = \"identity\") +\n",
    "  mytheme +\n",
    "  scale_fill_manual(values = alpha(c(\"#868686FF\", \"#EFC000FF\"), 0.7)) +\n",
    "  theme(axis.text.x = element_text(angle = 45, vjust = 0.5), legend.position = \"top\")\n",
    "ggsave(file = \"03_overlap_DET_DTUgenes_barplot_DTU.pdf\", height = 4.5, width = 3.5)\n",
    "\n",
    "ggplot(df_dte_dte_bar, aes(x = patient, y = value, fill = variable)) +\n",
    "  geom_bar(stat = \"identity\") +\n",
    "  mytheme +\n",
    "  scale_fill_manual(values = alpha(c(\"#0073C2FF\", \"#EFC000FF\"), 0.7)) +\n",
    "  theme(axis.text.x = element_text(angle = 45, vjust = 0.5), legend.position = \"top\")\n",
    "ggsave(file = \"03_overlap_DET_DTUgenes_barplot_DET.pdf\", height = 4.5, width = 3.5)"
   ]
  },
  {
   "cell_type": "markdown",
   "metadata": {},
   "source": [
    "## AS of each patient"
   ]
  },
  {
   "cell_type": "code",
   "execution_count": 119,
   "metadata": {},
   "outputs": [],
   "source": [
    "df_as <- read.table(file = \"../../CRC_HTCRC_11_AS/CRC_HTCRC_01_AS_suppa_each_patient/04_filter_diff_AS_each_patient_rbind.txt\", header = T, sep = \"\\t\")"
   ]
  },
  {
   "cell_type": "code",
   "execution_count": 120,
   "metadata": {},
   "outputs": [],
   "source": [
    "df_as_dtu <- data.frame(\n",
    "  patient = character(),\n",
    "  p_as_count = integer(),\n",
    "  p_dtu_count = integer(),\n",
    "  overlap_count = integer(),\n",
    "  stringsAsFactors = FALSE\n",
    ")\n",
    "for (i in c(1:12)) {\n",
    "  p <- names(table(ont@meta.data$patient))[i]\n",
    "  p_as <- unique((df_as %>% filter(patient %in% p))$gene_id)\n",
    "  p_dtu <- unique((df_merge_filter %>% filter(patient %in% p))$GeneName)\n",
    "  p_overlap <- length(intersect(p_as, p_dtu))\n",
    "\n",
    "  df_as_dtu <- rbind(df_as_dtu, data.frame(\n",
    "    patient = p,\n",
    "    p_as_count = length(p_as),\n",
    "    p_dtu_count = length(p_dtu),\n",
    "    overlap_count = p_overlap\n",
    "  ))\n",
    "}"
   ]
  },
  {
   "cell_type": "code",
   "execution_count": 121,
   "metadata": {},
   "outputs": [],
   "source": [
    "df_as_dtu$patient <- factor(df_as_dtu$patient, levels = names(table(ont@meta.data$patient)))\n",
    "\n",
    "df_as_dtu$p_dtu_notoverlap_prop <- (df_as_dtu$p_dtu_count - df_as_dtu$overlap_count) / df_as_dtu$p_dtu_count\n",
    "df_as_dtu$p_dtu_overlap_prop <- df_as_dtu$overlap_count / df_as_dtu$p_dtu_count\n",
    "df_as_dtu_bar <- melt(df_as_dtu, id.vars = \"patient\", measure.vars = c(\"p_dtu_notoverlap_prop\", \"p_dtu_overlap_prop\"))\n",
    "\n",
    "df_as_dtu$p_as_notoverlap_prop <- (df_as_dtu$p_as_count - df_as_dtu$overlap_count) / df_as_dtu$p_as_count\n",
    "df_as_dtu$p_as_overlap_prop <- df_as_dtu$overlap_count / df_as_dtu$p_as_count\n",
    "df_as_as_bar <- melt(df_as_dtu, id.vars = \"patient\", measure.vars = c(\"p_as_notoverlap_prop\", \"p_as_overlap_prop\"))"
   ]
  },
  {
   "cell_type": "code",
   "execution_count": 123,
   "metadata": {},
   "outputs": [
    {
     "data": {
      "image/png": "[encoded data removed]",
      "text/plain": [
       "plot without title"
      ]
     },
     "metadata": {
      "image/png": {
       "height": 420,
       "width": 420
      }
     },
     "output_type": "display_data"
    },
    {
     "data": {
      "image/png": "[encoded data removed]",
      "text/plain": [
       "plot without title"
      ]
     },
     "metadata": {
      "image/png": {
       "height": 420,
       "width": 420
      }
     },
     "output_type": "display_data"
    }
   ],
   "source": [
    "ggplot(df_as_dtu_bar, aes(x = patient, y = value, fill = variable)) +\n",
    "  geom_bar(stat = \"identity\") +\n",
    "  mytheme +\n",
    "  scale_fill_manual(values = alpha(c(\"#868686FF\", \"#EFC000FF\"), 0.7)) +\n",
    "  theme(axis.text.x = element_text(angle = 45, vjust = 0.5), legend.position = \"top\")\n",
    "ggsave(file = \"03_overlap_AS_DTUgenes_barplot_DTU.pdf\", height = 4.5, width = 3.5)\n",
    "\n",
    "ggplot(df_as_as_bar, aes(x = patient, y = value, fill = variable)) +\n",
    "  geom_bar(stat = \"identity\") +\n",
    "  mytheme +\n",
    "  scale_fill_manual(values = alpha(c(\"#0073C2FF\", \"#EFC000FF\"), 0.7)) +\n",
    "  theme(axis.text.x = element_text(angle = 45, vjust = 0.5), legend.position = \"top\")\n",
    "ggsave(file = \"03_overlap_AS_DTUgenes_barplot_AS.pdf\", height = 4.5, width = 3.5)"
   ]
  },
  {
   "cell_type": "markdown",
   "metadata": {},
   "source": [
    "# CDS and protein domains from Pfam"
   ]
  },
  {
   "cell_type": "code",
   "execution_count": 124,
   "metadata": {},
   "outputs": [],
   "source": [
    "dtu_tx <- read.table(file = \"02_DTU_tx_each_patient_final_DTUgenes.txt\", header = T, sep = \"\\t\", check.names = F)\n",
    "dtu_tx$cluster <- \"Stem/TA\"\n",
    "dtu_tx[which(dtu_tx$ave_tx_Prop_stemTAlike_minus_stemTA > 0), ]$cluster <- \"Stem/TA-like\""
   ]
  },
  {
   "cell_type": "code",
   "execution_count": 125,
   "metadata": {},
   "outputs": [],
   "source": [
    "for (p in names(table(dtu_tx$patient))) {\n",
    "  if (!dir.exists(sprintf(\"04_diff_CDS/%s\", p))) {\n",
    "    dir.create(sprintf(\"04_diff_CDS/%s\", p), recursive = TRUE)\n",
    "  }\n",
    "  write.table(dtu_tx %>% filter(patient %in% p), file = sprintf(\"04_diff_CDS/%s/01_DTU_tx_each_patient_AllInfo_%s.txt\", p, p), quote = F, sep = \"\\t\", row.names = F)\n",
    "}"
   ]
  },
  {
   "cell_type": "code",
   "execution_count": 312,
   "metadata": {},
   "outputs": [],
   "source": [
    "# /gpfs1/tangfuchou_pkuhpc/tangfuchou_cls/luping/project/ont_iso_crc/2_RNA_CRC/01_RNA_analysis/CRC_HTCRC_02_RNA_seurat/CRC_HTCRC_04_RNA_5400_3262_DTU_StemTA/04_diff_CDS\n",
    "# do.sh"
   ]
  },
  {
   "cell_type": "code",
   "execution_count": 132,
   "metadata": {},
   "outputs": [],
   "source": [
    "for (p in names(table(dtu_tx$patient))) {\n",
    "  cds_diff <- read.table(file = sprintf(\"04_diff_CDS/%s/4_cds_diff_summary.txt\", p), header = F, sep = \"\\t\")\n",
    "  colnames(cds_diff) <- c(\"GeneName\", \"cds_diff_len\", \"cds_diff_exons\")\n",
    "  mydf <- read.table(file = sprintf(\"04_diff_CDS/%s/01_DTU_tx_each_patient_AllInfo_%s.txt\", p, p), header = T, sep = \"\\t\", check.names = F)\n",
    "  mydf <- merge(mydf, cds_diff, by = \"GeneName\", all.x = T)\n",
    "\n",
    "  pfam_diff <- read.table(file = sprintf(\"04_diff_CDS/%s/4_cds_diff_in_pfam_summary.txt\", p), header = F, sep = \"\\t\")\n",
    "  colnames(pfam_diff) <- c(\"GeneName\", \"cds_diff_pfam_len\", \"pfam_protein_1\", \"pfam_protein_2\", \"pfam_protein_1_numbers\", \"pfam_protein_2_numbers\")\n",
    "  mydf <- merge(mydf, pfam_diff, by = \"GeneName\", all.x = T)\n",
    "\n",
    "  if (p %in% names(table(dtu_tx$patient))[1]) {\n",
    "    df_merge <- mydf\n",
    "  } else {\n",
    "    df_merge <- rbind(df_merge, mydf)\n",
    "  }\n",
    "}"
   ]
  },
  {
   "cell_type": "code",
   "execution_count": 133,
   "metadata": {},
   "outputs": [],
   "source": [
    "df_merge <- df_merge %>% arrange(\n",
    "  desc(DTU_tx_nPatients_1), desc(DTU_gene_nPatients), desc(max_in_allpatients), desc(abs(`max(Stem/TA-like-Stem/TA)`)), tx_fdr\n",
    ")"
   ]
  },
  {
   "cell_type": "code",
   "execution_count": 134,
   "metadata": {},
   "outputs": [],
   "source": [
    "write.table(df_merge, file = \"04_DTU_tx_CDS_Pfam.txt\", sep = \"\\t\", quote = F, row.names = F)"
   ]
  },
  {
   "cell_type": "markdown",
   "metadata": {},
   "source": [
    "## CDS change"
   ]
  },
  {
   "cell_type": "code",
   "execution_count": 29,
   "metadata": {},
   "outputs": [],
   "source": [
    "df_merge <- read.table(file = \"04_DTU_tx_CDS_Pfam.txt\", sep = \"\\t\", header = T, check.names = F)"
   ]
  },
  {
   "cell_type": "code",
   "execution_count": null,
   "metadata": {},
   "outputs": [
    {
     "data": {
      "text/html": [
       "<table class=\"dataframe\">\n",
       "<caption>A data.frame: 4 × 31</caption>\n",
       "<thead>\n",
       "\t<tr><th></th><th scope=col>GeneName</th><th scope=col>TranName</th><th scope=col>patient</th><th scope=col>ave_tx_Prop_stemTAlike_minus_stemTA</th><th scope=col>max_in_allpatients</th><th scope=col>max(Stem/TA-like-Stem/TA)</th><th scope=col>DTU_tx_nPatients</th><th scope=col>DTU_gene_nPatients</th><th scope=col>tx_fdr</th><th scope=col>gene_qvalue</th><th scope=col>⋯</th><th scope=col>P_ave_tx_Prop_stemTAlike_minus_stemTA</th><th scope=col>DTU_tx_nPatients_1</th><th scope=col>cluster</th><th scope=col>cds_diff_len</th><th scope=col>cds_diff_exons</th><th scope=col>cds_diff_pfam_len</th><th scope=col>pfam_protein_1</th><th scope=col>pfam_protein_2</th><th scope=col>pfam_protein_1_numbers</th><th scope=col>pfam_protein_2_numbers</th></tr>\n",
       "\t<tr><th></th><th scope=col>&lt;chr&gt;</th><th scope=col>&lt;chr&gt;</th><th scope=col>&lt;chr&gt;</th><th scope=col>&lt;dbl&gt;</th><th scope=col>&lt;dbl&gt;</th><th scope=col>&lt;dbl&gt;</th><th scope=col>&lt;int&gt;</th><th scope=col>&lt;int&gt;</th><th scope=col>&lt;dbl&gt;</th><th scope=col>&lt;dbl&gt;</th><th scope=col>⋯</th><th scope=col>&lt;dbl&gt;</th><th scope=col>&lt;int&gt;</th><th scope=col>&lt;chr&gt;</th><th scope=col>&lt;int&gt;</th><th scope=col>&lt;int&gt;</th><th scope=col>&lt;int&gt;</th><th scope=col>&lt;chr&gt;</th><th scope=col>&lt;chr&gt;</th><th scope=col>&lt;int&gt;</th><th scope=col>&lt;int&gt;</th></tr>\n",
       "</thead>\n",
       "<tbody>\n",
       "\t<tr><th scope=row>1</th><td>SLC25A22</td><td>SLC25A22-201</td><td>CRC07</td><td>-0.375</td><td>0.5944898</td><td>-0.3930141</td><td>4</td><td>4</td><td>0</td><td>0.01860190</td><td>⋯</td><td>-0.366</td><td>2</td><td>Stem/TA     </td><td>NA</td><td>NA</td><td>NA</td><td>NA</td><td>NA</td><td>NA</td><td>NA</td></tr>\n",
       "\t<tr><th scope=row>2</th><td>SLC25A22</td><td>SLC25A22-228</td><td>CRC07</td><td> 0.375</td><td>0.5944898</td><td>-0.3930141</td><td>4</td><td>4</td><td>0</td><td>0.01860190</td><td>⋯</td><td> 0.366</td><td>2</td><td>Stem/TA-like</td><td>NA</td><td>NA</td><td>NA</td><td>NA</td><td>NA</td><td>NA</td><td>NA</td></tr>\n",
       "\t<tr><th scope=row>3</th><td>SLC25A22</td><td>SLC25A22-228</td><td>CRC10</td><td> 0.357</td><td>0.5944898</td><td>-0.2945259</td><td>4</td><td>4</td><td>0</td><td>0.03874157</td><td>⋯</td><td> 0.366</td><td>2</td><td>Stem/TA-like</td><td>NA</td><td>NA</td><td>NA</td><td>NA</td><td>NA</td><td>NA</td><td>NA</td></tr>\n",
       "\t<tr><th scope=row>4</th><td>SLC25A22</td><td>SLC25A22-201</td><td>CRC10</td><td>-0.357</td><td>0.5944898</td><td>-0.2945259</td><td>4</td><td>4</td><td>0</td><td>0.03874157</td><td>⋯</td><td>-0.366</td><td>2</td><td>Stem/TA     </td><td>NA</td><td>NA</td><td>NA</td><td>NA</td><td>NA</td><td>NA</td><td>NA</td></tr>\n",
       "</tbody>\n",
       "</table>\n"
      ],
      "text/latex": [
       "A data.frame: 4 × 31\n",
       "\\begin{tabular}{r|lllllllllllllllllllll}\n",
       "  & GeneName & TranName & patient & ave\\_tx\\_Prop\\_stemTAlike\\_minus\\_stemTA & max\\_in\\_allpatients & max(Stem/TA-like-Stem/TA) & DTU\\_tx\\_nPatients & DTU\\_gene\\_nPatients & tx\\_fdr & gene\\_qvalue & ⋯ & P\\_ave\\_tx\\_Prop\\_stemTAlike\\_minus\\_stemTA & DTU\\_tx\\_nPatients\\_1 & cluster & cds\\_diff\\_len & cds\\_diff\\_exons & cds\\_diff\\_pfam\\_len & pfam\\_protein\\_1 & pfam\\_protein\\_2 & pfam\\_protein\\_1\\_numbers & pfam\\_protein\\_2\\_numbers\\\\\n",
       "  & <chr> & <chr> & <chr> & <dbl> & <dbl> & <dbl> & <int> & <int> & <dbl> & <dbl> & ⋯ & <dbl> & <int> & <chr> & <int> & <int> & <int> & <chr> & <chr> & <int> & <int>\\\\\n",
       "\\hline\n",
       "\t1 & SLC25A22 & SLC25A22-201 & CRC07 & -0.375 & 0.5944898 & -0.3930141 & 4 & 4 & 0 & 0.01860190 & ⋯ & -0.366 & 2 & Stem/TA      & NA & NA & NA & NA & NA & NA & NA\\\\\n",
       "\t2 & SLC25A22 & SLC25A22-228 & CRC07 &  0.375 & 0.5944898 & -0.3930141 & 4 & 4 & 0 & 0.01860190 & ⋯ &  0.366 & 2 & Stem/TA-like & NA & NA & NA & NA & NA & NA & NA\\\\\n",
       "\t3 & SLC25A22 & SLC25A22-228 & CRC10 &  0.357 & 0.5944898 & -0.2945259 & 4 & 4 & 0 & 0.03874157 & ⋯ &  0.366 & 2 & Stem/TA-like & NA & NA & NA & NA & NA & NA & NA\\\\\n",
       "\t4 & SLC25A22 & SLC25A22-201 & CRC10 & -0.357 & 0.5944898 & -0.2945259 & 4 & 4 & 0 & 0.03874157 & ⋯ & -0.366 & 2 & Stem/TA      & NA & NA & NA & NA & NA & NA & NA\\\\\n",
       "\\end{tabular}\n"
      ],
      "text/markdown": [
       "\n",
       "A data.frame: 4 × 31\n",
       "\n",
       "| <!--/--> | GeneName &lt;chr&gt; | TranName &lt;chr&gt; | patient &lt;chr&gt; | ave_tx_Prop_stemTAlike_minus_stemTA &lt;dbl&gt; | max_in_allpatients &lt;dbl&gt; | max(Stem/TA-like-Stem/TA) &lt;dbl&gt; | DTU_tx_nPatients &lt;int&gt; | DTU_gene_nPatients &lt;int&gt; | tx_fdr &lt;dbl&gt; | gene_qvalue &lt;dbl&gt; | ⋯ ⋯ | P_ave_tx_Prop_stemTAlike_minus_stemTA &lt;dbl&gt; | DTU_tx_nPatients_1 &lt;int&gt; | cluster &lt;chr&gt; | cds_diff_len &lt;int&gt; | cds_diff_exons &lt;int&gt; | cds_diff_pfam_len &lt;int&gt; | pfam_protein_1 &lt;chr&gt; | pfam_protein_2 &lt;chr&gt; | pfam_protein_1_numbers &lt;int&gt; | pfam_protein_2_numbers &lt;int&gt; |\n",
       "|---|---|---|---|---|---|---|---|---|---|---|---|---|---|---|---|---|---|---|---|---|---|\n",
       "| 1 | SLC25A22 | SLC25A22-201 | CRC07 | -0.375 | 0.5944898 | -0.3930141 | 4 | 4 | 0 | 0.01860190 | ⋯ | -0.366 | 2 | Stem/TA      | NA | NA | NA | NA | NA | NA | NA |\n",
       "| 2 | SLC25A22 | SLC25A22-228 | CRC07 |  0.375 | 0.5944898 | -0.3930141 | 4 | 4 | 0 | 0.01860190 | ⋯ |  0.366 | 2 | Stem/TA-like | NA | NA | NA | NA | NA | NA | NA |\n",
       "| 3 | SLC25A22 | SLC25A22-228 | CRC10 |  0.357 | 0.5944898 | -0.2945259 | 4 | 4 | 0 | 0.03874157 | ⋯ |  0.366 | 2 | Stem/TA-like | NA | NA | NA | NA | NA | NA | NA |\n",
       "| 4 | SLC25A22 | SLC25A22-201 | CRC10 | -0.357 | 0.5944898 | -0.2945259 | 4 | 4 | 0 | 0.03874157 | ⋯ | -0.366 | 2 | Stem/TA      | NA | NA | NA | NA | NA | NA | NA |\n",
       "\n"
      ],
      "text/plain": [
       "  GeneName TranName     patient ave_tx_Prop_stemTAlike_minus_stemTA\n",
       "1 SLC25A22 SLC25A22-201 CRC07   -0.375                             \n",
       "2 SLC25A22 SLC25A22-228 CRC07    0.375                             \n",
       "3 SLC25A22 SLC25A22-228 CRC10    0.357                             \n",
       "4 SLC25A22 SLC25A22-201 CRC10   -0.357                             \n",
       "  max_in_allpatients max(Stem/TA-like-Stem/TA) DTU_tx_nPatients\n",
       "1 0.5944898          -0.3930141                4               \n",
       "2 0.5944898          -0.3930141                4               \n",
       "3 0.5944898          -0.2945259                4               \n",
       "4 0.5944898          -0.2945259                4               \n",
       "  DTU_gene_nPatients tx_fdr gene_qvalue ⋯ P_ave_tx_Prop_stemTAlike_minus_stemTA\n",
       "1 4                  0      0.01860190  ⋯ -0.366                               \n",
       "2 4                  0      0.01860190  ⋯  0.366                               \n",
       "3 4                  0      0.03874157  ⋯  0.366                               \n",
       "4 4                  0      0.03874157  ⋯ -0.366                               \n",
       "  DTU_tx_nPatients_1 cluster      cds_diff_len cds_diff_exons cds_diff_pfam_len\n",
       "1 2                  Stem/TA      NA           NA             NA               \n",
       "2 2                  Stem/TA-like NA           NA             NA               \n",
       "3 2                  Stem/TA-like NA           NA             NA               \n",
       "4 2                  Stem/TA      NA           NA             NA               \n",
       "  pfam_protein_1 pfam_protein_2 pfam_protein_1_numbers pfam_protein_2_numbers\n",
       "1 NA             NA             NA                     NA                    \n",
       "2 NA             NA             NA                     NA                    \n",
       "3 NA             NA             NA                     NA                    \n",
       "4 NA             NA             NA                     NA                    "
      ]
     },
     "metadata": {},
     "output_type": "display_data"
    }
   ],
   "source": [
    "head(df_merge %>% filter(GeneName %in% \"SLC25A22\"))"
   ]
  },
  {
   "cell_type": "code",
   "execution_count": 135,
   "metadata": {},
   "outputs": [],
   "source": [
    "df_dtu <- df_merge %>% dplyr::distinct(GeneName, .keep_all = TRUE)\n",
    "df_dtu <- as.data.frame(table(df_dtu$patient))\n",
    "colnames(df_dtu) <- c(\"patient\", \"DTU_genes\")"
   ]
  },
  {
   "cell_type": "code",
   "execution_count": 136,
   "metadata": {},
   "outputs": [],
   "source": [
    "df_cds <- df_merge[!is.na(df_merge$cds_diff_exons), ] %>% dplyr::distinct(GeneName, .keep_all = TRUE)\n",
    "df_cds <- df_cds[which(df_cds$cds_diff_len >= 20), ]\n",
    "df_cds <- as.data.frame(table(df_cds$patient))\n",
    "colnames(df_cds) <- c(\"patient\", \"CDS_genes\")"
   ]
  },
  {
   "cell_type": "code",
   "execution_count": 137,
   "metadata": {},
   "outputs": [],
   "source": [
    "df_pfam <- df_merge[!is.na(df_merge$cds_diff_pfam_len), ] %>% dplyr::distinct(GeneName, .keep_all = TRUE)\n",
    "df_pfam <- df_pfam[which(df_pfam$cds_diff_len >= 20), ]\n",
    "df_pfam <- as.data.frame(table(df_pfam$patient))\n",
    "colnames(df_pfam) <- c(\"patient\", \"Pfam_genes\")"
   ]
  },
  {
   "cell_type": "code",
   "execution_count": 138,
   "metadata": {},
   "outputs": [
    {
     "data": {
      "text/html": [
       "0.500246028860658"
      ],
      "text/latex": [
       "0.500246028860658"
      ],
      "text/markdown": [
       "0.500246028860658"
      ],
      "text/plain": [
       "[1] 0.500246"
      ]
     },
     "metadata": {},
     "output_type": "display_data"
    },
    {
     "data": {
      "text/html": [
       "0.706713647567964"
      ],
      "text/latex": [
       "0.706713647567964"
      ],
      "text/markdown": [
       "0.706713647567964"
      ],
      "text/plain": [
       "[1] 0.7067136"
      ]
     },
     "metadata": {},
     "output_type": "display_data"
    },
    {
     "data": {
      "text/html": [
       "<table class=\"dataframe\">\n",
       "<caption>A data.frame: 12 × 4</caption>\n",
       "<thead>\n",
       "\t<tr><th scope=col>patient</th><th scope=col>DTU_genes</th><th scope=col>CDS_genes</th><th scope=col>Pfam_genes</th></tr>\n",
       "\t<tr><th scope=col>&lt;fct&gt;</th><th scope=col>&lt;int&gt;</th><th scope=col>&lt;int&gt;</th><th scope=col>&lt;int&gt;</th></tr>\n",
       "</thead>\n",
       "<tbody>\n",
       "\t<tr><td>CRC01  </td><td>207</td><td>114</td><td> 79</td></tr>\n",
       "\t<tr><td>CRC02  </td><td> 29</td><td> 13</td><td>  7</td></tr>\n",
       "\t<tr><td>CRC03  </td><td> 78</td><td> 33</td><td> 26</td></tr>\n",
       "\t<tr><td>CRC04  </td><td>170</td><td> 83</td><td> 61</td></tr>\n",
       "\t<tr><td>CRC05  </td><td>213</td><td>116</td><td> 84</td></tr>\n",
       "\t<tr><td>CRC07  </td><td>150</td><td> 94</td><td> 67</td></tr>\n",
       "\t<tr><td>CRC08  </td><td> 30</td><td> 17</td><td> 10</td></tr>\n",
       "\t<tr><td>CRC09  </td><td> 53</td><td> 26</td><td> 19</td></tr>\n",
       "\t<tr><td>CRC10  </td><td>355</td><td>171</td><td>119</td></tr>\n",
       "\t<tr><td>HTCRC01</td><td>112</td><td> 46</td><td> 35</td></tr>\n",
       "\t<tr><td>HTCRC04</td><td>513</td><td>299</td><td>239</td></tr>\n",
       "\t<tr><td>HTCRC05</td><td> 36</td><td> 14</td><td> 10</td></tr>\n",
       "</tbody>\n",
       "</table>\n"
      ],
      "text/latex": [
       "A data.frame: 12 × 4\n",
       "\\begin{tabular}{llll}\n",
       " patient & DTU\\_genes & CDS\\_genes & Pfam\\_genes\\\\\n",
       " <fct> & <int> & <int> & <int>\\\\\n",
       "\\hline\n",
       "\t CRC01   & 207 & 114 &  79\\\\\n",
       "\t CRC02   &  29 &  13 &   7\\\\\n",
       "\t CRC03   &  78 &  33 &  26\\\\\n",
       "\t CRC04   & 170 &  83 &  61\\\\\n",
       "\t CRC05   & 213 & 116 &  84\\\\\n",
       "\t CRC07   & 150 &  94 &  67\\\\\n",
       "\t CRC08   &  30 &  17 &  10\\\\\n",
       "\t CRC09   &  53 &  26 &  19\\\\\n",
       "\t CRC10   & 355 & 171 & 119\\\\\n",
       "\t HTCRC01 & 112 &  46 &  35\\\\\n",
       "\t HTCRC04 & 513 & 299 & 239\\\\\n",
       "\t HTCRC05 &  36 &  14 &  10\\\\\n",
       "\\end{tabular}\n"
      ],
      "text/markdown": [
       "\n",
       "A data.frame: 12 × 4\n",
       "\n",
       "| patient &lt;fct&gt; | DTU_genes &lt;int&gt; | CDS_genes &lt;int&gt; | Pfam_genes &lt;int&gt; |\n",
       "|---|---|---|---|\n",
       "| CRC01   | 207 | 114 |  79 |\n",
       "| CRC02   |  29 |  13 |   7 |\n",
       "| CRC03   |  78 |  33 |  26 |\n",
       "| CRC04   | 170 |  83 |  61 |\n",
       "| CRC05   | 213 | 116 |  84 |\n",
       "| CRC07   | 150 |  94 |  67 |\n",
       "| CRC08   |  30 |  17 |  10 |\n",
       "| CRC09   |  53 |  26 |  19 |\n",
       "| CRC10   | 355 | 171 | 119 |\n",
       "| HTCRC01 | 112 |  46 |  35 |\n",
       "| HTCRC04 | 513 | 299 | 239 |\n",
       "| HTCRC05 |  36 |  14 |  10 |\n",
       "\n"
      ],
      "text/plain": [
       "   patient DTU_genes CDS_genes Pfam_genes\n",
       "1  CRC01   207       114        79       \n",
       "2  CRC02    29        13         7       \n",
       "3  CRC03    78        33        26       \n",
       "4  CRC04   170        83        61       \n",
       "5  CRC05   213       116        84       \n",
       "6  CRC07   150        94        67       \n",
       "7  CRC08    30        17        10       \n",
       "8  CRC09    53        26        19       \n",
       "9  CRC10   355       171       119       \n",
       "10 HTCRC01 112        46        35       \n",
       "11 HTCRC04 513       299       239       \n",
       "12 HTCRC05  36        14        10       "
      ]
     },
     "metadata": {},
     "output_type": "display_data"
    }
   ],
   "source": [
    "df_freq <- merge(merge(df_dtu, df_cds, by = \"patient\"), df_pfam, by = \"patient\")\n",
    "mean(df_freq$CDS_genes / df_freq$DTU_genes)\n",
    "mean(df_freq$Pfam_genes / df_freq$CDS_genes)\n",
    "df_freq"
   ]
  },
  {
   "cell_type": "code",
   "execution_count": 139,
   "metadata": {},
   "outputs": [],
   "source": [
    "df_freq$DTU_genes <- df_freq$DTU_genes - df_freq$CDS_genes\n",
    "df_freq$CDS_genes <- df_freq$CDS_genes - df_freq$Pfam_genes"
   ]
  },
  {
   "cell_type": "code",
   "execution_count": 140,
   "metadata": {
    "lines_to_next_cell": 2
   },
   "outputs": [],
   "source": [
    "df_freq <- melt(df_freq, id = c(\"patient\"))\n",
    "colnames(df_freq) <- c(\"patient\", \"class\", \"count\")"
   ]
  },
  {
   "cell_type": "code",
   "execution_count": 141,
   "metadata": {},
   "outputs": [
    {
     "data": {
      "image/png": "[encoded data removed]",
      "text/plain": [
       "plot without title"
      ]
     },
     "metadata": {
      "image/png": {
       "height": 420,
       "width": 420
      }
     },
     "output_type": "display_data"
    }
   ],
   "source": [
    "ggplot(df_freq, aes(x = patient, y = count, fill = class, group = class)) +\n",
    "  geom_bar(stat = \"identity\", width = 0.75) +\n",
    "  scale_fill_manual(values = c(\"#bcbddc\", \"#807DBA\", \"#6A51A3\")) +\n",
    "  mytheme +\n",
    "  theme(aspect.ratio = 1, axis.text.x = element_text(angle = 45, hjust = 0.6, vjust = 0.7), legend.position = \"top\")\n",
    "ggsave(file = \"04_Venn_barplot_DTUgenes_cds_pfam.pdf\", width = 5, height = 4)"
   ]
  },
  {
   "cell_type": "code",
   "execution_count": 142,
   "metadata": {
    "lines_to_next_cell": 2
   },
   "outputs": [
    {
     "data": {
      "text/html": [
       "<style>\n",
       ".list-inline {list-style: none; margin:0; padding: 0}\n",
       ".list-inline>li {display: inline-block}\n",
       ".list-inline>li:not(:last-child)::after {content: \"\\00b7\"; padding: 0 .5ex}\n",
       "</style>\n",
       "<ol class=list-inline><li>1611</li><li>9</li></ol>\n"
      ],
      "text/latex": [
       "\\begin{enumerate*}\n",
       "\\item 1611\n",
       "\\item 9\n",
       "\\end{enumerate*}\n"
      ],
      "text/markdown": [
       "1. 1611\n",
       "2. 9\n",
       "\n",
       "\n"
      ],
      "text/plain": [
       "[1] 1611    9"
      ]
     },
     "metadata": {},
     "output_type": "display_data"
    }
   ],
   "source": [
    "df_cds_len <- df_merge[which(df_merge$cds_diff_len >= 20), c(\"GeneName\", \"patient\", \"cds_diff_len\", \"cds_diff_exons\", \"cds_diff_pfam_len\", \"pfam_protein_1\", \"pfam_protein_2\", \"pfam_protein_1_numbers\", \"pfam_protein_2_numbers\")]\n",
    "df_cds_len <- df_cds_len[!duplicated(df_cds_len), ]\n",
    "dim(df_cds_len)"
   ]
  },
  {
   "cell_type": "code",
   "execution_count": 143,
   "metadata": {},
   "outputs": [
    {
     "data": {
      "text/plain": [
       "   Min. 1st Qu.  Median    Mean 3rd Qu.    Max. \n",
       "   21.0   156.0   445.0   885.7  1188.5 17433.0 "
      ]
     },
     "metadata": {},
     "output_type": "display_data"
    },
    {
     "data": {
      "text/plain": [
       "   Min. 1st Qu.  Median    Mean 3rd Qu.    Max. \n",
       "  1.000   2.000   3.000   6.032   8.000  55.000 "
      ]
     },
     "metadata": {},
     "output_type": "display_data"
    }
   ],
   "source": [
    "summary(df_cds_len$cds_diff_len)\n",
    "summary(df_cds_len$cds_diff_exons)"
   ]
  },
  {
   "cell_type": "code",
   "execution_count": 145,
   "metadata": {},
   "outputs": [
    {
     "data": {
      "image/png": "[encoded data removed]",
      "text/plain": [
       "plot without title"
      ]
     },
     "metadata": {
      "image/png": {
       "height": 420,
       "width": 420
      }
     },
     "output_type": "display_data"
    }
   ],
   "source": [
    "ggplot(df_cds_len, aes(x = log2(cds_diff_len + 1))) +\n",
    "  geom_histogram(color = \"white\", fill = \"#807DBA\", bins = 15) + # geom_vline(xintercept = log2(50 + 1), linetype = \"dashed\", color = \"gray\") +\n",
    "  labs(x = \"log2(Differential CDS length + 1)\", y = \"No. of genes\", title = \"Mean=886 bp, Median=445 bp\") +\n",
    "  mytheme +\n",
    "  theme(aspect.ratio = 1)\n",
    "ggsave(file = \"04_diff_CDS_length.pdf\", width = 5, height = 4)"
   ]
  },
  {
   "cell_type": "code",
   "execution_count": 149,
   "metadata": {},
   "outputs": [
    {
     "data": {
      "image/png": "[encoded data removed]",
      "text/plain": [
       "plot without title"
      ]
     },
     "metadata": {
      "image/png": {
       "height": 420,
       "width": 420
      }
     },
     "output_type": "display_data"
    }
   ],
   "source": [
    "ggplot(df_cds_len, aes(x = log2(cds_diff_exons + 1))) +\n",
    "  geom_histogram(color = \"white\", fill = \"#807DBA\", bins = 14) + # geom_vline(xintercept = log2(50 + 1), linetype = \"dashed\", color = \"gray\") +\n",
    "  labs(x = \"log2(No. of differential exons + 1)\", y = \"No. of genes\", title = \"Mean=6 exons, Median=3 exons\") +\n",
    "  ylim(0, 380) +\n",
    "  mytheme +\n",
    "  theme(aspect.ratio = 1)\n",
    "ggsave(file = \"04_diff_CDS_exons.pdf\", width = 5, height = 4)"
   ]
  },
  {
   "cell_type": "code",
   "execution_count": 150,
   "metadata": {},
   "outputs": [
    {
     "data": {
      "text/html": [
       "<style>\n",
       ".list-inline {list-style: none; margin:0; padding: 0}\n",
       ".list-inline>li {display: inline-block}\n",
       ".list-inline>li:not(:last-child)::after {content: \"\\00b7\"; padding: 0 .5ex}\n",
       "</style>\n",
       "<ol class=list-inline><li>1611</li><li>9</li></ol>\n"
      ],
      "text/latex": [
       "\\begin{enumerate*}\n",
       "\\item 1611\n",
       "\\item 9\n",
       "\\end{enumerate*}\n"
      ],
      "text/markdown": [
       "1. 1611\n",
       "2. 9\n",
       "\n",
       "\n"
      ],
      "text/plain": [
       "[1] 1611    9"
      ]
     },
     "metadata": {},
     "output_type": "display_data"
    }
   ],
   "source": [
    "df_pfam_len <- df_merge[which(df_merge$cds_diff_len >= 20), c(\"GeneName\", \"patient\", \"cds_diff_len\", \"cds_diff_exons\", \"cds_diff_pfam_len\", \"pfam_protein_1\", \"pfam_protein_2\", \"pfam_protein_1_numbers\", \"pfam_protein_2_numbers\")]\n",
    "df_pfam_len <- df_pfam_len[!duplicated(df_pfam_len), ]\n",
    "dim(df_pfam_len)"
   ]
  },
  {
   "cell_type": "code",
   "execution_count": 151,
   "metadata": {},
   "outputs": [
    {
     "data": {
      "text/plain": [
       "   Min. 1st Qu.  Median    Mean 3rd Qu.    Max.    NA's \n",
       "  1.000   1.000   1.000   1.828   2.000   9.000     445 "
      ]
     },
     "metadata": {},
     "output_type": "display_data"
    },
    {
     "data": {
      "text/plain": [
       "   Min. 1st Qu.  Median    Mean 3rd Qu.    Max.    NA's \n",
       "  1.000   1.000   1.000   2.244   2.000  39.000     445 "
      ]
     },
     "metadata": {},
     "output_type": "display_data"
    }
   ],
   "source": [
    "summary(df_pfam_len$pfam_protein_1_numbers)\n",
    "summary(df_pfam_len$pfam_protein_2_numbers)"
   ]
  },
  {
   "cell_type": "code",
   "execution_count": 152,
   "metadata": {},
   "outputs": [
    {
     "data": {
      "image/png": "[encoded data removed]",
      "text/plain": [
       "plot without title"
      ]
     },
     "metadata": {
      "image/png": {
       "height": 420,
       "width": 420
      }
     },
     "output_type": "display_data"
    }
   ],
   "source": [
    "ggplot(df_cds_len %>% filter(pfam_protein_2_numbers <= 10), aes(x = pfam_protein_2_numbers)) +\n",
    "  geom_histogram(color = \"white\", fill = \"#6a51a3\", bins = 10) + # geom_vline(xintercept = log2(50 + 1), linetype = \"dashed\", color = \"gray\") +\n",
    "  labs(x = \"No. of protein domains)\", y = \"No. of genes\", title = \"Mean=2 protein domains, Median=1 protein domains\") +\n",
    "  mytheme +\n",
    "  theme(aspect.ratio = 1)\n",
    "ggsave(file = \"04_diff_CDS_Pfam.pdf\", width = 5, height = 4)"
   ]
  },
  {
   "cell_type": "code",
   "execution_count": null,
   "metadata": {},
   "outputs": [],
   "source": []
  }
 ],
 "metadata": {
  "jupytext": {
   "encoding": "# -*- coding: utf-8 -*-"
  },
  "kernelspec": {
   "display_name": "R",
   "language": "R",
   "name": "ir"
  },
  "language_info": {
   "codemirror_mode": "r",
   "file_extension": ".r",
   "mimetype": "text/x-r-source",
   "name": "R",
   "pygments_lexer": "r",
   "version": "4.2.2"
  },
  "toc-autonumbering": true
 },
 "nbformat": 4,
 "nbformat_minor": 4
}
